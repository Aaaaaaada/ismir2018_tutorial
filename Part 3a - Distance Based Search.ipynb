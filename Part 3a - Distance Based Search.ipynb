{
 "cells": [
  {
   "cell_type": "markdown",
   "metadata": {},
   "source": [
    "# Finding Similar Songs - Part 1: Distance Based Search\n",
    "\n",
    "The first part of this tutorial series demonstrates a distance based similarity search approach, based on extracted content descriptors and distance metrics. \n",
    "\n",
    "## Part 1 - Overview\n",
    "\n",
    "1. Introductions & Requirements\n",
    "2. Loading data\n",
    "3. Preprocess data\n",
    "4. Define the Similarity Model\n",
    "5. Optimize the Model\n",
    "\n",
    "# Short Introduction to Music Similarity Retrieval\n",
    "\n",
    "The objective of Music Similarity estimation or retrieval is to estimate the notion of similarity between two given tracks. A central part of such an approaches is the definition of a measure for similarity which is further affected by the approach taken to extract the relevant information. One approach is to analyze contextual data such as user generated listening behaviour data (e.g. play/skip-counts, user-tags, ratings, etc.). The approach followed by this tutorial is based on the music content itself and largely focuses on the notion of *acoustic similarity*. Music features are extracted from the audio content. The resulting music descriptors are high-dimensional numeric vectors and the accumulation of all feature vectors of a collection forms a vector-space. The general principle of content based similarity estimations is based on the assumption that numerical differences are an expression of perceptual dissimilarity. Different metrics such as the Manhattan (L1) or the Euclidean Distance (L2) or non-metric similarity functions such as the Kullback-Leibler divergence are used to estimate the numerical similarity of the feature vectors."
   ]
  },
  {
   "cell_type": "markdown",
   "metadata": {},
   "source": [
    "# Requirements\n",
    "\n",
    "Please follow the instructions on the tutorial's Github page to install the following dependencies to run this tutorial:"
   ]
  },
  {
   "cell_type": "code",
   "execution_count": 200,
   "metadata": {
    "ExecuteTime": {
     "end_time": "2017-08-24T10:20:32.488000Z",
     "start_time": "2017-08-24T10:20:32.483000Z"
    }
   },
   "outputs": [],
   "source": [
    "# visualization\n",
    "%matplotlib inline\n",
    "import matplotlib\n",
    "import matplotlib.pyplot as plt\n",
    "matplotlib.style.use('ggplot')\n",
    "\n",
    "# numeric and scientific processing\n",
    "import numpy as np\n",
    "import pandas as pd\n",
    "\n",
    "# misc\n",
    "import os\n",
    "import progressbar"
   ]
  },
  {
   "cell_type": "markdown",
   "metadata": {},
   "source": [
    "# Loading Data\n",
    "\n",
    "Before we can train our models we first have to get some data."
   ]
  },
  {
   "cell_type": "code",
   "execution_count": 201,
   "metadata": {},
   "outputs": [],
   "source": [
    "DATASET_PATH    = \"D:/Research/Data/MIR/MagnaTagATune\"\n",
    "\n",
    "METADATA_PATH   = \"%s/metadata\" % DATASET_PATH\n",
    "AUTIO_ROOT_PATH = \"%s/mp3_full\" % DATASET_PATH"
   ]
  },
  {
   "cell_type": "markdown",
   "metadata": {},
   "source": [
    "## Load Feature Data"
   ]
  },
  {
   "cell_type": "code",
   "execution_count": 202,
   "metadata": {},
   "outputs": [],
   "source": [
    "with np.load(\"%s/ISMIR2018_tut_Magnagtagatune_rp_features.npz\" % DATASET_PATH) as npz:\n",
    "    features_rp   = npz[\"rp\"]\n",
    "    features_ssd  = npz[\"ssd\"]\n",
    "    clip_id       = npz[\"clip_id\"]"
   ]
  },
  {
   "cell_type": "markdown",
   "metadata": {},
   "source": [
    "## Load Metadata"
   ]
  },
  {
   "cell_type": "code",
   "execution_count": 203,
   "metadata": {},
   "outputs": [
    {
     "data": {
      "text/html": [
       "<div>\n",
       "<style scoped>\n",
       "    .dataframe tbody tr th:only-of-type {\n",
       "        vertical-align: middle;\n",
       "    }\n",
       "\n",
       "    .dataframe tbody tr th {\n",
       "        vertical-align: top;\n",
       "    }\n",
       "\n",
       "    .dataframe thead th {\n",
       "        text-align: right;\n",
       "    }\n",
       "</style>\n",
       "<table border=\"1\" class=\"dataframe\">\n",
       "  <thead>\n",
       "    <tr style=\"text-align: right;\">\n",
       "      <th></th>\n",
       "      <th>clip_id</th>\n",
       "      <th>mp3_path</th>\n",
       "      <th>track_number</th>\n",
       "      <th>title</th>\n",
       "      <th>artist</th>\n",
       "      <th>album</th>\n",
       "      <th>url</th>\n",
       "      <th>segmentStart</th>\n",
       "      <th>segmentEnd</th>\n",
       "      <th>original_url</th>\n",
       "    </tr>\n",
       "  </thead>\n",
       "  <tbody>\n",
       "    <tr>\n",
       "      <th>19200</th>\n",
       "      <td>42150</td>\n",
       "      <td>D:/Research/Data/MIR/MagnaTagATune/mp3_full/f/...</td>\n",
       "      <td>10</td>\n",
       "      <td>Bethena</td>\n",
       "      <td>Professor Armchair</td>\n",
       "      <td>Too Much Mustard</td>\n",
       "      <td>http://www.magnatune.com/artists/albums/armcha...</td>\n",
       "      <td>117</td>\n",
       "      <td>146</td>\n",
       "      <td>http://he3.magnatune.com/all/10-Bethena-Profes...</td>\n",
       "    </tr>\n",
       "    <tr>\n",
       "      <th>7745</th>\n",
       "      <td>16994</td>\n",
       "      <td>D:/Research/Data/MIR/MagnaTagATune/mp3_full/c/...</td>\n",
       "      <td>4</td>\n",
       "      <td>Close</td>\n",
       "      <td>Liquid Zen</td>\n",
       "      <td>Seventythree</td>\n",
       "      <td>http://www.magnatune.com/artists/albums/liquid...</td>\n",
       "      <td>262</td>\n",
       "      <td>291</td>\n",
       "      <td>http://he3.magnatune.com/all/04-Close%20-%20Li...</td>\n",
       "    </tr>\n",
       "    <tr>\n",
       "      <th>25416</th>\n",
       "      <td>57455</td>\n",
       "      <td>D:/Research/Data/MIR/MagnaTagATune/mp3_full/6/...</td>\n",
       "      <td>23</td>\n",
       "      <td>Sonata VI Allegro</td>\n",
       "      <td>Doc Rossi</td>\n",
       "      <td>Demarzi-6 Sonatas for Cetra o Kitara</td>\n",
       "      <td>http://www.magnatune.com/artists/albums/rossi-...</td>\n",
       "      <td>59</td>\n",
       "      <td>88</td>\n",
       "      <td>http://he3.magnatune.com/all/23-Sonata%20VI%20...</td>\n",
       "    </tr>\n",
       "    <tr>\n",
       "      <th>613</th>\n",
       "      <td>1473</td>\n",
       "      <td>D:/Research/Data/MIR/MagnaTagATune/mp3_full/b/...</td>\n",
       "      <td>1</td>\n",
       "      <td>Eroica 1st</td>\n",
       "      <td>Philharmonia Baroque</td>\n",
       "      <td>Beethoven Symphonies No 3 Eroica and No 8</td>\n",
       "      <td>http://www.magnatune.com/artists/albums/pb-ero...</td>\n",
       "      <td>117</td>\n",
       "      <td>146</td>\n",
       "      <td>http://he3.magnatune.com/all/01-Eroica%201st-P...</td>\n",
       "    </tr>\n",
       "    <tr>\n",
       "      <th>15095</th>\n",
       "      <td>33011</td>\n",
       "      <td>D:/Research/Data/MIR/MagnaTagATune/mp3_full/0/...</td>\n",
       "      <td>7</td>\n",
       "      <td>Ring around the rosey</td>\n",
       "      <td>Barbara Leoni</td>\n",
       "      <td>Human Needs</td>\n",
       "      <td>http://www.magnatune.com/artists/albums/leoni-...</td>\n",
       "      <td>88</td>\n",
       "      <td>117</td>\n",
       "      <td>http://he3.magnatune.com/all/07-Ring%20around%...</td>\n",
       "    </tr>\n",
       "  </tbody>\n",
       "</table>\n",
       "</div>"
      ],
      "text/plain": [
       "       clip_id                                           mp3_path  \\\n",
       "19200    42150  D:/Research/Data/MIR/MagnaTagATune/mp3_full/f/...   \n",
       "7745     16994  D:/Research/Data/MIR/MagnaTagATune/mp3_full/c/...   \n",
       "25416    57455  D:/Research/Data/MIR/MagnaTagATune/mp3_full/6/...   \n",
       "613       1473  D:/Research/Data/MIR/MagnaTagATune/mp3_full/b/...   \n",
       "15095    33011  D:/Research/Data/MIR/MagnaTagATune/mp3_full/0/...   \n",
       "\n",
       "       track_number                  title                artist  \\\n",
       "19200            10                Bethena    Professor Armchair   \n",
       "7745              4                  Close            Liquid Zen   \n",
       "25416            23      Sonata VI Allegro             Doc Rossi   \n",
       "613               1             Eroica 1st  Philharmonia Baroque   \n",
       "15095             7  Ring around the rosey         Barbara Leoni   \n",
       "\n",
       "                                           album  \\\n",
       "19200                           Too Much Mustard   \n",
       "7745                                Seventythree   \n",
       "25416       Demarzi-6 Sonatas for Cetra o Kitara   \n",
       "613    Beethoven Symphonies No 3 Eroica and No 8   \n",
       "15095                                Human Needs   \n",
       "\n",
       "                                                     url  segmentStart  \\\n",
       "19200  http://www.magnatune.com/artists/albums/armcha...           117   \n",
       "7745   http://www.magnatune.com/artists/albums/liquid...           262   \n",
       "25416  http://www.magnatune.com/artists/albums/rossi-...            59   \n",
       "613    http://www.magnatune.com/artists/albums/pb-ero...           117   \n",
       "15095  http://www.magnatune.com/artists/albums/leoni-...            88   \n",
       "\n",
       "       segmentEnd                                       original_url  \n",
       "19200         146  http://he3.magnatune.com/all/10-Bethena-Profes...  \n",
       "7745          291  http://he3.magnatune.com/all/04-Close%20-%20Li...  \n",
       "25416          88  http://he3.magnatune.com/all/23-Sonata%20VI%20...  \n",
       "613           146  http://he3.magnatune.com/all/01-Eroica%201st-P...  \n",
       "15095         117  http://he3.magnatune.com/all/07-Ring%20around%...  "
      ]
     },
     "execution_count": 203,
     "metadata": {},
     "output_type": "execute_result"
    }
   ],
   "source": [
    "metadata = pd.read_csv(\"%s/ismir2018_tut_part_3_similartiy_metadata.csv\" % METADATA_PATH, index_col=0)\n",
    "metadata.head()"
   ]
  },
  {
   "cell_type": "markdown",
   "metadata": {},
   "source": [
    "Align featuredata with metadata"
   ]
  },
  {
   "cell_type": "code",
   "execution_count": 204,
   "metadata": {},
   "outputs": [
    {
     "data": {
      "text/html": [
       "<div>\n",
       "<style scoped>\n",
       "    .dataframe tbody tr th:only-of-type {\n",
       "        vertical-align: middle;\n",
       "    }\n",
       "\n",
       "    .dataframe tbody tr th {\n",
       "        vertical-align: top;\n",
       "    }\n",
       "\n",
       "    .dataframe thead th {\n",
       "        text-align: right;\n",
       "    }\n",
       "</style>\n",
       "<table border=\"1\" class=\"dataframe\">\n",
       "  <thead>\n",
       "    <tr style=\"text-align: right;\">\n",
       "      <th></th>\n",
       "      <th>featurespace_id</th>\n",
       "      <th>clip_id</th>\n",
       "    </tr>\n",
       "  </thead>\n",
       "  <tbody>\n",
       "    <tr>\n",
       "      <th>0</th>\n",
       "      <td>0</td>\n",
       "      <td>66</td>\n",
       "    </tr>\n",
       "    <tr>\n",
       "      <th>1</th>\n",
       "      <td>1</td>\n",
       "      <td>90</td>\n",
       "    </tr>\n",
       "    <tr>\n",
       "      <th>2</th>\n",
       "      <td>2</td>\n",
       "      <td>91</td>\n",
       "    </tr>\n",
       "    <tr>\n",
       "      <th>3</th>\n",
       "      <td>3</td>\n",
       "      <td>94</td>\n",
       "    </tr>\n",
       "    <tr>\n",
       "      <th>4</th>\n",
       "      <td>4</td>\n",
       "      <td>105</td>\n",
       "    </tr>\n",
       "  </tbody>\n",
       "</table>\n",
       "</div>"
      ],
      "text/plain": [
       "   featurespace_id  clip_id\n",
       "0                0       66\n",
       "1                1       90\n",
       "2                2       91\n",
       "3                3       94\n",
       "4                4      105"
      ]
     },
     "execution_count": 204,
     "metadata": {},
     "output_type": "execute_result"
    }
   ],
   "source": [
    "feature_metadata = pd.DataFrame(np.arange(mel_spectrograms_idx.shape[0]), \n",
    "                                columns = [\"featurespace_id\"])\n",
    "\n",
    "feature_metadata[\"clip_id\"] = clip_id\n",
    "\n",
    "feature_metadata.head()"
   ]
  },
  {
   "cell_type": "code",
   "execution_count": 205,
   "metadata": {},
   "outputs": [],
   "source": [
    "metadata = metadata.merge(feature_metadata, left_on=\"clip_id\", right_on=\"clip_id\", how=\"inner\")"
   ]
  },
  {
   "cell_type": "markdown",
   "metadata": {},
   "source": [
    "Sort Metadata by Feature-space ID => metadata is aligned to feature-data"
   ]
  },
  {
   "cell_type": "code",
   "execution_count": 206,
   "metadata": {},
   "outputs": [],
   "source": [
    "metadata.sort_values(\"featurespace_id\", inplace=True)"
   ]
  },
  {
   "cell_type": "markdown",
   "metadata": {},
   "source": [
    "### Aggregate Feature Space - Early Fusion"
   ]
  },
  {
   "cell_type": "code",
   "execution_count": 207,
   "metadata": {},
   "outputs": [
    {
     "data": {
      "text/plain": [
       "(6380, 1608)"
      ]
     },
     "execution_count": 207,
     "metadata": {},
     "output_type": "execute_result"
    }
   ],
   "source": [
    "feature_data = np.concatenate([features_rp, features_ssd], axis=1)\n",
    "\n",
    "feature_data.shape"
   ]
  },
  {
   "cell_type": "markdown",
   "metadata": {},
   "source": [
    "Select feature-data for this metadata"
   ]
  },
  {
   "cell_type": "code",
   "execution_count": 208,
   "metadata": {},
   "outputs": [],
   "source": [
    "feature_data = feature_data[metadata.featurespace_id]"
   ]
  },
  {
   "cell_type": "markdown",
   "metadata": {},
   "source": [
    "### Normalize feature data\n",
    "\n",
    "The feature vectors are composed of differnt feature-sets. All of them with different value ranges. While features such as Acousticness and Danceability are scaled between 0 and 1, the BPM values of the tempo feature ranges around 120 or higher. We apply Standard Score or Zero Mean and Unit Variance normalization to uniformly scale the value ranges of the features.\n",
    "\n",
    "$$\n",
    "z = {x- \\mu \\over \\sigma}\n",
    "$$"
   ]
  },
  {
   "cell_type": "code",
   "execution_count": 209,
   "metadata": {},
   "outputs": [
    {
     "name": "stderr",
     "output_type": "stream",
     "text": [
      "C:\\anaconda\\lib\\site-packages\\ipykernel_launcher.py:3: RuntimeWarning: divide by zero encountered in true_divide\n",
      "  This is separate from the ipykernel package so we can avoid doing imports until\n"
     ]
    }
   ],
   "source": [
    "# standardize sequential_features\n",
    "feature_data -= feature_data.mean(axis=0)\n",
    "feature_data /= feature_data.std(axis=0)"
   ]
  },
  {
   "cell_type": "code",
   "execution_count": 210,
   "metadata": {},
   "outputs": [],
   "source": [
    "feature_data = np.nan_to_num(feature_data, 0)"
   ]
  },
  {
   "cell_type": "markdown",
   "metadata": {},
   "source": [
    "## Add Media-Player to Metadata"
   ]
  },
  {
   "cell_type": "code",
   "execution_count": 246,
   "metadata": {},
   "outputs": [],
   "source": [
    "metadata[\"player\"] = '<audio src=\"' + \\\n",
    "                     metadata.mp3_path.str.replace(AUTIO_ROOT_PATH, \"http://localhost:9999\") + \\\n",
    "                     '\" controls>'"
   ]
  },
  {
   "cell_type": "markdown",
   "metadata": {},
   "source": [
    "Use jupyters display functions to enable HTML5 audio in pandas dataframe"
   ]
  },
  {
   "cell_type": "code",
   "execution_count": 247,
   "metadata": {},
   "outputs": [],
   "source": [
    "from IPython.display import HTML, display\n",
    "\n",
    "pd.set_option('display.max_colwidth', -1)"
   ]
  },
  {
   "cell_type": "markdown",
   "metadata": {},
   "source": [
    "Example"
   ]
  },
  {
   "cell_type": "code",
   "execution_count": 252,
   "metadata": {},
   "outputs": [
    {
     "data": {
      "text/html": [
       "<table border=\"1\" class=\"dataframe\">\n",
       "  <thead>\n",
       "    <tr style=\"text-align: right;\">\n",
       "      <th></th>\n",
       "      <th>title</th>\n",
       "      <th>player</th>\n",
       "    </tr>\n",
       "  </thead>\n",
       "  <tbody>\n",
       "    <tr>\n",
       "      <th>1643</th>\n",
       "      <td>Musicalische Exequien SWV 279 Teil I_ Concert in Form einer teutschen Begrabnis-Missa</td>\n",
       "      <td><audio src=\"http://localhost:9999/9/american_bach_soloists-heinrich_schutz__musicalische_exequien-01-musicalische_exequien_swv_279_teil_i_concert_in_form_einer_teutschen_begrabnismissa-784-813.mp3\" controls></td>\n",
       "    </tr>\n",
       "    <tr>\n",
       "      <th>1467</th>\n",
       "      <td>My mistress hath a pritty thing (Tobias Hume)</td>\n",
       "      <td><audio src=\"http://localhost:9999/6/ralph_meulenbroeks-gambomania-01-my_mistress_hath_a_pritty_thing_tobias_hume-59-88.mp3\" controls></td>\n",
       "    </tr>\n",
       "    <tr>\n",
       "      <th>2781</th>\n",
       "      <td>My mistress hath a pritty thing (Tobias Hume)</td>\n",
       "      <td><audio src=\"http://localhost:9999/6/ralph_meulenbroeks-gambomania-01-my_mistress_hath_a_pritty_thing_tobias_hume-88-117.mp3\" controls></td>\n",
       "    </tr>\n",
       "  </tbody>\n",
       "</table>"
      ],
      "text/plain": [
       "<IPython.core.display.HTML object>"
      ]
     },
     "execution_count": 252,
     "metadata": {},
     "output_type": "execute_result"
    }
   ],
   "source": [
    "HTML(metadata.iloc[:3][[\"title\", \"player\"]].to_html(escape=False))"
   ]
  },
  {
   "cell_type": "markdown",
   "metadata": {},
   "source": [
    "# Calculate Similarities\n",
    "\n",
    "This section describes the fundamentals of the content-based audio similarity search approach followed in this tutorial. Audio features are descriptive numbers calculated from the audio spectrum of a track. A good example is the Spectral Centroid, which can be interpreted as the center of gravity of an audio recording. It describes the average frequency weighted by its intensity and distinguishes brighter from darker sounds. Such features are usually calculated for several intervals of a track and finally aggregated into a single vector representation. The latter step, which is a requirement for many machine/statistical learning tasks, is accomplished by calculating statistical measures such as mean, standard deviation, etc.\n",
    "\n",
    "In the following example, the Spectral Centroids of 10 different tracks are provided using their mean and standard deviation aggregations. Thus, the Spectral Centroid feature(-set) is represented by a two-dimensional feature vector such as the following example:\n",
    "\n",
    "    ID   Mean                  Standard Deviation\n",
    "    0    1517.5993814237531    291.1855836731788\n",
    "\n",
    "In this example the center frequency is 1518 Hz and it deviates by 291 Hz. These numbers already describe the audio content and can be used to find similar tracks. The common approach to calcualte music similarity from audio content is based on vector difference. The assumption is, that similar audio feature-values correspond with similar audio content. Thus, feature vectors with smaller vector differences correspond to more similar tracks. The following data represents the extracted Spectral Centroids of our 10-tracks collection:\n",
    "\n",
    "\n",
    "    ID   Mean                  Standard Deviation\n",
    "    0    1517.5993814237531    291.1855836731788\n",
    "    1    1659.1988993873124    327.64811981777865\n",
    "    2    1507.4617047141264    340.8830079395701\n",
    "    3    1597.6019371942953    507.1007933367403\n",
    "    4    1498.8531206911534    288.3780838480238\n",
    "    5    535.5910732230583     89.90893994909047\n",
    "    6    2261.4032345595674    353.5971736260454\n",
    "    7    2331.881852844861     406.33517225264194\n",
    "    8    1868.690426450363     342.7489751514078\n",
    "    9    2204.6324484864085    328.94334883095553\n",
    "\n",
    "The tracks have unique identifiers and we are using the track with ID 5 to search for similar items. This step requires a similarity metric, which defines how the vector distance has to be calculated as a single numeric value. The most common choices are the Manhattan (L1) and Euclidean (L2) distance measures. The Euclidean Distance is the square root of the sum of squared differences of two vectors.\n",
    "To calculate the Euclidean Distance between track 5 and track 0:\n",
    "\n",
    "    ID   Mean                  Standard Deviation\n",
    "    0    1517.5993814237531    291.1855836731788\n",
    "    5    535.5910732230583     89.90893994909047\n",
    "\n",
    "we first compute the difference between the values of each vectors\n",
    "\n",
    "    982.008308           201.276644\n",
    "\n",
    "square them to get the absolute magnitude:\n",
    "\n",
    "    964340.317375        40512.287309\n",
    "\n",
    "and take the sum of these values:\n",
    "\n",
    "    1004852.6046840245\n",
    "\n",
    "Per definition the square root has to be calculated from the sum, but this step is normally skipped because it does not alter the ranking and is processing intensive. By calculating the distance for all items in the collection, we retrieve a list of distance values where the smaller distances correspond to more similar audio content and the higher values should sound more dissimilar.\n",
    "\n",
    "    ID   Distance\n",
    "    0    1004852.6046840245\n",
    "    1    1319014.4646621975\n",
    "    2    1007520.5071585375\n",
    "    3    1301916.1177259558\n",
    "    4    967263.7731724023\n",
    "    5    0.0\n",
    "    6    3047959.100796666\n",
    "    7    3326786.1254441254\n",
    "    8    1841081.968976167\n",
    "    9    2842836.5609704787\n",
    "\n",
    "To retrieve a ranked list of similar sounding tracks, the list of vector distances has to be ordered ascendingly.\n",
    "\n",
    "    ID   Distance\n",
    "    5    0.0\n",
    "    4    967263.7731724023\n",
    "    0    1004852.6046840245\n",
    "    2    1007520.5071585375\n",
    "    3    1301916.1177259558\n",
    "    1    1319014.4646621975\n",
    "    8    1841081.968976167\n",
    "    9    2842836.5609704787\n",
    "    6    3047959.100796666\n",
    "    7    3326786.1254441254\n",
    "\n",
    "This so called vector space model is predominant in content based multimedia retrieval. The most crucial and problematic part is feature crafting, meaning that in the case in which the extracted numbers do not describe the audio well enough, the vector based similarity will also fail to provide results that are perceived as similar.\n",
    "The described approach requires the availability of all feature vectors of all items of a collection. Thus, the feature vectors must be stored. No matter which retrieval approach (pre-calculated / indexed / on demand) will be chosen, all features will be required at a certain time. Given that the feature extraction is an computationally expensive task (in terms of processing resources and total time), the extracted features are stored and made accessible using a common data format.\n"
   ]
  },
  {
   "cell_type": "markdown",
   "metadata": {},
   "source": [
    "### Euclidean Distance\n",
    "\n",
    "In the final part of this tutorial we wil use the Euclidean Distance to calculate similarities between tracks. As mentioned above, the Euclidean Distance is a metric to calculate the distance between two vectors and thus is a function of dissimilarity. This means, vectors with smaller distance values are more similar than those with higher distances.\n",
    "\n",
    "$$\n",
    "d(p,q) = \\sqrt{\\sum_{i=1}^n (q_i-p_i)^2}\n",
    "$$\n"
   ]
  },
  {
   "cell_type": "code",
   "execution_count": 253,
   "metadata": {},
   "outputs": [],
   "source": [
    "def eucledian_distance(feature_space, query_vector):\n",
    "    \n",
    "    return np.sqrt(np.sum((feature_space - query_vector)**2, axis=1))"
   ]
  },
  {
   "cell_type": "markdown",
   "metadata": {
    "collapsed": true
   },
   "source": [
    "For the rest of the tutorial we will use this song to demonstrate the results of the approach:"
   ]
  },
  {
   "cell_type": "code",
   "execution_count": 257,
   "metadata": {},
   "outputs": [],
   "source": [
    "# display top-10 results (first track = query track)\n",
    "display_cols = [\"artist\", \"title\", \"album\", \"player\"]"
   ]
  },
  {
   "cell_type": "code",
   "execution_count": 260,
   "metadata": {},
   "outputs": [
    {
     "data": {
      "text/html": [
       "<table border=\"1\" class=\"dataframe\">\n",
       "  <thead>\n",
       "    <tr style=\"text-align: right;\">\n",
       "      <th></th>\n",
       "      <th>artist</th>\n",
       "      <th>title</th>\n",
       "      <th>album</th>\n",
       "      <th>player</th>\n",
       "    </tr>\n",
       "  </thead>\n",
       "  <tbody>\n",
       "    <tr>\n",
       "      <th>949</th>\n",
       "      <td>Stargarden</td>\n",
       "      <td>Mural</td>\n",
       "      <td>Music for Modern Listening</td>\n",
       "      <td><audio src=\"http://localhost:9999/8/stargarden-music_for_modern_listening-01-mural-88-117.mp3\" controls></td>\n",
       "    </tr>\n",
       "  </tbody>\n",
       "</table>"
      ],
      "text/plain": [
       "<IPython.core.display.HTML object>"
      ]
     },
     "execution_count": 260,
     "metadata": {},
     "output_type": "execute_result"
    }
   ],
   "source": [
    "query_track_idx = 100\n",
    "\n",
    "HTML(metadata[display_cols].iloc[[query_track_idx]].to_html(escape=False))"
   ]
  },
  {
   "cell_type": "markdown",
   "metadata": {},
   "source": [
    "The following lines of code implement the approach described above. First, the distances between the query vector and all other vectors of the collection are calculated. Then the distances are sorted ascnedingly to get the simlar tracks. Because the metric distance of identical vectors is 0, the top-most entry of the sorted list is always the query track."
   ]
  },
  {
   "cell_type": "code",
   "execution_count": 261,
   "metadata": {},
   "outputs": [
    {
     "data": {
      "text/html": [
       "<table border=\"1\" class=\"dataframe\">\n",
       "  <thead>\n",
       "    <tr style=\"text-align: right;\">\n",
       "      <th></th>\n",
       "      <th>artist</th>\n",
       "      <th>title</th>\n",
       "      <th>album</th>\n",
       "      <th>player</th>\n",
       "    </tr>\n",
       "  </thead>\n",
       "  <tbody>\n",
       "    <tr>\n",
       "      <th>1073</th>\n",
       "      <td>Jay Kishor</td>\n",
       "      <td>Raga Malkauns</td>\n",
       "      <td>CD2 The Sowebo Concert</td>\n",
       "      <td><audio src=\"http://localhost:9999/c/jay_kishor-cd2_the_sowebo_concert-01-raga_malkauns-813-842.mp3\" controls></td>\n",
       "    </tr>\n",
       "    <tr>\n",
       "      <th>2180</th>\n",
       "      <td>Jay Kishor</td>\n",
       "      <td>Raga Malkauns</td>\n",
       "      <td>CD2 The Sowebo Concert</td>\n",
       "      <td><audio src=\"http://localhost:9999/c/jay_kishor-cd2_the_sowebo_concert-01-raga_malkauns-755-784.mp3\" controls></td>\n",
       "    </tr>\n",
       "    <tr>\n",
       "      <th>148</th>\n",
       "      <td>Jacob Heringman</td>\n",
       "      <td>An Allemande</td>\n",
       "      <td>Jane Pickeringes Lute Book</td>\n",
       "      <td><audio src=\"http://localhost:9999/b/jacob_heringman-jane_pickeringes_lute_book-13-an_allemande-30-59.mp3\" controls></td>\n",
       "    </tr>\n",
       "    <tr>\n",
       "      <th>2245</th>\n",
       "      <td>Tanya Tomkins and Eric Zivian</td>\n",
       "      <td>7 variations on a theme from the Magic Flute in Eb WoO 46</td>\n",
       "      <td>Beethoven Piano and Cello Works</td>\n",
       "      <td><audio src=\"http://localhost:9999/1/tanya_tomkins_and_eric_zivian-beethoven_piano_and_cello_works-03-7_variations_on_a_theme_from_the_magic_flute_in_eb_woo_46-320-349.mp3\" controls></td>\n",
       "    </tr>\n",
       "    <tr>\n",
       "      <th>2815</th>\n",
       "      <td>Vito Paternoster</td>\n",
       "      <td>Preludio IV</td>\n",
       "      <td>Inzaffirio</td>\n",
       "      <td><audio src=\"http://localhost:9999/3/vito_paternoster-inzaffirio-07-preludio_iv-30-59.mp3\" controls></td>\n",
       "    </tr>\n",
       "    <tr>\n",
       "      <th>623</th>\n",
       "      <td>Magnatune</td>\n",
       "      <td>Tanya Tomkins and Eric Zivian_ Beethoven 7 variations on a theme from the Magic Flute in Eb</td>\n",
       "      <td>Classical</td>\n",
       "      <td><audio src=\"http://localhost:9999/c/magnatune-classical-30-tanya_tomkins_and_eric_zivian_beethoven_7_variations_on_a_theme_from_the_magic_flute_in_eb-0-29.mp3\" controls></td>\n",
       "    </tr>\n",
       "    <tr>\n",
       "      <th>711</th>\n",
       "      <td>Jacob Heringman</td>\n",
       "      <td>Mall Symes</td>\n",
       "      <td>Jane Pickeringes Lute Book</td>\n",
       "      <td><audio src=\"http://localhost:9999/b/jacob_heringman-jane_pickeringes_lute_book-11-mall_symes-262-291.mp3\" controls></td>\n",
       "    </tr>\n",
       "    <tr>\n",
       "      <th>2008</th>\n",
       "      <td>Ensemble Mirable</td>\n",
       "      <td>Sonata 2 (Largo)</td>\n",
       "      <td>Triemer Six Cello Sonatas</td>\n",
       "      <td><audio src=\"http://localhost:9999/4/ensemble_mirable-triemer_six_cello_sonatas-06-sonata_2_largo-0-29.mp3\" controls></td>\n",
       "    </tr>\n",
       "    <tr>\n",
       "      <th>1250</th>\n",
       "      <td>Jacob Heringman and Catherine King</td>\n",
       "      <td>Romance_ triste estava muy quexosa</td>\n",
       "      <td>Luis Milan El Maestro</td>\n",
       "      <td><audio src=\"http://localhost:9999/f/jacob_heringman_and_catherine_king-luis_milan_el_maestro-03-romance_triste_estava_muy_quexosa-146-175.mp3\" controls></td>\n",
       "    </tr>\n",
       "    <tr>\n",
       "      <th>1767</th>\n",
       "      <td>Ensemble Mirable</td>\n",
       "      <td>Sonata 3 (Grave)</td>\n",
       "      <td>Triemer Six Cello Sonatas</td>\n",
       "      <td><audio src=\"http://localhost:9999/4/ensemble_mirable-triemer_six_cello_sonatas-11-sonata_3_grave-88-117.mp3\" controls></td>\n",
       "    </tr>\n",
       "    <tr>\n",
       "      <th>1540</th>\n",
       "      <td>Jamie Janover</td>\n",
       "      <td>Harbor Island</td>\n",
       "      <td>Evolutions</td>\n",
       "      <td><audio src=\"http://localhost:9999/2/jamie_janover-evolutions-12-harbor_island-0-29.mp3\" controls></td>\n",
       "    </tr>\n",
       "  </tbody>\n",
       "</table>"
      ],
      "text/plain": [
       "<IPython.core.display.HTML object>"
      ]
     },
     "execution_count": 261,
     "metadata": {},
     "output_type": "execute_result"
    }
   ],
   "source": [
    "# calculate the distance between the query-vector and all others\n",
    "dist = eucledian_distance(feature_data, feature_data[metadata.iloc[query_track_idx].featurespace_id])\n",
    "\n",
    "# sort the distances ascendingly - use sorted index\n",
    "sorted_idx = np.argsort(dist)\n",
    "\n",
    "\n",
    "\n",
    "HTML(metadata.iloc[sorted_idx[:11]][display_cols].to_html(escape=False))"
   ]
  },
  {
   "cell_type": "markdown",
   "metadata": {},
   "source": [
    "### Scaled Eucledian Distance\n",
    "\n",
    "The approach taken to combine the different feature-sets is refered to as early fusion. The problem with the approach described in the previous step is, that larger feature-sets dominate the calculated distance values. The aggregated MFCC and Chroma features have 24 dimensions each. Together they have more dimensions as the remaining features which are mostly single dimensional features. Thus, the distances are unequally dominated by the two feature sets.\n",
    "\n",
    "To avoid such a bias, we scale the feature-space such that feature-sets and single-value features have euqal the same weights and thus euqal influence on the resulting distance."
   ]
  },
  {
   "cell_type": "code",
   "execution_count": 262,
   "metadata": {},
   "outputs": [],
   "source": [
    "# feature-set lengths and order\n",
    "featureset_lengths = [1440, # rp\n",
    "                      168]  # ssd"
   ]
  },
  {
   "cell_type": "code",
   "execution_count": 263,
   "metadata": {},
   "outputs": [],
   "source": [
    "def scaled_eucledian_distance(feature_space, query_vector):\n",
    "    \n",
    "    distances = (feature_space - query_vector)**2\n",
    "    \n",
    "    # feature_start_idx\n",
    "    start_idx = 0 \n",
    "    \n",
    "    # normalize distances\n",
    "    for sequence_length in featureset_lengths:\n",
    "        \n",
    "        # feature_stop_idx\n",
    "        stop_idx                         = start_idx + sequence_length\n",
    "        distances[:,start_idx:stop_idx] /= distances[:,start_idx:stop_idx].sum(axis=1).max()\n",
    "        start_idx                        = stop_idx\n",
    "    \n",
    "    return np.sqrt(np.sum(distances, axis=1))"
   ]
  },
  {
   "cell_type": "markdown",
   "metadata": {},
   "source": [
    "Example result"
   ]
  },
  {
   "cell_type": "code",
   "execution_count": 267,
   "metadata": {},
   "outputs": [
    {
     "data": {
      "text/html": [
       "<table border=\"1\" class=\"dataframe\">\n",
       "  <thead>\n",
       "    <tr style=\"text-align: right;\">\n",
       "      <th></th>\n",
       "      <th>artist</th>\n",
       "      <th>title</th>\n",
       "      <th>album</th>\n",
       "      <th>player</th>\n",
       "    </tr>\n",
       "  </thead>\n",
       "  <tbody>\n",
       "    <tr>\n",
       "      <th>1073</th>\n",
       "      <td>Jay Kishor</td>\n",
       "      <td>Raga Malkauns</td>\n",
       "      <td>CD2 The Sowebo Concert</td>\n",
       "      <td><audio src=\"http://localhost:9999/c/jay_kishor-cd2_the_sowebo_concert-01-raga_malkauns-813-842.mp3\" controls></td>\n",
       "    </tr>\n",
       "    <tr>\n",
       "      <th>2180</th>\n",
       "      <td>Jay Kishor</td>\n",
       "      <td>Raga Malkauns</td>\n",
       "      <td>CD2 The Sowebo Concert</td>\n",
       "      <td><audio src=\"http://localhost:9999/c/jay_kishor-cd2_the_sowebo_concert-01-raga_malkauns-755-784.mp3\" controls></td>\n",
       "    </tr>\n",
       "    <tr>\n",
       "      <th>1509</th>\n",
       "      <td>Jay Kishor</td>\n",
       "      <td>Raga Malkauns</td>\n",
       "      <td>CD2 The Sowebo Concert</td>\n",
       "      <td><audio src=\"http://localhost:9999/c/jay_kishor-cd2_the_sowebo_concert-01-raga_malkauns-1422-1451.mp3\" controls></td>\n",
       "    </tr>\n",
       "    <tr>\n",
       "      <th>711</th>\n",
       "      <td>Jacob Heringman</td>\n",
       "      <td>Mall Symes</td>\n",
       "      <td>Jane Pickeringes Lute Book</td>\n",
       "      <td><audio src=\"http://localhost:9999/b/jacob_heringman-jane_pickeringes_lute_book-11-mall_symes-262-291.mp3\" controls></td>\n",
       "    </tr>\n",
       "    <tr>\n",
       "      <th>2245</th>\n",
       "      <td>Tanya Tomkins and Eric Zivian</td>\n",
       "      <td>7 variations on a theme from the Magic Flute in Eb WoO 46</td>\n",
       "      <td>Beethoven Piano and Cello Works</td>\n",
       "      <td><audio src=\"http://localhost:9999/1/tanya_tomkins_and_eric_zivian-beethoven_piano_and_cello_works-03-7_variations_on_a_theme_from_the_magic_flute_in_eb_woo_46-320-349.mp3\" controls></td>\n",
       "    </tr>\n",
       "    <tr>\n",
       "      <th>623</th>\n",
       "      <td>Magnatune</td>\n",
       "      <td>Tanya Tomkins and Eric Zivian_ Beethoven 7 variations on a theme from the Magic Flute in Eb</td>\n",
       "      <td>Classical</td>\n",
       "      <td><audio src=\"http://localhost:9999/c/magnatune-classical-30-tanya_tomkins_and_eric_zivian_beethoven_7_variations_on_a_theme_from_the_magic_flute_in_eb-0-29.mp3\" controls></td>\n",
       "    </tr>\n",
       "    <tr>\n",
       "      <th>132</th>\n",
       "      <td>Kammen & Swan</td>\n",
       "      <td>Pasa Viene</td>\n",
       "      <td>Wild Wood</td>\n",
       "      <td><audio src=\"http://localhost:9999/5/kammen___swan-wild_wood-11-pasa_viene-0-29.mp3\" controls></td>\n",
       "    </tr>\n",
       "    <tr>\n",
       "      <th>148</th>\n",
       "      <td>Jacob Heringman</td>\n",
       "      <td>An Allemande</td>\n",
       "      <td>Jane Pickeringes Lute Book</td>\n",
       "      <td><audio src=\"http://localhost:9999/b/jacob_heringman-jane_pickeringes_lute_book-13-an_allemande-30-59.mp3\" controls></td>\n",
       "    </tr>\n",
       "    <tr>\n",
       "      <th>1250</th>\n",
       "      <td>Jacob Heringman and Catherine King</td>\n",
       "      <td>Romance_ triste estava muy quexosa</td>\n",
       "      <td>Luis Milan El Maestro</td>\n",
       "      <td><audio src=\"http://localhost:9999/f/jacob_heringman_and_catherine_king-luis_milan_el_maestro-03-romance_triste_estava_muy_quexosa-146-175.mp3\" controls></td>\n",
       "    </tr>\n",
       "    <tr>\n",
       "      <th>2815</th>\n",
       "      <td>Vito Paternoster</td>\n",
       "      <td>Preludio IV</td>\n",
       "      <td>Inzaffirio</td>\n",
       "      <td><audio src=\"http://localhost:9999/3/vito_paternoster-inzaffirio-07-preludio_iv-30-59.mp3\" controls></td>\n",
       "    </tr>\n",
       "    <tr>\n",
       "      <th>1767</th>\n",
       "      <td>Ensemble Mirable</td>\n",
       "      <td>Sonata 3 (Grave)</td>\n",
       "      <td>Triemer Six Cello Sonatas</td>\n",
       "      <td><audio src=\"http://localhost:9999/4/ensemble_mirable-triemer_six_cello_sonatas-11-sonata_3_grave-88-117.mp3\" controls></td>\n",
       "    </tr>\n",
       "  </tbody>\n",
       "</table>"
      ],
      "text/plain": [
       "<IPython.core.display.HTML object>"
      ]
     },
     "execution_count": 267,
     "metadata": {},
     "output_type": "execute_result"
    }
   ],
   "source": [
    "dist = scaled_eucledian_distance(feature_data, feature_data[metadata.iloc[query_track_idx].featurespace_id])\n",
    "\n",
    "HTML(metadata.iloc[np.argsort(dist)[:11]][display_cols].to_html(escape=False))"
   ]
  },
  {
   "cell_type": "markdown",
   "metadata": {},
   "source": [
    "### Feature Weighting\n",
    "\n",
    "As explained above, the vanilla Eucliden Distance in an early fusion approach is dominated by large feature-sets. Through scaling the feature-space we achieved equal influence for all feature-sets and features. Now, equal influence is not always the best choice fo music similarity. For example, the year and popularity feature we included into our feature vector are not an intrinsic music property. We just added them to cluster recordings of the same epoch together. Currently this feature has the same impact on the estimated similarity as timbre, rhythm and harmonics. When using many features it is commonly a good choice to apply different weights to them. Estimating these weights is generally achieved empirically."
   ]
  },
  {
   "cell_type": "code",
   "execution_count": 268,
   "metadata": {},
   "outputs": [],
   "source": [
    "# feature-set lengths and order\n",
    "featureset_weights = [1.55, # rp\n",
    "                      0.6]  # ssd"
   ]
  },
  {
   "cell_type": "code",
   "execution_count": 269,
   "metadata": {},
   "outputs": [],
   "source": [
    "def weighted_eucledian_distance(feature_space, query_vector, featureset_weights):\n",
    "    \n",
    "    distances = (feature_space - query_vector)**2\n",
    "    \n",
    "    # feature_start_idx\n",
    "    start_idx = 0 \n",
    "    \n",
    "    # normalize distances\n",
    "    for sequence_length, weight in zip(featureset_lengths, featureset_weights):\n",
    "\n",
    "        # feature_stop_idx\n",
    "        stop_idx                         = start_idx + sequence_length\n",
    "        distances[:,start_idx:stop_idx] /= distances[:,start_idx:stop_idx].sum(axis=1).max()\n",
    "        distances[:,start_idx:stop_idx] *= weight\n",
    "        start_idx                        = stop_idx\n",
    "\n",
    "    return np.sqrt(np.sum(distances, axis=1))"
   ]
  },
  {
   "cell_type": "markdown",
   "metadata": {},
   "source": [
    "Example result:"
   ]
  },
  {
   "cell_type": "code",
   "execution_count": 271,
   "metadata": {},
   "outputs": [
    {
     "data": {
      "text/html": [
       "<table border=\"1\" class=\"dataframe\">\n",
       "  <thead>\n",
       "    <tr style=\"text-align: right;\">\n",
       "      <th></th>\n",
       "      <th>artist</th>\n",
       "      <th>title</th>\n",
       "      <th>album</th>\n",
       "      <th>player</th>\n",
       "    </tr>\n",
       "  </thead>\n",
       "  <tbody>\n",
       "    <tr>\n",
       "      <th>1073</th>\n",
       "      <td>Jay Kishor</td>\n",
       "      <td>Raga Malkauns</td>\n",
       "      <td>CD2 The Sowebo Concert</td>\n",
       "      <td><audio src=\"http://localhost:9999/c/jay_kishor-cd2_the_sowebo_concert-01-raga_malkauns-813-842.mp3\" controls></td>\n",
       "    </tr>\n",
       "    <tr>\n",
       "      <th>2180</th>\n",
       "      <td>Jay Kishor</td>\n",
       "      <td>Raga Malkauns</td>\n",
       "      <td>CD2 The Sowebo Concert</td>\n",
       "      <td><audio src=\"http://localhost:9999/c/jay_kishor-cd2_the_sowebo_concert-01-raga_malkauns-755-784.mp3\" controls></td>\n",
       "    </tr>\n",
       "    <tr>\n",
       "      <th>2245</th>\n",
       "      <td>Tanya Tomkins and Eric Zivian</td>\n",
       "      <td>7 variations on a theme from the Magic Flute in Eb WoO 46</td>\n",
       "      <td>Beethoven Piano and Cello Works</td>\n",
       "      <td><audio src=\"http://localhost:9999/1/tanya_tomkins_and_eric_zivian-beethoven_piano_and_cello_works-03-7_variations_on_a_theme_from_the_magic_flute_in_eb_woo_46-320-349.mp3\" controls></td>\n",
       "    </tr>\n",
       "    <tr>\n",
       "      <th>148</th>\n",
       "      <td>Jacob Heringman</td>\n",
       "      <td>An Allemande</td>\n",
       "      <td>Jane Pickeringes Lute Book</td>\n",
       "      <td><audio src=\"http://localhost:9999/b/jacob_heringman-jane_pickeringes_lute_book-13-an_allemande-30-59.mp3\" controls></td>\n",
       "    </tr>\n",
       "    <tr>\n",
       "      <th>711</th>\n",
       "      <td>Jacob Heringman</td>\n",
       "      <td>Mall Symes</td>\n",
       "      <td>Jane Pickeringes Lute Book</td>\n",
       "      <td><audio src=\"http://localhost:9999/b/jacob_heringman-jane_pickeringes_lute_book-11-mall_symes-262-291.mp3\" controls></td>\n",
       "    </tr>\n",
       "    <tr>\n",
       "      <th>623</th>\n",
       "      <td>Magnatune</td>\n",
       "      <td>Tanya Tomkins and Eric Zivian_ Beethoven 7 variations on a theme from the Magic Flute in Eb</td>\n",
       "      <td>Classical</td>\n",
       "      <td><audio src=\"http://localhost:9999/c/magnatune-classical-30-tanya_tomkins_and_eric_zivian_beethoven_7_variations_on_a_theme_from_the_magic_flute_in_eb-0-29.mp3\" controls></td>\n",
       "    </tr>\n",
       "    <tr>\n",
       "      <th>2815</th>\n",
       "      <td>Vito Paternoster</td>\n",
       "      <td>Preludio IV</td>\n",
       "      <td>Inzaffirio</td>\n",
       "      <td><audio src=\"http://localhost:9999/3/vito_paternoster-inzaffirio-07-preludio_iv-30-59.mp3\" controls></td>\n",
       "    </tr>\n",
       "    <tr>\n",
       "      <th>1250</th>\n",
       "      <td>Jacob Heringman and Catherine King</td>\n",
       "      <td>Romance_ triste estava muy quexosa</td>\n",
       "      <td>Luis Milan El Maestro</td>\n",
       "      <td><audio src=\"http://localhost:9999/f/jacob_heringman_and_catherine_king-luis_milan_el_maestro-03-romance_triste_estava_muy_quexosa-146-175.mp3\" controls></td>\n",
       "    </tr>\n",
       "    <tr>\n",
       "      <th>132</th>\n",
       "      <td>Kammen & Swan</td>\n",
       "      <td>Pasa Viene</td>\n",
       "      <td>Wild Wood</td>\n",
       "      <td><audio src=\"http://localhost:9999/5/kammen___swan-wild_wood-11-pasa_viene-0-29.mp3\" controls></td>\n",
       "    </tr>\n",
       "    <tr>\n",
       "      <th>1509</th>\n",
       "      <td>Jay Kishor</td>\n",
       "      <td>Raga Malkauns</td>\n",
       "      <td>CD2 The Sowebo Concert</td>\n",
       "      <td><audio src=\"http://localhost:9999/c/jay_kishor-cd2_the_sowebo_concert-01-raga_malkauns-1422-1451.mp3\" controls></td>\n",
       "    </tr>\n",
       "    <tr>\n",
       "      <th>1767</th>\n",
       "      <td>Ensemble Mirable</td>\n",
       "      <td>Sonata 3 (Grave)</td>\n",
       "      <td>Triemer Six Cello Sonatas</td>\n",
       "      <td><audio src=\"http://localhost:9999/4/ensemble_mirable-triemer_six_cello_sonatas-11-sonata_3_grave-88-117.mp3\" controls></td>\n",
       "    </tr>\n",
       "  </tbody>\n",
       "</table>"
      ],
      "text/plain": [
       "<IPython.core.display.HTML object>"
      ]
     },
     "execution_count": 271,
     "metadata": {},
     "output_type": "execute_result"
    }
   ],
   "source": [
    "dist = weighted_eucledian_distance(feature_data, \n",
    "                                   feature_data[metadata.iloc[query_track_idx].featurespace_id], \n",
    "                                   featureset_weights)\n",
    "\n",
    "HTML(metadata.iloc[np.argsort(dist)[:11]][display_cols].to_html(escape=False))"
   ]
  },
  {
   "cell_type": "markdown",
   "metadata": {},
   "source": [
    "# Evaluation\n",
    "\n",
    "So far we have only tested our similarity retrieval algorithms on a few single examples. To evaluate, if the presented approaches perform differently, we perform a full evaluation. To estimate the performance we measure precision and recall of our algorithms. These are standard information retrieval measures of relevance. In the context of this tutorial **precision** measures how many tracks of a given resultlist belong to the same playlist as the query song (relative to the length of the resultlist). **Recall** measures how many tracks of the query song's playlist are contained in the resultlist (relative to the length of the playlist)."
   ]
  },
  {
   "cell_type": "code",
   "execution_count": 122,
   "metadata": {},
   "outputs": [],
   "source": [
    "def evaluate(similarity_function, cut_off):\n",
    "\n",
    "    all_precisions = []\n",
    "    all_recall     = []\n",
    "\n",
    "    for idx in metadata.index.values:\n",
    "\n",
    "        dist           = similarity_function(feature_data, feature_data[idx])\n",
    "        similar_tracks = metadata.loc[np.argsort(dist)[:cut_off]]\n",
    "        same_label     = similar_tracks[\"playlist\"] == metadata.loc[idx, \"playlist\"]\n",
    "        precision      = same_label.sum() / float(cut_off)\n",
    "        all_precisions.append(precision)\n",
    "        \n",
    "        recall = float(same_label.sum()) / metadata[metadata.playlist == metadata.loc[idx, \"playlist\"]].shape[0]\n",
    "        all_recall.append(recall)\n",
    "\n",
    "    all_precisions = np.array(all_precisions)\n",
    "    all_recall     = np.array(recall)\n",
    "\n",
    "    return all_precisions.mean(), all_recall.mean()"
   ]
  },
  {
   "cell_type": "markdown",
   "metadata": {},
   "source": [
    "Run the evauation for all three introduced algorithms:"
   ]
  },
  {
   "cell_type": "code",
   "execution_count": null,
   "metadata": {},
   "outputs": [],
   "source": [
    "cut_off = 20\n",
    "\n",
    "evaluation_results = {}\n",
    "\n",
    "# run evaluation\n",
    "\n",
    "evaluation_results[\"Eucledian Distance\"] = \\\n",
    "    evaluate(lambda x,y: eucledian_distance(x,y), cut_off)\n",
    "    \n",
    "\n",
    "evaluation_results[\"Scaled Eucledian Distance\"] = \\\n",
    "    evaluate(lambda x,y: scaled_eucledian_distance(x,y), cut_off)\n",
    "\n",
    "evaluation_results[\"Weighted Eucledian Distance\"] = \\\n",
    "    evaluate(lambda x,y: weighted_eucledian_distance(x,y, featureset_weights), cut_off)\n",
    "\n",
    "# aggregate results\n",
    "evaluation_results = pd.DataFrame(data  = [evaluation_results[key] for key in evaluation_results.keys()], \n",
    "                                  index = evaluation_results.keys(), \n",
    "                                  columns=[\"precision\", \"recall\"])\n",
    "\n",
    "# results\n",
    "evaluation_results.sort_values(\"precision\", ascending=False)"
   ]
  }
 ],
 "metadata": {
  "kernelspec": {
   "display_name": "Python 3",
   "language": "python",
   "name": "python3"
  },
  "language_info": {
   "codemirror_mode": {
    "name": "ipython",
    "version": 3
   },
   "file_extension": ".py",
   "mimetype": "text/x-python",
   "name": "python",
   "nbconvert_exporter": "python",
   "pygments_lexer": "ipython3",
   "version": "3.6.6"
  },
  "notify_time": "5",
  "toc": {
   "toc_cell": false,
   "toc_number_sections": true,
   "toc_threshold": 6,
   "toc_window_display": false
  }
 },
 "nbformat": 4,
 "nbformat_minor": 1
}
