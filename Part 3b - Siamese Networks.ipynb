{
 "cells": [
  {
   "cell_type": "markdown",
   "metadata": {},
   "source": [
    "# Finding Similar Songs - Part 2: Siamese Networks\n",
    "\n",
    "In the first part of this tutorial I have introduced the traditional distance based approach to similarity estimations. The main idea is that features are extracted from the audio content. These features are numeric descriptions of semantically relevant information. An example for a high-level feature is the number of beats per minute which is a description for the tempo of a song. Music feature-sets are more abstract and describe the spectral or rhythmical distribution of energy. These are not single but vectors of numbers. Thus, a song is semantically described by this vector and if the set of extracted features spans over various music characteristics such as rhythm, timbre, harmonics, complexity, etc. then calculating the similarity of the vector's numbers is considered to be an approximation of music similarity. Thus, the lower the numerical distance between two vectors, the higher their acoustic similarity. For this reason these approaches are known as *Distance based* methods. They mainly depend on the selected sets of features and on the similarity metric chosen to compare their values.\n",
    "\n",
    "In the second part of this tutorial we are now focussing on an approach, where the feature representation, as well as the similarity function is learned from the underlying dataset.\n",
    "\n",
    "\n",
    "## Tutorial Overview\n",
    "\n",
    "1. Loading data\n",
    "2. Preprocess data\n",
    "3. Define Model\n",
    "4. Fit Model\n",
    "5. Evaluate Model\n",
    "\n"
   ]
  },
  {
   "cell_type": "markdown",
   "metadata": {},
   "source": [
    "## Requiremnts\n",
    "\n",
    "The requirements are the same as for the first part of the tutorials. Please follow the instructions of part one if you have trouble running this tutorial."
   ]
  },
  {
   "cell_type": "code",
   "execution_count": 1,
   "metadata": {
    "scrolled": false
   },
   "outputs": [],
   "source": [
    "import os\n",
    "os.environ[\"CUDA_VISIBLE_DEVICES\"] = \"0\"\n",
    "\n",
    "import tensorflow as tf"
   ]
  },
  {
   "cell_type": "code",
   "execution_count": 85,
   "metadata": {
    "ExecuteTime": {
     "end_time": "2017-08-24T10:20:32.488000Z",
     "start_time": "2017-08-24T10:20:32.483000Z"
    }
   },
   "outputs": [],
   "source": [
    "# visualization\n",
    "%matplotlib inline\n",
    "import matplotlib\n",
    "import matplotlib.pyplot as plt\n",
    "matplotlib.style.use('ggplot')\n",
    "from IPython.display import IFrame\n",
    "\n",
    "# numeric and scientific processing\n",
    "import numpy as np\n",
    "import pandas as pd\n",
    "#from scipy.interpolate import RectBivariateSpline\n",
    "\n",
    "# misc\n",
    "import os\n",
    "import progressbar"
   ]
  },
  {
   "cell_type": "code",
   "execution_count": 86,
   "metadata": {},
   "outputs": [],
   "source": [
    "from IPython.display import HTML, display\n",
    "\n",
    "pd.set_option('display.max_colwidth', -1)"
   ]
  },
  {
   "cell_type": "markdown",
   "metadata": {},
   "source": [
    "# Loading Data\n",
    "\n",
    "We will use the same data that we downloaded from Spotify in Part 1 of the Tutorial. Because we used the joblib library, we will not have to wait that long, because the data is already cached on our harddrive."
   ]
  },
  {
   "cell_type": "code",
   "execution_count": 87,
   "metadata": {},
   "outputs": [],
   "source": [
    "DATASET_PATH    = \"D:/Research/Data/MIR/MagnaTagATune\"\n",
    "\n",
    "METADATA_PATH   = \"%s/metadata\" % DATASET_PATH\n",
    "AUTIO_ROOT_PATH = \"%s/mp3_full\" % DATASET_PATH"
   ]
  },
  {
   "cell_type": "markdown",
   "metadata": {},
   "source": [
    "## Load Feature Data"
   ]
  },
  {
   "cell_type": "code",
   "execution_count": 88,
   "metadata": {},
   "outputs": [
    {
     "data": {
      "text/plain": [
       "(6380, 80, 80)"
      ]
     },
     "execution_count": 88,
     "metadata": {},
     "output_type": "execute_result"
    }
   ],
   "source": [
    "with np.load(\"%s/ISMIR2018_tut_Magnagtagatune_spectrograms.npz\" % DATASET_PATH) as npz:\n",
    "    melspecs      = npz[\"features\"]\n",
    "    clip_id       = npz[\"clip_id\"]\n",
    "    \n",
    "melspecs.shape"
   ]
  },
  {
   "cell_type": "markdown",
   "metadata": {},
   "source": [
    "## Load Metadata"
   ]
  },
  {
   "cell_type": "code",
   "execution_count": 89,
   "metadata": {},
   "outputs": [],
   "source": [
    "metadata = pd.read_csv(\"%s/ismir2018_tut_part_2_genre_metadata.csv\" % METADATA_PATH, index_col=0)"
   ]
  },
  {
   "cell_type": "markdown",
   "metadata": {},
   "source": [
    "Align featuredata with metadata"
   ]
  },
  {
   "cell_type": "code",
   "execution_count": 90,
   "metadata": {},
   "outputs": [],
   "source": [
    "feature_metadata = pd.DataFrame(np.arange(melspecs.shape[0]), \n",
    "                                columns = [\"featurespace_id\"])\n",
    "\n",
    "feature_metadata[\"clip_id\"] = clip_id"
   ]
  },
  {
   "cell_type": "code",
   "execution_count": 91,
   "metadata": {},
   "outputs": [],
   "source": [
    "metadata = metadata.reset_index()\n",
    "metadata = metadata.merge(feature_metadata, left_on=\"clip_id\", right_on=\"clip_id\", how=\"inner\", left_index=True, right_index=False)\n",
    "metadata = metadata.set_index(\"index\")"
   ]
  },
  {
   "cell_type": "markdown",
   "metadata": {},
   "source": [
    "Sort Metadata by Feature-space ID => metadata is aligned to feature-data"
   ]
  },
  {
   "cell_type": "code",
   "execution_count": 92,
   "metadata": {},
   "outputs": [],
   "source": [
    "metadata.sort_values(\"featurespace_id\", inplace=True)"
   ]
  },
  {
   "cell_type": "markdown",
   "metadata": {},
   "source": [
    "Select feature-data for this metadata"
   ]
  },
  {
   "cell_type": "code",
   "execution_count": 93,
   "metadata": {},
   "outputs": [],
   "source": [
    "melspecs = melspecs[metadata.featurespace_id].astype(np.float32)"
   ]
  },
  {
   "cell_type": "code",
   "execution_count": 94,
   "metadata": {},
   "outputs": [],
   "source": [
    "melspecs = np.expand_dims(melspecs, 3)"
   ]
  },
  {
   "cell_type": "code",
   "execution_count": 95,
   "metadata": {},
   "outputs": [],
   "source": [
    "metadata[\"featurespace_id\"] = np.arange(metadata.shape[0])"
   ]
  },
  {
   "cell_type": "code",
   "execution_count": 96,
   "metadata": {},
   "outputs": [],
   "source": [
    "metadata[\"player\"] = '<audio src=\"' + \\\n",
    "                     metadata.mp3_path.str.replace(AUTIO_ROOT_PATH, \"http://localhost:9999\") + \\\n",
    "                     '\" controls>'"
   ]
  },
  {
   "cell_type": "markdown",
   "metadata": {},
   "source": [
    "## Load Labels"
   ]
  },
  {
   "cell_type": "code",
   "execution_count": 97,
   "metadata": {},
   "outputs": [],
   "source": [
    "labels = pd.read_csv(\"%s/ismir2018_tut_part_2_genre_labels.csv\" % METADATA_PATH, index_col=0)"
   ]
  },
  {
   "cell_type": "code",
   "execution_count": 98,
   "metadata": {},
   "outputs": [
    {
     "data": {
      "text/plain": [
       "(2617, 7)"
      ]
     },
     "execution_count": 98,
     "metadata": {},
     "output_type": "execute_result"
    }
   ],
   "source": [
    "labels.shape"
   ]
  },
  {
   "cell_type": "code",
   "execution_count": 99,
   "metadata": {},
   "outputs": [],
   "source": [
    "labels = labels.loc[metadata.index]"
   ]
  },
  {
   "cell_type": "markdown",
   "metadata": {},
   "source": [
    "# Siamese Networks\n",
    "\n",
    "A Siamese neural network is a neural network architecture where two inputs are fed into the same stack of network layers. This is where the name comes from. The shared layers are \"similar\" to Siamese Twins. By feeding two inputs to the shared layers, two representations are generated which can be used for comparison. To train the network according a certain task, it requires labelled data. To learn a simlarity function, these labels should indicate if the two input are similar or dissimilar.\n",
    "\n",
    "This is exactly the approach initially described by Hadsell-et-al.'06 (http://yann.lecun.com/exdb/publis/pdf/hadsell-chopra-lecun-06.pdf). The authors create pairs of simlar and dissimilar images. These are fed into a Siamese NEtwork stack. Finally, the model calculates the eucledian distance between the two generated representations. A contrastive loss is used, to optimize the learned simlarity.\n",
    "\n",
    "To calculate the similarity between a seed image and the rest of the collection, the model is applied to predict the distance between this seed image and every other. The result is a list of distances which has to be sorted descendingly.\n",
    "\n",
    "The following code example follows this approach:"
   ]
  },
  {
   "cell_type": "markdown",
   "metadata": {},
   "source": [
    "**Keras**\n",
    "\n",
    "We use the high-level deep learning API Keras: https://keras.io/"
   ]
  },
  {
   "cell_type": "code",
   "execution_count": 100,
   "metadata": {},
   "outputs": [],
   "source": [
    "from keras.models           import Model\n",
    "from keras.layers           import Input, Lambda, Dense, Conv2D, Flatten, MaxPooling2D, Concatenate, Dropout, BatchNormalization, GaussianNoise\n",
    "from keras.layers.merge     import concatenate\n",
    "from keras.optimizers       import Nadam, SGD, Adam, RMSprop\n",
    "from keras.constraints      import unit_norm\n",
    "from keras.regularizers     import l2\n",
    "from keras import backend as K"
   ]
  },
  {
   "cell_type": "markdown",
   "metadata": {},
   "source": [
    "First we define a distance measure to compare the two representations. We will be using the well known Eucledian distance:"
   ]
  },
  {
   "cell_type": "code",
   "execution_count": 101,
   "metadata": {},
   "outputs": [],
   "source": [
    "def euclidean_distance(vects):\n",
    "    x, y = vects\n",
    "    return K.sqrt(K.maximum(K.sum(K.square(x - y), axis=1, keepdims=True), K.epsilon()))"
   ]
  },
  {
   "cell_type": "markdown",
   "metadata": {},
   "source": [
    "### The Siamese Network Architecture\n",
    "\n",
    "Now we define the Siamese Network Architecture. It consists of two fully connected layers. These layers are shared among the \"Siamese twins\". The network takes two inputs. One goes to the left twin, the other to the right one. The Eucledian distance of the output of each twin is calculated which is the final output of the model."
   ]
  },
  {
   "cell_type": "code",
   "execution_count": 102,
   "metadata": {},
   "outputs": [
    {
     "name": "stdout",
     "output_type": "stream",
     "text": [
      "__________________________________________________________________________________________________\n",
      "Layer (type)                    Output Shape         Param #     Connected to                     \n",
      "==================================================================================================\n",
      "input_ref (InputLayer)          (None, 80, 80, 1)    0                                            \n",
      "__________________________________________________________________________________________________\n",
      "input_dif (InputLayer)          (None, 80, 80, 1)    0                                            \n",
      "__________________________________________________________________________________________________\n",
      "gaussian_noise_7 (GaussianNoise (None, 80, 80, 1)    0           input_ref[0][0]                  \n",
      "                                                                 input_ref[0][0]                  \n",
      "                                                                 input_dif[0][0]                  \n",
      "                                                                 input_dif[0][0]                  \n",
      "__________________________________________________________________________________________________\n",
      "batch_normalization_76 (BatchNo (None, 80, 80, 1)    4           gaussian_noise_7[0][0]           \n",
      "                                                                 gaussian_noise_7[1][0]           \n",
      "                                                                 gaussian_noise_7[2][0]           \n",
      "                                                                 gaussian_noise_7[3][0]           \n",
      "__________________________________________________________________________________________________\n",
      "conv_a (Conv2D)                 (None, 80, 80, 16)   3712        batch_normalization_76[0][0]     \n",
      "                                                                 batch_normalization_76[2][0]     \n",
      "__________________________________________________________________________________________________\n",
      "conv_b (Conv2D)                 (None, 80, 80, 16)   3712        batch_normalization_76[1][0]     \n",
      "                                                                 batch_normalization_76[3][0]     \n",
      "__________________________________________________________________________________________________\n",
      "max_pooling_a (MaxPooling2D)    (None, 4, 20, 16)    0           conv_a[0][0]                     \n",
      "                                                                 conv_a[1][0]                     \n",
      "__________________________________________________________________________________________________\n",
      "max_pooling_b (MaxPooling2D)    (None, 20, 4, 16)    0           conv_b[0][0]                     \n",
      "                                                                 conv_b[1][0]                     \n",
      "__________________________________________________________________________________________________\n",
      "batch_normalization_77 (BatchNo (None, 4, 20, 16)    64          max_pooling_a[0][0]              \n",
      "                                                                 max_pooling_a[1][0]              \n",
      "__________________________________________________________________________________________________\n",
      "batch_normalization_78 (BatchNo (None, 20, 4, 16)    64          max_pooling_b[0][0]              \n",
      "                                                                 max_pooling_b[1][0]              \n",
      "__________________________________________________________________________________________________\n",
      "flatten_a (Flatten)             (None, 1280)         0           batch_normalization_77[0][0]     \n",
      "                                                                 batch_normalization_77[1][0]     \n",
      "__________________________________________________________________________________________________\n",
      "flatten_b (Flatten)             (None, 1280)         0           batch_normalization_78[0][0]     \n",
      "                                                                 batch_normalization_78[1][0]     \n",
      "__________________________________________________________________________________________________\n",
      "concatenate (Concatenate)       (None, 2560)         0           flatten_a[0][0]                  \n",
      "                                                                 flatten_b[0][0]                  \n",
      "                                                                 flatten_a[1][0]                  \n",
      "                                                                 flatten_b[1][0]                  \n",
      "__________________________________________________________________________________________________\n",
      "dense_26 (Dense)                (None, 256)          655616      concatenate[0][0]                \n",
      "                                                                 concatenate[1][0]                \n",
      "__________________________________________________________________________________________________\n",
      "lambda_26 (Lambda)              (None, 256)          0           dense_26[0][0]                   \n",
      "                                                                 dense_26[1][0]                   \n",
      "==================================================================================================\n",
      "Total params: 663,172\n",
      "Trainable params: 663,106\n",
      "Non-trainable params: 66\n",
      "__________________________________________________________________________________________________\n"
     ]
    }
   ],
   "source": [
    "def create_siamese_network():\n",
    "\n",
    "    input_ref = Input((80,80,1), name=\"input_ref\")\n",
    "    input_dif = Input((80,80,1), name=\"input_dif\")\n",
    "    \n",
    "    gn = GaussianNoise(0.2)\n",
    "    bn = BatchNormalization()\n",
    "\n",
    "    cnn_a_1 = Conv2D(16, (21,11), padding=\"same\", activation=\"relu\", kernel_regularizer=l2(0.0001), name=\"conv_a\")\n",
    "    cnn_a_2 = MaxPooling2D((20,4),   name=\"max_pooling_a\")\n",
    "    cnn_a_3 = BatchNormalization()\n",
    "    cnn_a_4 = Flatten(name=\"flatten_a\")\n",
    "\n",
    "    cnn_b_1 = Conv2D(16, (11,21), padding=\"same\", activation=\"relu\", kernel_regularizer=l2(0.0001), name=\"conv_b\")\n",
    "    cnn_b_2 = MaxPooling2D((4,20),   name=\"max_pooling_b\")\n",
    "    cnn_b_3 = BatchNormalization()\n",
    "    cnn_b_4 = Flatten(name=\"flatten_b\")\n",
    "\n",
    "    mrg = Concatenate(axis=1, name=\"concatenate\")\n",
    "\n",
    "    hidden_layer = Dense(256, activation=\"elu\", kernel_constraint=unit_norm())\n",
    "    \n",
    "    def get_shared_dnn(m_input):\n",
    "        shared_cnn_a = cnn_a_4(cnn_a_3(cnn_a_2(cnn_a_1(bn(gn(m_input))))))\n",
    "        shared_cnn_b = cnn_b_4(cnn_b_3(cnn_b_2(cnn_b_1(bn(gn(m_input))))))\n",
    "\n",
    "        return hidden_layer(mrg([shared_cnn_a,shared_cnn_b]))\n",
    "\n",
    "    siamese_ref = get_shared_dnn(input_ref)\n",
    "    siamese_dif = get_shared_dnn(input_dif)\n",
    "\n",
    "    dist = Lambda(euclidean_distance, output_shape=lambda x: x[0])([siamese_ref, siamese_dif])\n",
    "    \n",
    "    model = Model(inputs=[input_ref, input_dif], outputs=dist)\n",
    "    \n",
    "    return model\n",
    "\n",
    "model = create_siamese_network().summary()"
   ]
  },
  {
   "cell_type": "markdown",
   "metadata": {},
   "source": [
    "**Contrastive Loss**\n",
    "\n",
    "The contrastive loss is based on the Euclidean distance and measures the cost of data pairs. The objective of the contrastive loss is to minimize the distance between a similar pair and to separate any two dissimilar data with a distance margin"
   ]
  },
  {
   "cell_type": "code",
   "execution_count": 103,
   "metadata": {},
   "outputs": [],
   "source": [
    "def contrastive_loss(y_true, y_pred):\n",
    "    margin = 1\n",
    "    return K.mean(y_true * K.square(y_pred) + (1 - y_true) * K.square(K.maximum(margin - y_pred, 0)))"
   ]
  },
  {
   "cell_type": "markdown",
   "metadata": {},
   "source": [
    "### Create Data-Triplets\n",
    "\n",
    "Now we have to prepare and partition the input data. Because it is a triplet-wise comparison approach, we have to create triplets of input instances with each row containing a referencec track, a similar example and a dissimilar example."
   ]
  },
  {
   "cell_type": "code",
   "execution_count": 109,
   "metadata": {},
   "outputs": [],
   "source": [
    "def create_pairs(feature_data, metadata, labels, num_triplets_per_track):\n",
    "    \n",
    "    data_ref  = []\n",
    "    data_dif  = []\n",
    "    gt_labels = []\n",
    "    \n",
    "    pbar = progressbar.ProgressBar(max_value=metadata.shape[0])\n",
    "    \n",
    "    i = 0\n",
    "    \n",
    "    for row_id, q_track in pbar(metadata.iterrows()):\n",
    "        \n",
    "        for _ in range(num_triplets_per_track):\n",
    "            \n",
    "            label_differences = np.abs(labels - labels.loc[row_id]).sum(axis=1)\n",
    "            \n",
    "            similar_instances    = label_differences[label_differences == 0]\n",
    "            dissimilar_instances = label_differences[label_differences != 0] \n",
    "            \n",
    "            # search similar and dissimilar examples\n",
    "            pos_example_idx      = similar_instances.sample(1).index.values[0]\n",
    "            neg_example_idx      = dissimilar_instances.sample(1).index.values[0]\n",
    "            \n",
    "            # create feature triplets\n",
    "            feat_id_ref          = metadata.loc[row_id].featurespace_id\n",
    "            feat_id_pos          = metadata.loc[pos_example_idx].featurespace_id\n",
    "            feat_id_neg          = metadata.loc[neg_example_idx].featurespace_id\n",
    "            \n",
    "            #print([feat_id_ref, feat_id_pos, feat_id_neg])\n",
    "            \n",
    "            # genuine pair\n",
    "            data_ref.append(feature_data[feat_id_ref])\n",
    "            data_dif.append(feature_data[feat_id_pos])\n",
    "            gt_labels.append(1)\n",
    "            \n",
    "            data_ref.append(feature_data[feat_id_ref])\n",
    "            data_dif.append(feature_data[feat_id_neg])\n",
    "            gt_labels.append(0)\n",
    "            \n",
    "        #i += 1\n",
    "        \n",
    "        #if i > 10:\n",
    "        #    break\n",
    "\n",
    "    return [np.asarray(data_ref), np.asarray(data_dif)], np.asarray(gt_labels)\n",
    "\n",
    "#data_pairs, paired_labels = create_pairs(melspecs, metadata, labels, 1)"
   ]
  },
  {
   "cell_type": "markdown",
   "metadata": {},
   "source": [
    "Exectue the function to prepare the input data"
   ]
  },
  {
   "cell_type": "code",
   "execution_count": 110,
   "metadata": {},
   "outputs": [
    {
     "name": "stderr",
     "output_type": "stream",
     "text": [
      "100% (2617 of 2617) |####################| Elapsed Time: 0:01:03 Time:  0:01:03\n"
     ]
    },
    {
     "data": {
      "text/plain": [
       "(26170, 80, 80, 1)"
      ]
     },
     "execution_count": 110,
     "metadata": {},
     "output_type": "execute_result"
    }
   ],
   "source": [
    "# create pairs\n",
    "data_pairs, paired_labels = create_pairs(melspecs, metadata, labels, 5)\n",
    "\n",
    "# check - how many instances have we created?\n",
    "data_pairs[0].shape"
   ]
  },
  {
   "cell_type": "markdown",
   "metadata": {},
   "source": [
    "Prepare the Siamese Neural Network"
   ]
  },
  {
   "cell_type": "code",
   "execution_count": 111,
   "metadata": {},
   "outputs": [],
   "source": [
    "# define the model\n",
    "model_orig = create_siamese_network()\n",
    "\n",
    "# define the optimizer\n",
    "opt = Adam(lr=0.0001, decay=0.001)\n",
    "\n",
    "# compile the model\n",
    "model_orig.compile(loss      = contrastive_loss, \n",
    "                   optimizer = opt)"
   ]
  },
  {
   "cell_type": "markdown",
   "metadata": {},
   "source": [
    "Train the network"
   ]
  },
  {
   "cell_type": "code",
   "execution_count": 112,
   "metadata": {
    "scrolled": false
   },
   "outputs": [
    {
     "name": "stdout",
     "output_type": "stream",
     "text": [
      "Train on 24170 samples, validate on 2000 samples\n",
      "Epoch 1/10\n",
      "24170/24170 [==============================] - 27s 1ms/step - loss: 3.9747 - val_loss: 24.0707\n",
      "Epoch 2/10\n",
      "24170/24170 [==============================] - 23s 967us/step - loss: 0.4863 - val_loss: 0.9956\n",
      "Epoch 3/10\n",
      "24170/24170 [==============================] - 23s 967us/step - loss: 0.3652 - val_loss: 0.3153\n",
      "Epoch 4/10\n",
      "24170/24170 [==============================] - 23s 967us/step - loss: 0.3089 - val_loss: 0.3826\n",
      "Epoch 5/10\n",
      "24170/24170 [==============================] - 23s 964us/step - loss: 0.2791 - val_loss: 0.3523\n",
      "Epoch 6/10\n",
      "24170/24170 [==============================] - 23s 962us/step - loss: 0.2610 - val_loss: 0.3303\n",
      "Epoch 7/10\n",
      "24170/24170 [==============================] - 23s 960us/step - loss: 0.2487 - val_loss: 0.3197\n",
      "Epoch 8/10\n",
      "24170/24170 [==============================] - 23s 965us/step - loss: 0.2394 - val_loss: 0.3652\n",
      "Epoch 9/10\n",
      "24170/24170 [==============================] - 23s 948us/step - loss: 0.2319 - val_loss: 0.3024\n",
      "Epoch 10/10\n",
      "24170/24170 [==============================] - 22s 916us/step - loss: 0.2253 - val_loss: 0.3181\n"
     ]
    }
   ],
   "source": [
    "model_orig.fit([data_pairs[0][:-2000], data_pairs[1][:-2000]], \n",
    "                paired_labels[:-2000], \n",
    "                batch_size       = 64, \n",
    "                verbose          = 1, \n",
    "                epochs           = 10,\n",
    "                shuffle          = False, # important !\n",
    "                validation_data = [[data_pairs[0][-2000:], data_pairs[1][-2000:]], paired_labels[-2000:]]);"
   ]
  },
  {
   "cell_type": "raw",
   "metadata": {},
   "source": [
    "def create_siamese_network():\n",
    "\n",
    "    input_ref = Input((80,80,1), name=\"input_ref\")\n",
    "    input_dif = Input((80,80,1), name=\"input_dif\")\n",
    "    \n",
    "    bn = BatchNormalization()\n",
    "\n",
    "    c1 = Conv2D(12, (3,3), padding=\"same\", activation=\"relu\", name=\"conv_1\")\n",
    "    c2 = MaxPooling2D((2,2),   name=\"max_pooling_1\")\n",
    "    c3 = BatchNormalization()\n",
    "    \n",
    "    c4 = Conv2D(24, (3,3), padding=\"same\", activation=\"relu\", name=\"conv_2\")\n",
    "    c5 = MaxPooling2D((2,2),   name=\"max_pooling_2\")\n",
    "    c6 = BatchNormalization()\n",
    "    \n",
    "    c7 = Conv2D(48, (3,3), padding=\"same\", activation=\"relu\", name=\"conv_3\")\n",
    "    c8 = MaxPooling2D((2,2),   name=\"max_pooling_3\")\n",
    "    c9 = BatchNormalization()\n",
    "    \n",
    "    c10 = Conv2D(96, (3,3), padding=\"same\", activation=\"relu\", name=\"conv_4\")\n",
    "    c11 = MaxPooling2D((2,2),   name=\"max_pooling_4\")\n",
    "    c12 = BatchNormalization()\n",
    "    \n",
    "    fl = Flatten()\n",
    "\n",
    "    # , kernel_constraint=unit_norm()\n",
    "    \n",
    "    hidden_layer = Dense(256, activation=\"elu\")\n",
    "\n",
    "\n",
    "    def get_shared_dnn(m_input):\n",
    "        shared_cnn = fl(c12(c11(c10(c9(c8(c7(c6(c5(c4(c3(c2(c1(bn(m_input))))))))))))))\n",
    "        \n",
    "        shared_dnn = hidden_layer(shared_cnn)\n",
    "\n",
    "        return shared_dnn\n",
    "\n",
    "    siamese_ref = get_shared_dnn(input_ref)\n",
    "    siamese_dif = get_shared_dnn(input_dif)\n",
    "\n",
    "    dist = Lambda(euclidean_distance, output_shape=lambda x: x[0])([siamese_ref, siamese_dif])\n",
    "    \n",
    "    #stacked_dists = Lambda(lambda dists: K.stack(dists, axis=1))([dist_pos, dist_neg])\n",
    "\n",
    "    model = Model(inputs=[input_ref, input_dif], outputs=dist)\n",
    "    \n",
    "    return model\n",
    "\n",
    "model = create_siamese_network().summary()"
   ]
  },
  {
   "cell_type": "markdown",
   "metadata": {},
   "source": [
    "# Evaluate\n",
    "\n",
    "Now that we have a trained model, we want to evaluate its performance. We will first play around with some examples, listen to the results and judge by our subjective interpretation before we persue a general evaluation."
   ]
  },
  {
   "cell_type": "markdown",
   "metadata": {
    "scrolled": true
   },
   "source": [
    "### Evaluate by Example\n",
    "\n",
    "The following function calculated the distances between a given query track and all other tracks of the collection. The result is a list of distances where the smallest distance coresponds with the most similar track. The list is sorted descendingly and the top-ten similar tracks are presented below the information of the query track. The Spotify playlist we created at the beginning will also be updated with the query results. Thus, you can listen to it in your Spotify client."
   ]
  },
  {
   "cell_type": "code",
   "execution_count": 113,
   "metadata": {},
   "outputs": [],
   "source": [
    "def similar(model, query_idx):\n",
    "    \n",
    "\n",
    "    print(metadata.iloc[query_idx])\n",
    "    \n",
    "    ref_feat = melspecs[[metadata.iloc[query_idx].featurespace_id]]\n",
    "    ref_feat = np.repeat(ref_feat, melspecs.shape[0], axis=0)\n",
    "    \n",
    "    # calclulate predicted distances between query track and all others\n",
    "    res = model.predict([ref_feat, melspecs])\n",
    "\n",
    "    # reshape\n",
    "    res = res.flatten()\n",
    "    \n",
    "    # get sorted indexes in ascending order (smallest distance to query track first)\n",
    "    si = np.argsort(res)\n",
    "    \n",
    "    # output filter\n",
    "    display_cols = [\"artist\", \"title\", \"album\", \"player\"]\n",
    "    \n",
    "    \n",
    "    \n",
    "    return HTML(metadata.set_index(\"featurespace_id\").loc[si[:11]][display_cols].to_html(escape=False))"
   ]
  },
  {
   "cell_type": "markdown",
   "metadata": {},
   "source": [
    "Now let's check the results for some individual tracks by supplying the index to our dataset:"
   ]
  },
  {
   "cell_type": "code",
   "execution_count": 151,
   "metadata": {},
   "outputs": [
    {
     "name": "stdout",
     "output_type": "stream",
     "text": [
      "clip_id            50892                                                                                                                                                                  \n",
      "mp3_path           D:/Research/Data/MIR/MagnaTagATune/mp3_full/6/doc_rossi-demarzi6_sonatas_for_cetra_o_kitara-13-the_fairy_hornpipe__whisky_youre_the_devil_trad__arr__rossi-117-146.mp3 \n",
      "track_number       13                                                                                                                                                                     \n",
      "title              The Fairy Hornpipe - Whisky You're the Devil (trad. arr. Rossi)                                                                                                        \n",
      "artist             Doc Rossi                                                                                                                                                              \n",
      "album              Demarzi-6 Sonatas for Cetra o Kitara                                                                                                                                   \n",
      "url                http://www.magnatune.com/artists/albums/rossi-demarzi/                                                                                                                 \n",
      "segmentStart       117                                                                                                                                                                    \n",
      "segmentEnd         146                                                                                                                                                                    \n",
      "original_url       http://he3.magnatune.com/all/13-The%20Fairy%20Hornpipe%20-%20Whisky%20You're%20the%20Devil%20(trad.%20arr.%20Rossi)-Doc%20Rossi.mp3                                    \n",
      "featurespace_id    311                                                                                                                                                                    \n",
      "player             <audio src=\"http://localhost:9999/6/doc_rossi-demarzi6_sonatas_for_cetra_o_kitara-13-the_fairy_hornpipe__whisky_youre_the_devil_trad__arr__rossi-117-146.mp3\" controls>\n",
      "Name: 23048, dtype: object\n"
     ]
    },
    {
     "data": {
      "text/html": [
       "<table border=\"1\" class=\"dataframe\">\n",
       "  <thead>\n",
       "    <tr style=\"text-align: right;\">\n",
       "      <th></th>\n",
       "      <th>artist</th>\n",
       "      <th>title</th>\n",
       "      <th>album</th>\n",
       "      <th>player</th>\n",
       "    </tr>\n",
       "    <tr>\n",
       "      <th>featurespace_id</th>\n",
       "      <th></th>\n",
       "      <th></th>\n",
       "      <th></th>\n",
       "      <th></th>\n",
       "    </tr>\n",
       "  </thead>\n",
       "  <tbody>\n",
       "    <tr>\n",
       "      <th>311</th>\n",
       "      <td>Doc Rossi</td>\n",
       "      <td>The Fairy Hornpipe - Whisky You're the Devil (trad. arr. Rossi)</td>\n",
       "      <td>Demarzi-6 Sonatas for Cetra o Kitara</td>\n",
       "      <td><audio src=\"http://localhost:9999/6/doc_rossi-demarzi6_sonatas_for_cetra_o_kitara-13-the_fairy_hornpipe__whisky_youre_the_devil_trad__arr__rossi-117-146.mp3\" controls></td>\n",
       "    </tr>\n",
       "    <tr>\n",
       "      <th>943</th>\n",
       "      <td>Magnatune Remixed</td>\n",
       "      <td>Sonata in G Harp Minor - Fourstones</td>\n",
       "      <td>Ridin the Faders 2</td>\n",
       "      <td><audio src=\"http://localhost:9999/2/magnatune_remixed-ridin_the_faders_2-09-sonata_in_g_harp_minor__fourstones-30-59.mp3\" controls></td>\n",
       "    </tr>\n",
       "    <tr>\n",
       "      <th>338</th>\n",
       "      <td>Jacob Heringman</td>\n",
       "      <td>The Hay</td>\n",
       "      <td>Blame Not My Lute</td>\n",
       "      <td><audio src=\"http://localhost:9999/8/jacob_heringman-blame_not_my_lute-16-the_hay-0-29.mp3\" controls></td>\n",
       "    </tr>\n",
       "    <tr>\n",
       "      <th>832</th>\n",
       "      <td>William Brooks</td>\n",
       "      <td>Convertible Girls Live</td>\n",
       "      <td>Buffalo Treason</td>\n",
       "      <td><audio src=\"http://localhost:9999/8/william_brooks-buffalo_treason-05-convertible_girls_live-204-233.mp3\" controls></td>\n",
       "    </tr>\n",
       "    <tr>\n",
       "      <th>628</th>\n",
       "      <td>Doc Rossi</td>\n",
       "      <td>Sonata III Grazioso</td>\n",
       "      <td>Demarzi-6 Sonatas for Cetra o Kitara</td>\n",
       "      <td><audio src=\"http://localhost:9999/6/doc_rossi-demarzi6_sonatas_for_cetra_o_kitara-12-sonata_iii_grazioso-88-117.mp3\" controls></td>\n",
       "    </tr>\n",
       "    <tr>\n",
       "      <th>81</th>\n",
       "      <td>Philharmonia Baroque</td>\n",
       "      <td>Entree tres gaye des Troubadours _ Air tres gay _ Gavotte _ Menuet (Rameau_ Les Paladins)</td>\n",
       "      <td>Rameau and Leclair</td>\n",
       "      <td><audio src=\"http://localhost:9999/6/philharmonia_baroque-rameau_and_leclair-03-entree_tres_gaye_des_troubadours__air_tres_gay__gavotte__menuet_rameau_les_paladins-146-175.mp3\" controls></td>\n",
       "    </tr>\n",
       "    <tr>\n",
       "      <th>1002</th>\n",
       "      <td>Trip Wamsley</td>\n",
       "      <td>The Deeper Thing (for Sam Lewis)</td>\n",
       "      <td>Its Better This Way</td>\n",
       "      <td><audio src=\"http://localhost:9999/4/trip_wamsley-its_better_this_way-09-the_deeper_thing_for_sam_lewis-146-175.mp3\" controls></td>\n",
       "    </tr>\n",
       "    <tr>\n",
       "      <th>458</th>\n",
       "      <td>Oberlin Consort of Viols</td>\n",
       "      <td>Set a 6 in G minor</td>\n",
       "      <td>5 and 6 part Fantasies of William Lawes</td>\n",
       "      <td><audio src=\"http://localhost:9999/b/oberlin_consort_of_viols-5_and_6_part_fantasies_of_william_lawes-06-set_a_6_in_g_minor-30-59.mp3\" controls></td>\n",
       "    </tr>\n",
       "    <tr>\n",
       "      <th>2211</th>\n",
       "      <td>The Bots</td>\n",
       "      <td>Push</td>\n",
       "      <td>Now is The Time</td>\n",
       "      <td><audio src=\"http://localhost:9999/b/the_bots-now_is_the_time-01-push-0-29.mp3\" controls></td>\n",
       "    </tr>\n",
       "    <tr>\n",
       "      <th>382</th>\n",
       "      <td>John Williams</td>\n",
       "      <td>Nothing Lost</td>\n",
       "      <td>Long Ride Home</td>\n",
       "      <td><audio src=\"http://localhost:9999/4/john_williams-long_ride_home-06-nothing_lost-59-88.mp3\" controls></td>\n",
       "    </tr>\n",
       "    <tr>\n",
       "      <th>130</th>\n",
       "      <td>Four Stones</td>\n",
       "      <td>Dead Money</td>\n",
       "      <td>Chronic Dreams</td>\n",
       "      <td><audio src=\"http://localhost:9999/1/four_stones-chronic_dreams-05-dead_money-88-117.mp3\" controls></td>\n",
       "    </tr>\n",
       "  </tbody>\n",
       "</table>"
      ],
      "text/plain": [
       "<IPython.core.display.HTML object>"
      ]
     },
     "execution_count": 151,
     "metadata": {},
     "output_type": "execute_result"
    }
   ],
   "source": [
    "similar(model_orig, 311)"
   ]
  },
  {
   "cell_type": "markdown",
   "metadata": {},
   "source": [
    "# Improve Performance through prior Knowledge\n",
    "\n",
    "The original approach only uses genuine and impostor pairs and does not consider any further prior knowledge. In that sense if two tracks belong to the same playlist, they are considered similar, if not, than they are not. But, because we have chosen genre-playlists, there are genres that are more similar than others. This is of course highly subjective and depends on the listening behaviour and experience of a listener.\n",
    "\n",
    "The following list represents my own interpretation of genre similarities:"
   ]
  },
  {
   "cell_type": "code",
   "execution_count": 118,
   "metadata": {},
   "outputs": [],
   "source": [
    "sim = [[[\"blues\",      \"blues\"],     1.0],\n",
    "       [[\"blues\",      \"classical\"], 0.0],\n",
    "       [[\"blues\",      \"country\"],   0.8],\n",
    "       [[\"blues\",      \"jazz\"],      0.3],\n",
    "       [[\"blues\",      \"pop\"],       0.0],\n",
    "       [[\"blues\",      \"rock\"],      0.1],\n",
    "       [[\"blues\",      \"techno\"],    0.0],\n",
    "       [[\"classical\",  \"classical\"], 1.0],\n",
    "       [[\"classical\",  \"country\"],   0.0],\n",
    "       [[\"classical\",  \"jazz\"],      0.0],\n",
    "       [[\"classical\",  \"pop\"],       0.0],\n",
    "       [[\"classical\",  \"rock\"],      0.0],\n",
    "       [[\"classical\",  \"techno\"],    0.0],\n",
    "       [[\"country\",    \"country\"],   1.0],\n",
    "       [[\"country\",    \"jazz\"],      0.1],\n",
    "       [[\"country\",    \"pop\"],       0.2],\n",
    "       [[\"country\",    \"rock\"],      0.3],\n",
    "       [[\"country\",    \"techno\"],    0.0],\n",
    "       [[\"jazz\",       \"jazz\"],      1.0],\n",
    "       [[\"jazz\",       \"pop\"],       0.0],\n",
    "       [[\"jazz\",       \"rock\"],      0.1],\n",
    "       [[\"jazz\",       \"techno\"],    0.0],\n",
    "       [[\"pop\",        \"pop\"],       1.0],\n",
    "       [[\"pop\",        \"rock\"],      0.2],\n",
    "       [[\"pop\",        \"techno\"],    0.8],\n",
    "       [[\"rock\",       \"rock\"],      1.0],\n",
    "       [[\"rock\",       \"techno\"],    0.0],\n",
    "       [[\"techno\",     \"techno\"],    1.0]]"
   ]
  },
  {
   "cell_type": "markdown",
   "metadata": {},
   "source": [
    "The following code creates a symmetric lookup-table from the list above:"
   ]
  },
  {
   "cell_type": "code",
   "execution_count": 125,
   "metadata": {},
   "outputs": [
    {
     "data": {
      "text/html": [
       "<div>\n",
       "<style scoped>\n",
       "    .dataframe tbody tr th:only-of-type {\n",
       "        vertical-align: middle;\n",
       "    }\n",
       "\n",
       "    .dataframe tbody tr th {\n",
       "        vertical-align: top;\n",
       "    }\n",
       "\n",
       "    .dataframe thead th {\n",
       "        text-align: right;\n",
       "    }\n",
       "</style>\n",
       "<table border=\"1\" class=\"dataframe\">\n",
       "  <thead>\n",
       "    <tr style=\"text-align: right;\">\n",
       "      <th></th>\n",
       "      <th>blues</th>\n",
       "      <th>classical</th>\n",
       "      <th>country</th>\n",
       "      <th>jazz</th>\n",
       "      <th>pop</th>\n",
       "      <th>rock</th>\n",
       "      <th>techno</th>\n",
       "    </tr>\n",
       "  </thead>\n",
       "  <tbody>\n",
       "    <tr>\n",
       "      <th>blues</th>\n",
       "      <td>1.0</td>\n",
       "      <td>0.0</td>\n",
       "      <td>0.8</td>\n",
       "      <td>0.3</td>\n",
       "      <td>0.0</td>\n",
       "      <td>0.1</td>\n",
       "      <td>0.0</td>\n",
       "    </tr>\n",
       "    <tr>\n",
       "      <th>classical</th>\n",
       "      <td>0.0</td>\n",
       "      <td>1.0</td>\n",
       "      <td>0.0</td>\n",
       "      <td>0.0</td>\n",
       "      <td>0.0</td>\n",
       "      <td>0.0</td>\n",
       "      <td>0.0</td>\n",
       "    </tr>\n",
       "    <tr>\n",
       "      <th>country</th>\n",
       "      <td>0.8</td>\n",
       "      <td>0.0</td>\n",
       "      <td>1.0</td>\n",
       "      <td>0.1</td>\n",
       "      <td>0.2</td>\n",
       "      <td>0.3</td>\n",
       "      <td>0.0</td>\n",
       "    </tr>\n",
       "    <tr>\n",
       "      <th>jazz</th>\n",
       "      <td>0.3</td>\n",
       "      <td>0.0</td>\n",
       "      <td>0.1</td>\n",
       "      <td>1.0</td>\n",
       "      <td>0.0</td>\n",
       "      <td>0.1</td>\n",
       "      <td>0.0</td>\n",
       "    </tr>\n",
       "    <tr>\n",
       "      <th>pop</th>\n",
       "      <td>0.0</td>\n",
       "      <td>0.0</td>\n",
       "      <td>0.2</td>\n",
       "      <td>0.0</td>\n",
       "      <td>1.0</td>\n",
       "      <td>0.2</td>\n",
       "      <td>0.8</td>\n",
       "    </tr>\n",
       "    <tr>\n",
       "      <th>rock</th>\n",
       "      <td>0.1</td>\n",
       "      <td>0.0</td>\n",
       "      <td>0.3</td>\n",
       "      <td>0.1</td>\n",
       "      <td>0.2</td>\n",
       "      <td>1.0</td>\n",
       "      <td>0.0</td>\n",
       "    </tr>\n",
       "    <tr>\n",
       "      <th>techno</th>\n",
       "      <td>0.0</td>\n",
       "      <td>0.0</td>\n",
       "      <td>0.0</td>\n",
       "      <td>0.0</td>\n",
       "      <td>0.8</td>\n",
       "      <td>0.0</td>\n",
       "      <td>1.0</td>\n",
       "    </tr>\n",
       "  </tbody>\n",
       "</table>\n",
       "</div>"
      ],
      "text/plain": [
       "           blues  classical  country  jazz  pop  rock  techno\n",
       "blues      1.0    0.0        0.8      0.3   0.0  0.1   0.0   \n",
       "classical  0.0    1.0        0.0      0.0   0.0  0.0   0.0   \n",
       "country    0.8    0.0        1.0      0.1   0.2  0.3   0.0   \n",
       "jazz       0.3    0.0        0.1      1.0   0.0  0.1   0.0   \n",
       "pop        0.0    0.0        0.2      0.0   1.0  0.2   0.8   \n",
       "rock       0.1    0.0        0.3      0.1   0.2  1.0   0.0   \n",
       "techno     0.0    0.0        0.0      0.0   0.8  0.0   1.0   "
      ]
     },
     "execution_count": 125,
     "metadata": {},
     "output_type": "execute_result"
    }
   ],
   "source": [
    "# get all playlist-names from our dataset\n",
    "playlist_names = [pl for pl in labels.columns]\n",
    "\n",
    "# create the lookup-table\n",
    "playlist_similarities = pd.DataFrame(np.zeros((len(labels.columns),len(labels.columns))), \n",
    "                                     index   = playlist_names, \n",
    "                                     columns = playlist_names)\n",
    "\n",
    "# self-similarity\n",
    "for i in range(len(playlist_names)):\n",
    "    for j in range(len(playlist_names)):\n",
    "        if i == j:\n",
    "            playlist_similarities.iloc[i,j] = 1.0\n",
    "\n",
    "# genre-similarities\n",
    "for s in sim:\n",
    "    playlist_similarities.loc[s[0][0],s[0][1]] = s[1]\n",
    "    playlist_similarities.loc[s[0][1],s[0][0]] = s[1]\n",
    "\n",
    "# show results\n",
    "playlist_similarities"
   ]
  },
  {
   "cell_type": "code",
   "execution_count": 133,
   "metadata": {},
   "outputs": [
    {
     "data": {
      "text/plain": [
       "'classical'"
      ]
     },
     "execution_count": 133,
     "metadata": {},
     "output_type": "execute_result"
    }
   ],
   "source": [
    "labels.loc[0].idxmax(axis=1)"
   ]
  },
  {
   "cell_type": "code",
   "execution_count": 140,
   "metadata": {},
   "outputs": [],
   "source": [
    "def create_pairs_with_sims(feature_data, metadata, labels, playlist_similarities, num_triplets_per_track):\n",
    "    \n",
    "    data_ref  = []\n",
    "    data_dif  = []\n",
    "    gt_labels = []\n",
    "    \n",
    "    pbar = progressbar.ProgressBar(max_value=metadata.shape[0])\n",
    "    \n",
    "    i = 0\n",
    "    \n",
    "    for row_id, q_track in pbar(metadata.iterrows()):\n",
    "        \n",
    "        for _ in range(num_triplets_per_track):\n",
    "            \n",
    "            label_differences = np.abs(labels - labels.loc[row_id]).sum(axis=1)\n",
    "            \n",
    "            similar_instances    = label_differences[label_differences == 0]\n",
    "            dissimilar_instances = label_differences[label_differences != 0] \n",
    "            \n",
    "            # search similar and dissimilar examples\n",
    "            pos_example_idx      = similar_instances.sample(1).index.values[0]\n",
    "            neg_example_idx      = dissimilar_instances.sample(1).index.values[0]\n",
    "            \n",
    "            # create feature triplets\n",
    "            feat_id_ref          = metadata.loc[row_id].featurespace_id\n",
    "            feat_id_pos          = metadata.loc[pos_example_idx].featurespace_id\n",
    "            feat_id_neg          = metadata.loc[neg_example_idx].featurespace_id\n",
    "            \n",
    "            #print([feat_id_ref, feat_id_pos, feat_id_neg])\n",
    "            \n",
    "            # genuine pair\n",
    "            data_ref.append(feature_data[feat_id_ref])\n",
    "            data_dif.append(feature_data[feat_id_pos])\n",
    "            \n",
    "            label = playlist_similarities.loc[labels.loc[row_id].idxmax(axis=1), \n",
    "                                              labels.loc[pos_example_idx].idxmax(axis=1)]\n",
    "                        \n",
    "            gt_labels.append(label)\n",
    "            \n",
    "            data_ref.append(feature_data[feat_id_ref])\n",
    "            data_dif.append(feature_data[feat_id_neg])\n",
    "            \n",
    "            label = playlist_similarities.loc[labels.loc[row_id].idxmax(axis=1), \n",
    "                                              labels.loc[neg_example_idx].idxmax(axis=1)]\n",
    "            \n",
    "            gt_labels.append(label)\n",
    "            \n",
    "        #i += 1\n",
    "        #\n",
    "        #if i > 10:\n",
    "        #    break\n",
    "\n",
    "    return [np.asarray(data_ref), np.asarray(data_dif)], np.asarray(gt_labels)\n",
    "\n",
    "#data_pairs, paired_labels = create_pairs_with_sims(melspecs, metadata, labels, playlist_similarities, 1)"
   ]
  },
  {
   "cell_type": "markdown",
   "metadata": {},
   "source": [
    "### Train network with prior knowledge\n",
    "\n",
    "With this lookup-table we can create more accurate input pairs. Insted of similar/dissimilar we can now apply the supplied similarites:"
   ]
  },
  {
   "cell_type": "markdown",
   "metadata": {},
   "source": [
    "Execute the function to prepare the data:"
   ]
  },
  {
   "cell_type": "code",
   "execution_count": 141,
   "metadata": {},
   "outputs": [
    {
     "name": "stderr",
     "output_type": "stream",
     "text": [
      "100% (2617 of 2617) |####################| Elapsed Time: 0:01:24 Time:  0:01:24\n"
     ]
    },
    {
     "ename": "AttributeError",
     "evalue": "'list' object has no attribute 'shape'",
     "output_type": "error",
     "traceback": [
      "\u001b[1;31m---------------------------------------------------------------------------\u001b[0m",
      "\u001b[1;31mAttributeError\u001b[0m                            Traceback (most recent call last)",
      "\u001b[1;32m<ipython-input-141-c01579ac039d>\u001b[0m in \u001b[0;36m<module>\u001b[1;34m()\u001b[0m\n\u001b[0;32m      3\u001b[0m \u001b[1;33m\u001b[0m\u001b[0m\n\u001b[0;32m      4\u001b[0m \u001b[1;31m# check - how many instances have we created?\u001b[0m\u001b[1;33m\u001b[0m\u001b[1;33m\u001b[0m\u001b[0m\n\u001b[1;32m----> 5\u001b[1;33m \u001b[0mdata_pairs\u001b[0m\u001b[1;33m.\u001b[0m\u001b[0mshape\u001b[0m\u001b[1;33m\u001b[0m\u001b[0m\n\u001b[0m",
      "\u001b[1;31mAttributeError\u001b[0m: 'list' object has no attribute 'shape'"
     ]
    }
   ],
   "source": [
    "# get pairs\n",
    "data_pairs, paired_labels = create_pairs_with_sims(melspecs, metadata, labels, playlist_similarities, 5)\n",
    "\n",
    "# check - how many instances have we created?\n",
    "data_pairs[0].shape"
   ]
  },
  {
   "cell_type": "markdown",
   "metadata": {},
   "source": [
    "Prepare the Siamese Neural Network"
   ]
  },
  {
   "cell_type": "code",
   "execution_count": 143,
   "metadata": {},
   "outputs": [],
   "source": [
    "# define the model\n",
    "model_sim = create_siamese_network()\n",
    "\n",
    "# define the optimizer\n",
    "opt = Adam(lr=0.0001, decay=0.001)\n",
    "\n",
    "# compile the model\n",
    "model_sim.compile(loss      = contrastive_loss, \n",
    "                  optimizer = opt)"
   ]
  },
  {
   "cell_type": "markdown",
   "metadata": {},
   "source": [
    "Train the model on the adapted data:"
   ]
  },
  {
   "cell_type": "code",
   "execution_count": 144,
   "metadata": {
    "scrolled": false
   },
   "outputs": [
    {
     "name": "stdout",
     "output_type": "stream",
     "text": [
      "Train on 24170 samples, validate on 2000 samples\n",
      "Epoch 1/10\n",
      "24170/24170 [==============================] - 27s 1ms/step - loss: 4.5618 - val_loss: 5.0875\n",
      "Epoch 2/10\n",
      "24170/24170 [==============================] - 23s 942us/step - loss: 0.4973 - val_loss: 355.1346\n",
      "Epoch 3/10\n",
      "24170/24170 [==============================] - 23s 961us/step - loss: 0.3865 - val_loss: 0.3822\n",
      "Epoch 4/10\n",
      "24170/24170 [==============================] - 23s 972us/step - loss: 0.3354 - val_loss: 0.4302\n",
      "Epoch 5/10\n",
      "24170/24170 [==============================] - 23s 970us/step - loss: 0.3061 - val_loss: 0.3025\n",
      "Epoch 6/10\n",
      "24170/24170 [==============================] - 23s 967us/step - loss: 0.2853 - val_loss: 708.8054\n",
      "Epoch 7/10\n",
      "24170/24170 [==============================] - 23s 968us/step - loss: 0.2672 - val_loss: 0.3878\n",
      "Epoch 8/10\n",
      "24170/24170 [==============================] - 23s 960us/step - loss: 0.2517 - val_loss: 1.2015\n",
      "Epoch 9/10\n",
      "24170/24170 [==============================] - 23s 970us/step - loss: 0.2402 - val_loss: 873.1398\n",
      "Epoch 10/10\n",
      "24170/24170 [==============================] - 23s 968us/step - loss: 0.2304 - val_loss: 0.2677\n"
     ]
    }
   ],
   "source": [
    "model_sim.fit([data_pairs[0][:-2000], data_pairs[1][:-2000]], \n",
    "                paired_labels[:-2000], \n",
    "                batch_size       = 64, \n",
    "                verbose          = 1, \n",
    "                epochs           = 10,\n",
    "                shuffle          = False, # important !\n",
    "                validation_data = [[data_pairs[0][-2000:], data_pairs[1][-2000:]], paired_labels[-2000:]]);"
   ]
  },
  {
   "cell_type": "markdown",
   "metadata": {},
   "source": [
    "Now let's check the results for some individual tracks by supplying the index to our dataset:"
   ]
  },
  {
   "cell_type": "code",
   "execution_count": 152,
   "metadata": {},
   "outputs": [
    {
     "name": "stdout",
     "output_type": "stream",
     "text": [
      "clip_id            50892                                                                                                                                                                  \n",
      "mp3_path           D:/Research/Data/MIR/MagnaTagATune/mp3_full/6/doc_rossi-demarzi6_sonatas_for_cetra_o_kitara-13-the_fairy_hornpipe__whisky_youre_the_devil_trad__arr__rossi-117-146.mp3 \n",
      "track_number       13                                                                                                                                                                     \n",
      "title              The Fairy Hornpipe - Whisky You're the Devil (trad. arr. Rossi)                                                                                                        \n",
      "artist             Doc Rossi                                                                                                                                                              \n",
      "album              Demarzi-6 Sonatas for Cetra o Kitara                                                                                                                                   \n",
      "url                http://www.magnatune.com/artists/albums/rossi-demarzi/                                                                                                                 \n",
      "segmentStart       117                                                                                                                                                                    \n",
      "segmentEnd         146                                                                                                                                                                    \n",
      "original_url       http://he3.magnatune.com/all/13-The%20Fairy%20Hornpipe%20-%20Whisky%20You're%20the%20Devil%20(trad.%20arr.%20Rossi)-Doc%20Rossi.mp3                                    \n",
      "featurespace_id    311                                                                                                                                                                    \n",
      "player             <audio src=\"http://localhost:9999/6/doc_rossi-demarzi6_sonatas_for_cetra_o_kitara-13-the_fairy_hornpipe__whisky_youre_the_devil_trad__arr__rossi-117-146.mp3\" controls>\n",
      "Name: 23048, dtype: object\n"
     ]
    },
    {
     "data": {
      "text/html": [
       "<table border=\"1\" class=\"dataframe\">\n",
       "  <thead>\n",
       "    <tr style=\"text-align: right;\">\n",
       "      <th></th>\n",
       "      <th>artist</th>\n",
       "      <th>title</th>\n",
       "      <th>album</th>\n",
       "      <th>player</th>\n",
       "    </tr>\n",
       "    <tr>\n",
       "      <th>featurespace_id</th>\n",
       "      <th></th>\n",
       "      <th></th>\n",
       "      <th></th>\n",
       "      <th></th>\n",
       "    </tr>\n",
       "  </thead>\n",
       "  <tbody>\n",
       "    <tr>\n",
       "      <th>311</th>\n",
       "      <td>Doc Rossi</td>\n",
       "      <td>The Fairy Hornpipe - Whisky You're the Devil (trad. arr. Rossi)</td>\n",
       "      <td>Demarzi-6 Sonatas for Cetra o Kitara</td>\n",
       "      <td><audio src=\"http://localhost:9999/6/doc_rossi-demarzi6_sonatas_for_cetra_o_kitara-13-the_fairy_hornpipe__whisky_youre_the_devil_trad__arr__rossi-117-146.mp3\" controls></td>\n",
       "    </tr>\n",
       "    <tr>\n",
       "      <th>651</th>\n",
       "      <td>Paul Beier</td>\n",
       "      <td>Aria I affettuosa</td>\n",
       "      <td>Alessandro Piccinini</td>\n",
       "      <td><audio src=\"http://localhost:9999/b/paul_beier-alessandro_piccinini-15-aria_i_affettuosa-146-175.mp3\" controls></td>\n",
       "    </tr>\n",
       "    <tr>\n",
       "      <th>1507</th>\n",
       "      <td>Heavy Mellow</td>\n",
       "      <td>Open Sea</td>\n",
       "      <td>Horizons</td>\n",
       "      <td><audio src=\"http://localhost:9999/e/heavy_mellow-horizons-12-open_sea-30-59.mp3\" controls></td>\n",
       "    </tr>\n",
       "    <tr>\n",
       "      <th>1650</th>\n",
       "      <td>C Layne</td>\n",
       "      <td>Vertigo Blues</td>\n",
       "      <td>The Sun Will Come Out to Blind You</td>\n",
       "      <td><audio src=\"http://localhost:9999/e/c_layne-the_sun_will_come_out_to_blind_you-05-vertigo_blues-59-88.mp3\" controls></td>\n",
       "    </tr>\n",
       "    <tr>\n",
       "      <th>2203</th>\n",
       "      <td>ABA STRUCTURE</td>\n",
       "      <td>The Internal</td>\n",
       "      <td>EPIC</td>\n",
       "      <td><audio src=\"http://localhost:9999/7/aba_structure-epic-06-the_internal-436-465.mp3\" controls></td>\n",
       "    </tr>\n",
       "    <tr>\n",
       "      <th>1340</th>\n",
       "      <td>Lisa DeBenedictis</td>\n",
       "      <td>Chimney Sweeping</td>\n",
       "      <td>Fruitless</td>\n",
       "      <td><audio src=\"http://localhost:9999/f/lisa_debenedictis-fruitless-06-chimney_sweeping-59-88.mp3\" controls></td>\n",
       "    </tr>\n",
       "    <tr>\n",
       "      <th>452</th>\n",
       "      <td>Barry Phillips</td>\n",
       "      <td>Bjernulf's brollopolska</td>\n",
       "      <td>Trad</td>\n",
       "      <td><audio src=\"http://localhost:9999/6/barry_phillips-trad-17-bjernulfs_brollopolska-88-117.mp3\" controls></td>\n",
       "    </tr>\n",
       "    <tr>\n",
       "      <th>2231</th>\n",
       "      <td>Ambient Teknology</td>\n",
       "      <td>Goa Life</td>\n",
       "      <td>Phoenix</td>\n",
       "      <td><audio src=\"http://localhost:9999/1/ambient_teknology-phoenix-02-goa_life-30-59.mp3\" controls></td>\n",
       "    </tr>\n",
       "    <tr>\n",
       "      <th>794</th>\n",
       "      <td>Doc Rossi</td>\n",
       "      <td>The Fairy Hornpipe - Whisky You're the Devil (trad. arr. Rossi)</td>\n",
       "      <td>Demarzi-6 Sonatas for Cetra o Kitara</td>\n",
       "      <td><audio src=\"http://localhost:9999/6/doc_rossi-demarzi6_sonatas_for_cetra_o_kitara-13-the_fairy_hornpipe__whisky_youre_the_devil_trad__arr__rossi-146-175.mp3\" controls></td>\n",
       "    </tr>\n",
       "    <tr>\n",
       "      <th>733</th>\n",
       "      <td>Voices of Music</td>\n",
       "      <td>Schlafe mein Leibster (BWV 213)</td>\n",
       "      <td>An Evening With Bach</td>\n",
       "      <td><audio src=\"http://localhost:9999/0/voices_of_music-an_evening_with_bach-08-schlafe_mein_leibster_bwv_213-204-233.mp3\" controls></td>\n",
       "    </tr>\n",
       "    <tr>\n",
       "      <th>725</th>\n",
       "      <td>Paul Beier</td>\n",
       "      <td>Corrente X</td>\n",
       "      <td>Alessandro Piccinini</td>\n",
       "      <td><audio src=\"http://localhost:9999/b/paul_beier-alessandro_piccinini-09-corrente_x-59-88.mp3\" controls></td>\n",
       "    </tr>\n",
       "  </tbody>\n",
       "</table>"
      ],
      "text/plain": [
       "<IPython.core.display.HTML object>"
      ]
     },
     "execution_count": 152,
     "metadata": {},
     "output_type": "execute_result"
    }
   ],
   "source": [
    "similar(model_sim, 311)"
   ]
  },
  {
   "cell_type": "markdown",
   "metadata": {},
   "source": [
    "# Improve Performance through Identity\n",
    "\n",
    "So far we have taught the network what is similar and what not, but we have not shown it, what is identical. All input pairs created so far missed to pass identical data. In the following step, we will include identical pairs into the training instances. To emphasis the identity, only identical pairs will be assigned a label of 1. All other similarity values of the lookup-table will be decreased by 0.1. Thus, tracks of the same playlist will have a similarity value 0f 0.9."
   ]
  },
  {
   "cell_type": "code",
   "execution_count": 154,
   "metadata": {},
   "outputs": [],
   "source": [
    "def create_pairs_with_sims_and_identity(feature_data, metadata, labels, playlist_similarities, num_triplets_per_track):\n",
    "    \n",
    "    data_ref  = []\n",
    "    data_dif  = []\n",
    "    gt_labels = []\n",
    "    \n",
    "    pbar = progressbar.ProgressBar(max_value=metadata.shape[0])\n",
    "    \n",
    "    i = 0\n",
    "    \n",
    "    for row_id, q_track in pbar(metadata.iterrows()):\n",
    "        \n",
    "        for j in range(num_triplets_per_track):\n",
    "            \n",
    "            label_differences = np.abs(labels - labels.loc[row_id]).sum(axis=1)\n",
    "            \n",
    "            similar_instances    = label_differences[label_differences == 0]\n",
    "            dissimilar_instances = label_differences[label_differences != 0] \n",
    "            \n",
    "            # search similar and dissimilar examples\n",
    "            pos_example_idx      = similar_instances.sample(1).index.values[0]\n",
    "            neg_example_idx      = dissimilar_instances.sample(1).index.values[0]\n",
    "            \n",
    "            # create feature triplets\n",
    "            feat_id_ref          = metadata.loc[row_id].featurespace_id\n",
    "            feat_id_pos          = metadata.loc[pos_example_idx].featurespace_id\n",
    "            feat_id_neg          = metadata.loc[neg_example_idx].featurespace_id\n",
    "            \n",
    "            #print([feat_id_ref, feat_id_pos, feat_id_neg])\n",
    "            \n",
    "            if j == 0:\n",
    "                \n",
    "                data_ref.append(feature_data[feat_id_ref])\n",
    "                data_dif.append(feature_data[feat_id_ref])\n",
    "                gt_labels.append(1)\n",
    "                \n",
    "                data_ref.append(feature_data[feat_id_ref])\n",
    "                data_dif.append(feature_data[feat_id_neg])\n",
    "                \n",
    "                label = playlist_similarities.loc[labels.loc[row_id].idxmax(axis=1), \n",
    "                                                  labels.loc[neg_example_idx].idxmax(axis=1)]\n",
    "                gt_labels.append(label)\n",
    "            \n",
    "            # genuine pair\n",
    "            data_ref.append(feature_data[feat_id_ref])\n",
    "            data_dif.append(feature_data[feat_id_pos])\n",
    "            \n",
    "            label = playlist_similarities.loc[labels.loc[row_id].idxmax(axis=1), \n",
    "                                              labels.loc[pos_example_idx].idxmax(axis=1)]\n",
    "                        \n",
    "            gt_labels.append(label)\n",
    "            \n",
    "            data_ref.append(feature_data[feat_id_ref])\n",
    "            data_dif.append(feature_data[feat_id_neg])\n",
    "            \n",
    "            label = playlist_similarities.loc[labels.loc[row_id].idxmax(axis=1), \n",
    "                                              labels.loc[neg_example_idx].idxmax(axis=1)]\n",
    "            \n",
    "            gt_labels.append(label)\n",
    "            \n",
    "        #i += 1\n",
    "        #\n",
    "        #if i > 10:\n",
    "        #    break\n",
    "\n",
    "    return [np.asarray(data_ref), np.asarray(data_dif)], np.asarray(gt_labels)\n",
    "\n",
    "#data_pairs, paired_labels = create_pairs_with_sims_and_identity(melspecs, metadata, labels, playlist_similarities, 1)"
   ]
  },
  {
   "cell_type": "code",
   "execution_count": 157,
   "metadata": {},
   "outputs": [
    {
     "data": {
      "text/html": [
       "<div>\n",
       "<style scoped>\n",
       "    .dataframe tbody tr th:only-of-type {\n",
       "        vertical-align: middle;\n",
       "    }\n",
       "\n",
       "    .dataframe tbody tr th {\n",
       "        vertical-align: top;\n",
       "    }\n",
       "\n",
       "    .dataframe thead th {\n",
       "        text-align: right;\n",
       "    }\n",
       "</style>\n",
       "<table border=\"1\" class=\"dataframe\">\n",
       "  <thead>\n",
       "    <tr style=\"text-align: right;\">\n",
       "      <th></th>\n",
       "      <th>blues</th>\n",
       "      <th>classical</th>\n",
       "      <th>country</th>\n",
       "      <th>jazz</th>\n",
       "      <th>pop</th>\n",
       "      <th>rock</th>\n",
       "      <th>techno</th>\n",
       "    </tr>\n",
       "  </thead>\n",
       "  <tbody>\n",
       "    <tr>\n",
       "      <th>blues</th>\n",
       "      <td>0.9</td>\n",
       "      <td>0.0</td>\n",
       "      <td>0.8</td>\n",
       "      <td>0.3</td>\n",
       "      <td>0.0</td>\n",
       "      <td>0.1</td>\n",
       "      <td>0.0</td>\n",
       "    </tr>\n",
       "    <tr>\n",
       "      <th>classical</th>\n",
       "      <td>0.0</td>\n",
       "      <td>0.9</td>\n",
       "      <td>0.0</td>\n",
       "      <td>0.0</td>\n",
       "      <td>0.0</td>\n",
       "      <td>0.0</td>\n",
       "      <td>0.0</td>\n",
       "    </tr>\n",
       "    <tr>\n",
       "      <th>country</th>\n",
       "      <td>0.8</td>\n",
       "      <td>0.0</td>\n",
       "      <td>0.9</td>\n",
       "      <td>0.1</td>\n",
       "      <td>0.2</td>\n",
       "      <td>0.3</td>\n",
       "      <td>0.0</td>\n",
       "    </tr>\n",
       "    <tr>\n",
       "      <th>jazz</th>\n",
       "      <td>0.3</td>\n",
       "      <td>0.0</td>\n",
       "      <td>0.1</td>\n",
       "      <td>0.9</td>\n",
       "      <td>0.0</td>\n",
       "      <td>0.1</td>\n",
       "      <td>0.0</td>\n",
       "    </tr>\n",
       "    <tr>\n",
       "      <th>pop</th>\n",
       "      <td>0.0</td>\n",
       "      <td>0.0</td>\n",
       "      <td>0.2</td>\n",
       "      <td>0.0</td>\n",
       "      <td>0.9</td>\n",
       "      <td>0.2</td>\n",
       "      <td>0.8</td>\n",
       "    </tr>\n",
       "    <tr>\n",
       "      <th>rock</th>\n",
       "      <td>0.1</td>\n",
       "      <td>0.0</td>\n",
       "      <td>0.3</td>\n",
       "      <td>0.1</td>\n",
       "      <td>0.2</td>\n",
       "      <td>0.9</td>\n",
       "      <td>0.0</td>\n",
       "    </tr>\n",
       "    <tr>\n",
       "      <th>techno</th>\n",
       "      <td>0.0</td>\n",
       "      <td>0.0</td>\n",
       "      <td>0.0</td>\n",
       "      <td>0.0</td>\n",
       "      <td>0.8</td>\n",
       "      <td>0.0</td>\n",
       "      <td>0.9</td>\n",
       "    </tr>\n",
       "  </tbody>\n",
       "</table>\n",
       "</div>"
      ],
      "text/plain": [
       "           blues  classical  country  jazz  pop  rock  techno\n",
       "blues      0.9    0.0        0.8      0.3   0.0  0.1   0.0   \n",
       "classical  0.0    0.9        0.0      0.0   0.0  0.0   0.0   \n",
       "country    0.8    0.0        0.9      0.1   0.2  0.3   0.0   \n",
       "jazz       0.3    0.0        0.1      0.9   0.0  0.1   0.0   \n",
       "pop        0.0    0.0        0.2      0.0   0.9  0.2   0.8   \n",
       "rock       0.1    0.0        0.3      0.1   0.2  0.9   0.0   \n",
       "techno     0.0    0.0        0.0      0.0   0.8  0.0   0.9   "
      ]
     },
     "execution_count": 157,
     "metadata": {},
     "output_type": "execute_result"
    }
   ],
   "source": [
    "playlist_similarities[playlist_similarities == 1] = 0.9\n",
    "playlist_similarities"
   ]
  },
  {
   "cell_type": "markdown",
   "metadata": {},
   "source": [
    "Execute the function to prepare the data:"
   ]
  },
  {
   "cell_type": "code",
   "execution_count": 158,
   "metadata": {},
   "outputs": [
    {
     "name": "stderr",
     "output_type": "stream",
     "text": [
      "100% (2617 of 2617) |####################| Elapsed Time: 0:01:16 Time:  0:01:16\n"
     ]
    }
   ],
   "source": [
    "data_pairs, paired_labels = create_pairs_with_sims_and_identity(melspecs, metadata, labels, playlist_similarities, 5)"
   ]
  },
  {
   "cell_type": "markdown",
   "metadata": {},
   "source": [
    "Prepare the Neural Network"
   ]
  },
  {
   "cell_type": "code",
   "execution_count": 159,
   "metadata": {},
   "outputs": [],
   "source": [
    "# define the model\n",
    "model_sim_id = create_siamese_network()\n",
    "\n",
    "# define the optimizer\n",
    "opt = Adam(lr=0.0001, decay=0.001)\n",
    "\n",
    "# compile the model\n",
    "model_sim_id.compile(loss      = contrastive_loss, \n",
    "                  optimizer = opt)"
   ]
  },
  {
   "cell_type": "markdown",
   "metadata": {},
   "source": [
    "Train the model on the adapted data"
   ]
  },
  {
   "cell_type": "code",
   "execution_count": 160,
   "metadata": {},
   "outputs": [
    {
     "name": "stdout",
     "output_type": "stream",
     "text": [
      "Train on 29404 samples, validate on 2000 samples\n",
      "Epoch 1/10\n",
      "29404/29404 [==============================] - 32s 1ms/step - loss: 2.6508 - val_loss: 104.3290\n",
      "Epoch 2/10\n",
      "29404/29404 [==============================] - 28s 962us/step - loss: 0.3760 - val_loss: 244.7066\n",
      "Epoch 3/10\n",
      "29404/29404 [==============================] - 28s 966us/step - loss: 0.2911 - val_loss: 0.4295\n",
      "Epoch 4/10\n",
      "29404/29404 [==============================] - 28s 959us/step - loss: 0.2555 - val_loss: 0.9778\n",
      "Epoch 5/10\n",
      "29404/29404 [==============================] - 28s 967us/step - loss: 0.2359 - val_loss: 0.2540\n",
      "Epoch 6/10\n",
      "29404/29404 [==============================] - 28s 966us/step - loss: 0.2228 - val_loss: 0.4630\n",
      "Epoch 7/10\n",
      "29404/29404 [==============================] - 28s 967us/step - loss: 0.2133 - val_loss: 0.2799\n",
      "Epoch 8/10\n",
      "29404/29404 [==============================] - 29s 970us/step - loss: 0.2060 - val_loss: 0.2244\n",
      "Epoch 9/10\n",
      "29404/29404 [==============================] - 28s 964us/step - loss: 0.2000 - val_loss: 0.2136\n",
      "Epoch 10/10\n",
      "29404/29404 [==============================] - 28s 963us/step - loss: 0.1952 - val_loss: 46.7040\n"
     ]
    }
   ],
   "source": [
    "model_sim_id.fit([data_pairs[0][:-2000], data_pairs[1][:-2000]], \n",
    "                  paired_labels[:-2000], \n",
    "                  batch_size       = 64, \n",
    "                  verbose          = 1, \n",
    "                  epochs           = 10,\n",
    "                  shuffle          = False, # important !\n",
    "                  validation_data = [[data_pairs[0][-2000:], data_pairs[1][-2000:]], paired_labels[-2000:]]);"
   ]
  },
  {
   "cell_type": "markdown",
   "metadata": {},
   "source": [
    "Now let's check the results for some individual tracks by supplying the index to our dataset:"
   ]
  },
  {
   "cell_type": "code",
   "execution_count": 161,
   "metadata": {},
   "outputs": [
    {
     "name": "stdout",
     "output_type": "stream",
     "text": [
      "clip_id            50892                                                                                                                                                                  \n",
      "mp3_path           D:/Research/Data/MIR/MagnaTagATune/mp3_full/6/doc_rossi-demarzi6_sonatas_for_cetra_o_kitara-13-the_fairy_hornpipe__whisky_youre_the_devil_trad__arr__rossi-117-146.mp3 \n",
      "track_number       13                                                                                                                                                                     \n",
      "title              The Fairy Hornpipe - Whisky You're the Devil (trad. arr. Rossi)                                                                                                        \n",
      "artist             Doc Rossi                                                                                                                                                              \n",
      "album              Demarzi-6 Sonatas for Cetra o Kitara                                                                                                                                   \n",
      "url                http://www.magnatune.com/artists/albums/rossi-demarzi/                                                                                                                 \n",
      "segmentStart       117                                                                                                                                                                    \n",
      "segmentEnd         146                                                                                                                                                                    \n",
      "original_url       http://he3.magnatune.com/all/13-The%20Fairy%20Hornpipe%20-%20Whisky%20You're%20the%20Devil%20(trad.%20arr.%20Rossi)-Doc%20Rossi.mp3                                    \n",
      "featurespace_id    311                                                                                                                                                                    \n",
      "player             <audio src=\"http://localhost:9999/6/doc_rossi-demarzi6_sonatas_for_cetra_o_kitara-13-the_fairy_hornpipe__whisky_youre_the_devil_trad__arr__rossi-117-146.mp3\" controls>\n",
      "Name: 23048, dtype: object\n"
     ]
    },
    {
     "data": {
      "text/html": [
       "<table border=\"1\" class=\"dataframe\">\n",
       "  <thead>\n",
       "    <tr style=\"text-align: right;\">\n",
       "      <th></th>\n",
       "      <th>artist</th>\n",
       "      <th>title</th>\n",
       "      <th>album</th>\n",
       "      <th>player</th>\n",
       "    </tr>\n",
       "    <tr>\n",
       "      <th>featurespace_id</th>\n",
       "      <th></th>\n",
       "      <th></th>\n",
       "      <th></th>\n",
       "      <th></th>\n",
       "    </tr>\n",
       "  </thead>\n",
       "  <tbody>\n",
       "    <tr>\n",
       "      <th>311</th>\n",
       "      <td>Doc Rossi</td>\n",
       "      <td>The Fairy Hornpipe - Whisky You're the Devil (trad. arr. Rossi)</td>\n",
       "      <td>Demarzi-6 Sonatas for Cetra o Kitara</td>\n",
       "      <td><audio src=\"http://localhost:9999/6/doc_rossi-demarzi6_sonatas_for_cetra_o_kitara-13-the_fairy_hornpipe__whisky_youre_the_devil_trad__arr__rossi-117-146.mp3\" controls></td>\n",
       "    </tr>\n",
       "    <tr>\n",
       "      <th>794</th>\n",
       "      <td>Doc Rossi</td>\n",
       "      <td>The Fairy Hornpipe - Whisky You're the Devil (trad. arr. Rossi)</td>\n",
       "      <td>Demarzi-6 Sonatas for Cetra o Kitara</td>\n",
       "      <td><audio src=\"http://localhost:9999/6/doc_rossi-demarzi6_sonatas_for_cetra_o_kitara-13-the_fairy_hornpipe__whisky_youre_the_devil_trad__arr__rossi-146-175.mp3\" controls></td>\n",
       "    </tr>\n",
       "    <tr>\n",
       "      <th>512</th>\n",
       "      <td>Paul Beier</td>\n",
       "      <td>Sonate in D minor_ Toccata in tre parti Gagliarda Gagliarda Volta</td>\n",
       "      <td>Michelagnolo Galilei</td>\n",
       "      <td><audio src=\"http://localhost:9999/6/paul_beier-michelagnolo_galilei-03-sonate_in_d_minor_toccata_in_tre_parti_gagliarda_gagliarda_volta-610-639.mp3\" controls></td>\n",
       "    </tr>\n",
       "    <tr>\n",
       "      <th>165</th>\n",
       "      <td>Sherefe</td>\n",
       "      <td>Geldim Bir Kara Tasha</td>\n",
       "      <td>Opium</td>\n",
       "      <td><audio src=\"http://localhost:9999/3/sherefe-opium-06-geldim_bir_kara_tasha-320-349.mp3\" controls></td>\n",
       "    </tr>\n",
       "    <tr>\n",
       "      <th>380</th>\n",
       "      <td>John Williams</td>\n",
       "      <td>Country Kitchen</td>\n",
       "      <td>Dusty Porch</td>\n",
       "      <td><audio src=\"http://localhost:9999/6/john_williams-dusty_porch-12-country_kitchen-0-29.mp3\" controls></td>\n",
       "    </tr>\n",
       "    <tr>\n",
       "      <th>476</th>\n",
       "      <td>Tanya Tomkins and Eric Zivian</td>\n",
       "      <td>Sonata in D Major op. 102 no. 2 Allegro con brio</td>\n",
       "      <td>Beethoven Piano and Cello Works</td>\n",
       "      <td><audio src=\"http://localhost:9999/1/tanya_tomkins_and_eric_zivian-beethoven_piano_and_cello_works-15-sonata_in_d_major_op__102_no__2_allegro_con_brio-146-175.mp3\" controls></td>\n",
       "    </tr>\n",
       "    <tr>\n",
       "      <th>799</th>\n",
       "      <td>William Brooks</td>\n",
       "      <td>Grace</td>\n",
       "      <td>Fowl Mouth</td>\n",
       "      <td><audio src=\"http://localhost:9999/c/william_brooks-fowl_mouth-12-grace-117-146.mp3\" controls></td>\n",
       "    </tr>\n",
       "    <tr>\n",
       "      <th>65</th>\n",
       "      <td>Paul Beier</td>\n",
       "      <td>Ung gaij bergier - Canzone Francese a quattro di Thomas Crequillon</td>\n",
       "      <td>Simone Molinaro</td>\n",
       "      <td><audio src=\"http://localhost:9999/5/paul_beier-simone_molinaro-02-ung_gaij_bergier__canzone_francese_a_quattro_di_thomas_crequillon-88-117.mp3\" controls></td>\n",
       "    </tr>\n",
       "    <tr>\n",
       "      <th>458</th>\n",
       "      <td>Oberlin Consort of Viols</td>\n",
       "      <td>Set a 6 in G minor</td>\n",
       "      <td>5 and 6 part Fantasies of William Lawes</td>\n",
       "      <td><audio src=\"http://localhost:9999/b/oberlin_consort_of_viols-5_and_6_part_fantasies_of_william_lawes-06-set_a_6_in_g_minor-30-59.mp3\" controls></td>\n",
       "    </tr>\n",
       "    <tr>\n",
       "      <th>663</th>\n",
       "      <td>American Bach Soloists</td>\n",
       "      <td>Duet - Wie selig sind doch die</td>\n",
       "      <td>J.S. Bach - Favorite Cantatas</td>\n",
       "      <td><audio src=\"http://localhost:9999/4/american_bach_soloists-j_s__bach__favorite_cantatas-21-duet__wie_selig_sind_doch_die-0-29.mp3\" controls></td>\n",
       "    </tr>\n",
       "    <tr>\n",
       "      <th>2512</th>\n",
       "      <td>Mr Gelatine</td>\n",
       "      <td>they are coming</td>\n",
       "      <td>Electroluv</td>\n",
       "      <td><audio src=\"http://localhost:9999/a/mr_gelatine-electroluv-08-they_are_coming-204-233.mp3\" controls></td>\n",
       "    </tr>\n",
       "  </tbody>\n",
       "</table>"
      ],
      "text/plain": [
       "<IPython.core.display.HTML object>"
      ]
     },
     "execution_count": 161,
     "metadata": {},
     "output_type": "execute_result"
    }
   ],
   "source": [
    "similar(model_sim_id, 311)"
   ]
  }
 ],
 "metadata": {
  "kernelspec": {
   "display_name": "Python 3",
   "language": "python",
   "name": "python3"
  },
  "language_info": {
   "codemirror_mode": {
    "name": "ipython",
    "version": 3
   },
   "file_extension": ".py",
   "mimetype": "text/x-python",
   "name": "python",
   "nbconvert_exporter": "python",
   "pygments_lexer": "ipython3",
   "version": "3.6.6"
  },
  "notify_time": "5",
  "toc": {
   "toc_cell": false,
   "toc_number_sections": true,
   "toc_threshold": 6,
   "toc_window_display": false
  }
 },
 "nbformat": 4,
 "nbformat_minor": 1
}
