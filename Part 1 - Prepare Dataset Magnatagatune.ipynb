{
 "cells": [
  {
   "cell_type": "code",
   "execution_count": 153,
   "metadata": {},
   "outputs": [],
   "source": [
    "%matplotlib inline\n",
    "\n",
    "import matplotlib.pyplot as plt\n",
    "import seaborn as sns\n",
    "\n",
    "import os\n",
    "import glob\n",
    "\n",
    "import pandas as pd\n",
    "import numpy as np\n",
    "\n",
    "import librosa\n",
    "\n",
    "\n",
    "import progressbar"
   ]
  },
  {
   "cell_type": "code",
   "execution_count": 154,
   "metadata": {},
   "outputs": [],
   "source": [
    "DATASET_PATH    = \"D:/Research/Data/MIR/MagnaTagATune\"\n",
    "\n",
    "METADATA_PATH   = \"%s/metadata\" % DATASET_PATH\n",
    "AUTIO_ROOT_PATH = \"%s/mp3_full\" % DATASET_PATH"
   ]
  },
  {
   "cell_type": "markdown",
   "metadata": {},
   "source": [
    "# Process Metadata"
   ]
  },
  {
   "cell_type": "markdown",
   "metadata": {},
   "source": [
    "## Read Metadata"
   ]
  },
  {
   "cell_type": "code",
   "execution_count": 155,
   "metadata": {},
   "outputs": [
    {
     "data": {
      "text/html": [
       "<div>\n",
       "<style scoped>\n",
       "    .dataframe tbody tr th:only-of-type {\n",
       "        vertical-align: middle;\n",
       "    }\n",
       "\n",
       "    .dataframe tbody tr th {\n",
       "        vertical-align: top;\n",
       "    }\n",
       "\n",
       "    .dataframe thead th {\n",
       "        text-align: right;\n",
       "    }\n",
       "</style>\n",
       "<table border=\"1\" class=\"dataframe\">\n",
       "  <thead>\n",
       "    <tr style=\"text-align: right;\">\n",
       "      <th></th>\n",
       "      <th>clip_id</th>\n",
       "      <th>no voice</th>\n",
       "      <th>singer</th>\n",
       "      <th>duet</th>\n",
       "      <th>plucking</th>\n",
       "      <th>hard rock</th>\n",
       "      <th>world</th>\n",
       "      <th>bongos</th>\n",
       "      <th>harpsichord</th>\n",
       "      <th>female singing</th>\n",
       "      <th>...</th>\n",
       "      <th>rap</th>\n",
       "      <th>metal</th>\n",
       "      <th>hip hop</th>\n",
       "      <th>quick</th>\n",
       "      <th>water</th>\n",
       "      <th>baroque</th>\n",
       "      <th>women</th>\n",
       "      <th>fiddle</th>\n",
       "      <th>english</th>\n",
       "      <th>mp3_path</th>\n",
       "    </tr>\n",
       "  </thead>\n",
       "  <tbody>\n",
       "    <tr>\n",
       "      <th>0</th>\n",
       "      <td>2</td>\n",
       "      <td>0</td>\n",
       "      <td>0</td>\n",
       "      <td>0</td>\n",
       "      <td>0</td>\n",
       "      <td>0</td>\n",
       "      <td>0</td>\n",
       "      <td>0</td>\n",
       "      <td>0</td>\n",
       "      <td>0</td>\n",
       "      <td>...</td>\n",
       "      <td>0</td>\n",
       "      <td>0</td>\n",
       "      <td>0</td>\n",
       "      <td>0</td>\n",
       "      <td>0</td>\n",
       "      <td>0</td>\n",
       "      <td>0</td>\n",
       "      <td>0</td>\n",
       "      <td>0</td>\n",
       "      <td>f/american_bach_soloists-j_s__bach_solo_cantat...</td>\n",
       "    </tr>\n",
       "    <tr>\n",
       "      <th>1</th>\n",
       "      <td>6</td>\n",
       "      <td>0</td>\n",
       "      <td>0</td>\n",
       "      <td>0</td>\n",
       "      <td>0</td>\n",
       "      <td>0</td>\n",
       "      <td>0</td>\n",
       "      <td>0</td>\n",
       "      <td>0</td>\n",
       "      <td>0</td>\n",
       "      <td>...</td>\n",
       "      <td>0</td>\n",
       "      <td>0</td>\n",
       "      <td>0</td>\n",
       "      <td>0</td>\n",
       "      <td>0</td>\n",
       "      <td>1</td>\n",
       "      <td>0</td>\n",
       "      <td>0</td>\n",
       "      <td>0</td>\n",
       "      <td>f/american_bach_soloists-j_s__bach_solo_cantat...</td>\n",
       "    </tr>\n",
       "    <tr>\n",
       "      <th>2</th>\n",
       "      <td>10</td>\n",
       "      <td>0</td>\n",
       "      <td>0</td>\n",
       "      <td>0</td>\n",
       "      <td>0</td>\n",
       "      <td>0</td>\n",
       "      <td>0</td>\n",
       "      <td>0</td>\n",
       "      <td>0</td>\n",
       "      <td>0</td>\n",
       "      <td>...</td>\n",
       "      <td>0</td>\n",
       "      <td>0</td>\n",
       "      <td>0</td>\n",
       "      <td>0</td>\n",
       "      <td>0</td>\n",
       "      <td>0</td>\n",
       "      <td>0</td>\n",
       "      <td>0</td>\n",
       "      <td>0</td>\n",
       "      <td>f/american_bach_soloists-j_s__bach_solo_cantat...</td>\n",
       "    </tr>\n",
       "    <tr>\n",
       "      <th>3</th>\n",
       "      <td>11</td>\n",
       "      <td>0</td>\n",
       "      <td>0</td>\n",
       "      <td>0</td>\n",
       "      <td>0</td>\n",
       "      <td>0</td>\n",
       "      <td>0</td>\n",
       "      <td>0</td>\n",
       "      <td>0</td>\n",
       "      <td>0</td>\n",
       "      <td>...</td>\n",
       "      <td>0</td>\n",
       "      <td>0</td>\n",
       "      <td>0</td>\n",
       "      <td>0</td>\n",
       "      <td>0</td>\n",
       "      <td>0</td>\n",
       "      <td>0</td>\n",
       "      <td>0</td>\n",
       "      <td>0</td>\n",
       "      <td>f/american_bach_soloists-j_s__bach_solo_cantat...</td>\n",
       "    </tr>\n",
       "    <tr>\n",
       "      <th>4</th>\n",
       "      <td>12</td>\n",
       "      <td>0</td>\n",
       "      <td>0</td>\n",
       "      <td>0</td>\n",
       "      <td>0</td>\n",
       "      <td>0</td>\n",
       "      <td>0</td>\n",
       "      <td>0</td>\n",
       "      <td>0</td>\n",
       "      <td>0</td>\n",
       "      <td>...</td>\n",
       "      <td>0</td>\n",
       "      <td>0</td>\n",
       "      <td>0</td>\n",
       "      <td>0</td>\n",
       "      <td>0</td>\n",
       "      <td>0</td>\n",
       "      <td>0</td>\n",
       "      <td>0</td>\n",
       "      <td>0</td>\n",
       "      <td>f/american_bach_soloists-j_s__bach_solo_cantat...</td>\n",
       "    </tr>\n",
       "  </tbody>\n",
       "</table>\n",
       "<p>5 rows × 190 columns</p>\n",
       "</div>"
      ],
      "text/plain": [
       "   clip_id  no voice  singer  duet  plucking  hard rock  world  bongos  \\\n",
       "0        2         0       0     0         0          0      0       0   \n",
       "1        6         0       0     0         0          0      0       0   \n",
       "2       10         0       0     0         0          0      0       0   \n",
       "3       11         0       0     0         0          0      0       0   \n",
       "4       12         0       0     0         0          0      0       0   \n",
       "\n",
       "   harpsichord  female singing  \\\n",
       "0            0               0   \n",
       "1            0               0   \n",
       "2            0               0   \n",
       "3            0               0   \n",
       "4            0               0   \n",
       "\n",
       "                         ...                          rap  metal  hip hop  \\\n",
       "0                        ...                            0      0        0   \n",
       "1                        ...                            0      0        0   \n",
       "2                        ...                            0      0        0   \n",
       "3                        ...                            0      0        0   \n",
       "4                        ...                            0      0        0   \n",
       "\n",
       "   quick  water  baroque  women  fiddle  english  \\\n",
       "0      0      0        0      0       0        0   \n",
       "1      0      0        1      0       0        0   \n",
       "2      0      0        0      0       0        0   \n",
       "3      0      0        0      0       0        0   \n",
       "4      0      0        0      0       0        0   \n",
       "\n",
       "                                            mp3_path  \n",
       "0  f/american_bach_soloists-j_s__bach_solo_cantat...  \n",
       "1  f/american_bach_soloists-j_s__bach_solo_cantat...  \n",
       "2  f/american_bach_soloists-j_s__bach_solo_cantat...  \n",
       "3  f/american_bach_soloists-j_s__bach_solo_cantat...  \n",
       "4  f/american_bach_soloists-j_s__bach_solo_cantat...  \n",
       "\n",
       "[5 rows x 190 columns]"
      ]
     },
     "execution_count": 155,
     "metadata": {},
     "output_type": "execute_result"
    }
   ],
   "source": [
    "metadata = pd.read_csv(\"%s/annotations_final.csv\" % METADATA_PATH, sep=\"\\t\")\n",
    "metadata.head()"
   ]
  },
  {
   "cell_type": "markdown",
   "metadata": {},
   "source": [
    "### Expand filename of Metadata"
   ]
  },
  {
   "cell_type": "code",
   "execution_count": 156,
   "metadata": {},
   "outputs": [],
   "source": [
    "metadata[\"mp3_path\"] = AUTIO_ROOT_PATH + \"/\" + metadata.mp3_path"
   ]
  },
  {
   "cell_type": "markdown",
   "metadata": {},
   "source": [
    "## Check if files exist"
   ]
  },
  {
   "cell_type": "code",
   "execution_count": 157,
   "metadata": {},
   "outputs": [],
   "source": [
    "file_exist_mask = [os.path.exists(fn) for fn in metadata.mp3_path]"
   ]
  },
  {
   "cell_type": "code",
   "execution_count": 158,
   "metadata": {},
   "outputs": [
    {
     "data": {
      "text/plain": [
       "25863"
      ]
     },
     "execution_count": 158,
     "metadata": {},
     "output_type": "execute_result"
    }
   ],
   "source": [
    "np.sum(file_exist_mask)"
   ]
  },
  {
   "cell_type": "markdown",
   "metadata": {},
   "source": [
    "## Separate Ground Truth from Metadata"
   ]
  },
  {
   "cell_type": "code",
   "execution_count": 159,
   "metadata": {},
   "outputs": [
    {
     "data": {
      "text/html": [
       "<div>\n",
       "<style scoped>\n",
       "    .dataframe tbody tr th:only-of-type {\n",
       "        vertical-align: middle;\n",
       "    }\n",
       "\n",
       "    .dataframe tbody tr th {\n",
       "        vertical-align: top;\n",
       "    }\n",
       "\n",
       "    .dataframe thead th {\n",
       "        text-align: right;\n",
       "    }\n",
       "</style>\n",
       "<table border=\"1\" class=\"dataframe\">\n",
       "  <thead>\n",
       "    <tr style=\"text-align: right;\">\n",
       "      <th></th>\n",
       "      <th>no voice</th>\n",
       "      <th>singer</th>\n",
       "      <th>duet</th>\n",
       "      <th>plucking</th>\n",
       "      <th>hard rock</th>\n",
       "      <th>world</th>\n",
       "      <th>bongos</th>\n",
       "      <th>harpsichord</th>\n",
       "      <th>female singing</th>\n",
       "      <th>clasical</th>\n",
       "      <th>...</th>\n",
       "      <th>female singer</th>\n",
       "      <th>rap</th>\n",
       "      <th>metal</th>\n",
       "      <th>hip hop</th>\n",
       "      <th>quick</th>\n",
       "      <th>water</th>\n",
       "      <th>baroque</th>\n",
       "      <th>women</th>\n",
       "      <th>fiddle</th>\n",
       "      <th>english</th>\n",
       "    </tr>\n",
       "  </thead>\n",
       "  <tbody>\n",
       "    <tr>\n",
       "      <th>0</th>\n",
       "      <td>0</td>\n",
       "      <td>0</td>\n",
       "      <td>0</td>\n",
       "      <td>0</td>\n",
       "      <td>0</td>\n",
       "      <td>0</td>\n",
       "      <td>0</td>\n",
       "      <td>0</td>\n",
       "      <td>0</td>\n",
       "      <td>0</td>\n",
       "      <td>...</td>\n",
       "      <td>0</td>\n",
       "      <td>0</td>\n",
       "      <td>0</td>\n",
       "      <td>0</td>\n",
       "      <td>0</td>\n",
       "      <td>0</td>\n",
       "      <td>0</td>\n",
       "      <td>0</td>\n",
       "      <td>0</td>\n",
       "      <td>0</td>\n",
       "    </tr>\n",
       "    <tr>\n",
       "      <th>1</th>\n",
       "      <td>0</td>\n",
       "      <td>0</td>\n",
       "      <td>0</td>\n",
       "      <td>0</td>\n",
       "      <td>0</td>\n",
       "      <td>0</td>\n",
       "      <td>0</td>\n",
       "      <td>0</td>\n",
       "      <td>0</td>\n",
       "      <td>0</td>\n",
       "      <td>...</td>\n",
       "      <td>0</td>\n",
       "      <td>0</td>\n",
       "      <td>0</td>\n",
       "      <td>0</td>\n",
       "      <td>0</td>\n",
       "      <td>0</td>\n",
       "      <td>1</td>\n",
       "      <td>0</td>\n",
       "      <td>0</td>\n",
       "      <td>0</td>\n",
       "    </tr>\n",
       "    <tr>\n",
       "      <th>2</th>\n",
       "      <td>0</td>\n",
       "      <td>0</td>\n",
       "      <td>0</td>\n",
       "      <td>0</td>\n",
       "      <td>0</td>\n",
       "      <td>0</td>\n",
       "      <td>0</td>\n",
       "      <td>0</td>\n",
       "      <td>0</td>\n",
       "      <td>0</td>\n",
       "      <td>...</td>\n",
       "      <td>0</td>\n",
       "      <td>0</td>\n",
       "      <td>0</td>\n",
       "      <td>0</td>\n",
       "      <td>0</td>\n",
       "      <td>0</td>\n",
       "      <td>0</td>\n",
       "      <td>0</td>\n",
       "      <td>0</td>\n",
       "      <td>0</td>\n",
       "    </tr>\n",
       "    <tr>\n",
       "      <th>3</th>\n",
       "      <td>0</td>\n",
       "      <td>0</td>\n",
       "      <td>0</td>\n",
       "      <td>0</td>\n",
       "      <td>0</td>\n",
       "      <td>0</td>\n",
       "      <td>0</td>\n",
       "      <td>0</td>\n",
       "      <td>0</td>\n",
       "      <td>0</td>\n",
       "      <td>...</td>\n",
       "      <td>0</td>\n",
       "      <td>0</td>\n",
       "      <td>0</td>\n",
       "      <td>0</td>\n",
       "      <td>0</td>\n",
       "      <td>0</td>\n",
       "      <td>0</td>\n",
       "      <td>0</td>\n",
       "      <td>0</td>\n",
       "      <td>0</td>\n",
       "    </tr>\n",
       "    <tr>\n",
       "      <th>4</th>\n",
       "      <td>0</td>\n",
       "      <td>0</td>\n",
       "      <td>0</td>\n",
       "      <td>0</td>\n",
       "      <td>0</td>\n",
       "      <td>0</td>\n",
       "      <td>0</td>\n",
       "      <td>0</td>\n",
       "      <td>0</td>\n",
       "      <td>0</td>\n",
       "      <td>...</td>\n",
       "      <td>0</td>\n",
       "      <td>0</td>\n",
       "      <td>0</td>\n",
       "      <td>0</td>\n",
       "      <td>0</td>\n",
       "      <td>0</td>\n",
       "      <td>0</td>\n",
       "      <td>0</td>\n",
       "      <td>0</td>\n",
       "      <td>0</td>\n",
       "    </tr>\n",
       "  </tbody>\n",
       "</table>\n",
       "<p>5 rows × 188 columns</p>\n",
       "</div>"
      ],
      "text/plain": [
       "   no voice  singer  duet  plucking  hard rock  world  bongos  harpsichord  \\\n",
       "0         0       0     0         0          0      0       0            0   \n",
       "1         0       0     0         0          0      0       0            0   \n",
       "2         0       0     0         0          0      0       0            0   \n",
       "3         0       0     0         0          0      0       0            0   \n",
       "4         0       0     0         0          0      0       0            0   \n",
       "\n",
       "   female singing  clasical   ...     female singer  rap  metal  hip hop  \\\n",
       "0               0         0   ...                 0    0      0        0   \n",
       "1               0         0   ...                 0    0      0        0   \n",
       "2               0         0   ...                 0    0      0        0   \n",
       "3               0         0   ...                 0    0      0        0   \n",
       "4               0         0   ...                 0    0      0        0   \n",
       "\n",
       "   quick  water  baroque  women  fiddle  english  \n",
       "0      0      0        0      0       0        0  \n",
       "1      0      0        1      0       0        0  \n",
       "2      0      0        0      0       0        0  \n",
       "3      0      0        0      0       0        0  \n",
       "4      0      0        0      0       0        0  \n",
       "\n",
       "[5 rows x 188 columns]"
      ]
     },
     "execution_count": 159,
     "metadata": {},
     "output_type": "execute_result"
    }
   ],
   "source": [
    "ground_truth_annotations = metadata[[c for c in metadata.columns if c not in [\"clip_id\", \"mp3_path\"]]]\n",
    "ground_truth_annotations.head()"
   ]
  },
  {
   "cell_type": "markdown",
   "metadata": {},
   "source": [
    "## Separate Metadata"
   ]
  },
  {
   "cell_type": "code",
   "execution_count": 160,
   "metadata": {},
   "outputs": [],
   "source": [
    "metadata = metadata[[\"clip_id\", \"mp3_path\"]]"
   ]
  },
  {
   "cell_type": "markdown",
   "metadata": {},
   "source": [
    "# Enrich Metadata"
   ]
  },
  {
   "cell_type": "markdown",
   "metadata": {},
   "source": [
    "## Add Clip-Info"
   ]
  },
  {
   "cell_type": "code",
   "execution_count": 161,
   "metadata": {},
   "outputs": [
    {
     "data": {
      "text/html": [
       "<div>\n",
       "<style scoped>\n",
       "    .dataframe tbody tr th:only-of-type {\n",
       "        vertical-align: middle;\n",
       "    }\n",
       "\n",
       "    .dataframe tbody tr th {\n",
       "        vertical-align: top;\n",
       "    }\n",
       "\n",
       "    .dataframe thead th {\n",
       "        text-align: right;\n",
       "    }\n",
       "</style>\n",
       "<table border=\"1\" class=\"dataframe\">\n",
       "  <thead>\n",
       "    <tr style=\"text-align: right;\">\n",
       "      <th></th>\n",
       "      <th>clip_id</th>\n",
       "      <th>track_number</th>\n",
       "      <th>title</th>\n",
       "      <th>artist</th>\n",
       "      <th>album</th>\n",
       "      <th>url</th>\n",
       "      <th>segmentStart</th>\n",
       "      <th>segmentEnd</th>\n",
       "      <th>original_url</th>\n",
       "    </tr>\n",
       "  </thead>\n",
       "  <tbody>\n",
       "    <tr>\n",
       "      <th>0</th>\n",
       "      <td>2</td>\n",
       "      <td>1</td>\n",
       "      <td>BWV54 - I Aria</td>\n",
       "      <td>American Bach Soloists</td>\n",
       "      <td>J.S. Bach Solo Cantatas</td>\n",
       "      <td>http://www.magnatune.com/artists/albums/abs-so...</td>\n",
       "      <td>30</td>\n",
       "      <td>59</td>\n",
       "      <td>http://he3.magnatune.com/all/01--BWV54%20-%20I...</td>\n",
       "    </tr>\n",
       "    <tr>\n",
       "      <th>1</th>\n",
       "      <td>6</td>\n",
       "      <td>1</td>\n",
       "      <td>BWV54 - I Aria</td>\n",
       "      <td>American Bach Soloists</td>\n",
       "      <td>J.S. Bach Solo Cantatas</td>\n",
       "      <td>http://www.magnatune.com/artists/albums/abs-so...</td>\n",
       "      <td>146</td>\n",
       "      <td>175</td>\n",
       "      <td>http://he3.magnatune.com/all/01--BWV54%20-%20I...</td>\n",
       "    </tr>\n",
       "    <tr>\n",
       "      <th>2</th>\n",
       "      <td>10</td>\n",
       "      <td>1</td>\n",
       "      <td>BWV54 - I Aria</td>\n",
       "      <td>American Bach Soloists</td>\n",
       "      <td>J.S. Bach Solo Cantatas</td>\n",
       "      <td>http://www.magnatune.com/artists/albums/abs-so...</td>\n",
       "      <td>262</td>\n",
       "      <td>291</td>\n",
       "      <td>http://he3.magnatune.com/all/01--BWV54%20-%20I...</td>\n",
       "    </tr>\n",
       "    <tr>\n",
       "      <th>3</th>\n",
       "      <td>11</td>\n",
       "      <td>1</td>\n",
       "      <td>BWV54 - I Aria</td>\n",
       "      <td>American Bach Soloists</td>\n",
       "      <td>J.S. Bach Solo Cantatas</td>\n",
       "      <td>http://www.magnatune.com/artists/albums/abs-so...</td>\n",
       "      <td>291</td>\n",
       "      <td>320</td>\n",
       "      <td>http://he3.magnatune.com/all/01--BWV54%20-%20I...</td>\n",
       "    </tr>\n",
       "    <tr>\n",
       "      <th>4</th>\n",
       "      <td>12</td>\n",
       "      <td>1</td>\n",
       "      <td>BWV54 - I Aria</td>\n",
       "      <td>American Bach Soloists</td>\n",
       "      <td>J.S. Bach Solo Cantatas</td>\n",
       "      <td>http://www.magnatune.com/artists/albums/abs-so...</td>\n",
       "      <td>320</td>\n",
       "      <td>349</td>\n",
       "      <td>http://he3.magnatune.com/all/01--BWV54%20-%20I...</td>\n",
       "    </tr>\n",
       "  </tbody>\n",
       "</table>\n",
       "</div>"
      ],
      "text/plain": [
       "   clip_id  track_number           title                  artist  \\\n",
       "0        2             1  BWV54 - I Aria  American Bach Soloists   \n",
       "1        6             1  BWV54 - I Aria  American Bach Soloists   \n",
       "2       10             1  BWV54 - I Aria  American Bach Soloists   \n",
       "3       11             1  BWV54 - I Aria  American Bach Soloists   \n",
       "4       12             1  BWV54 - I Aria  American Bach Soloists   \n",
       "\n",
       "                     album                                                url  \\\n",
       "0  J.S. Bach Solo Cantatas  http://www.magnatune.com/artists/albums/abs-so...   \n",
       "1  J.S. Bach Solo Cantatas  http://www.magnatune.com/artists/albums/abs-so...   \n",
       "2  J.S. Bach Solo Cantatas  http://www.magnatune.com/artists/albums/abs-so...   \n",
       "3  J.S. Bach Solo Cantatas  http://www.magnatune.com/artists/albums/abs-so...   \n",
       "4  J.S. Bach Solo Cantatas  http://www.magnatune.com/artists/albums/abs-so...   \n",
       "\n",
       "   segmentStart  segmentEnd                                       original_url  \n",
       "0            30          59  http://he3.magnatune.com/all/01--BWV54%20-%20I...  \n",
       "1           146         175  http://he3.magnatune.com/all/01--BWV54%20-%20I...  \n",
       "2           262         291  http://he3.magnatune.com/all/01--BWV54%20-%20I...  \n",
       "3           291         320  http://he3.magnatune.com/all/01--BWV54%20-%20I...  \n",
       "4           320         349  http://he3.magnatune.com/all/01--BWV54%20-%20I...  "
      ]
     },
     "execution_count": 161,
     "metadata": {},
     "output_type": "execute_result"
    }
   ],
   "source": [
    "clip_info = pd.read_csv(\"%s/clip_info_final.csv\" % METADATA_PATH, sep=\"\\t\")\n",
    "clip_info = clip_info.drop(\"mp3_path\", axis=1)\n",
    "clip_info.head()"
   ]
  },
  {
   "cell_type": "markdown",
   "metadata": {},
   "source": [
    "Merge with metadata"
   ]
  },
  {
   "cell_type": "code",
   "execution_count": 162,
   "metadata": {},
   "outputs": [
    {
     "data": {
      "text/html": [
       "<div>\n",
       "<style scoped>\n",
       "    .dataframe tbody tr th:only-of-type {\n",
       "        vertical-align: middle;\n",
       "    }\n",
       "\n",
       "    .dataframe tbody tr th {\n",
       "        vertical-align: top;\n",
       "    }\n",
       "\n",
       "    .dataframe thead th {\n",
       "        text-align: right;\n",
       "    }\n",
       "</style>\n",
       "<table border=\"1\" class=\"dataframe\">\n",
       "  <thead>\n",
       "    <tr style=\"text-align: right;\">\n",
       "      <th></th>\n",
       "      <th>clip_id</th>\n",
       "      <th>mp3_path</th>\n",
       "      <th>track_number</th>\n",
       "      <th>title</th>\n",
       "      <th>artist</th>\n",
       "      <th>album</th>\n",
       "      <th>url</th>\n",
       "      <th>segmentStart</th>\n",
       "      <th>segmentEnd</th>\n",
       "      <th>original_url</th>\n",
       "    </tr>\n",
       "  </thead>\n",
       "  <tbody>\n",
       "    <tr>\n",
       "      <th>0</th>\n",
       "      <td>2</td>\n",
       "      <td>D:/Research/Data/MIR/MagnaTagATune/mp3_full/f/...</td>\n",
       "      <td>1</td>\n",
       "      <td>BWV54 - I Aria</td>\n",
       "      <td>American Bach Soloists</td>\n",
       "      <td>J.S. Bach Solo Cantatas</td>\n",
       "      <td>http://www.magnatune.com/artists/albums/abs-so...</td>\n",
       "      <td>30</td>\n",
       "      <td>59</td>\n",
       "      <td>http://he3.magnatune.com/all/01--BWV54%20-%20I...</td>\n",
       "    </tr>\n",
       "    <tr>\n",
       "      <th>1</th>\n",
       "      <td>6</td>\n",
       "      <td>D:/Research/Data/MIR/MagnaTagATune/mp3_full/f/...</td>\n",
       "      <td>1</td>\n",
       "      <td>BWV54 - I Aria</td>\n",
       "      <td>American Bach Soloists</td>\n",
       "      <td>J.S. Bach Solo Cantatas</td>\n",
       "      <td>http://www.magnatune.com/artists/albums/abs-so...</td>\n",
       "      <td>146</td>\n",
       "      <td>175</td>\n",
       "      <td>http://he3.magnatune.com/all/01--BWV54%20-%20I...</td>\n",
       "    </tr>\n",
       "    <tr>\n",
       "      <th>2</th>\n",
       "      <td>10</td>\n",
       "      <td>D:/Research/Data/MIR/MagnaTagATune/mp3_full/f/...</td>\n",
       "      <td>1</td>\n",
       "      <td>BWV54 - I Aria</td>\n",
       "      <td>American Bach Soloists</td>\n",
       "      <td>J.S. Bach Solo Cantatas</td>\n",
       "      <td>http://www.magnatune.com/artists/albums/abs-so...</td>\n",
       "      <td>262</td>\n",
       "      <td>291</td>\n",
       "      <td>http://he3.magnatune.com/all/01--BWV54%20-%20I...</td>\n",
       "    </tr>\n",
       "    <tr>\n",
       "      <th>3</th>\n",
       "      <td>11</td>\n",
       "      <td>D:/Research/Data/MIR/MagnaTagATune/mp3_full/f/...</td>\n",
       "      <td>1</td>\n",
       "      <td>BWV54 - I Aria</td>\n",
       "      <td>American Bach Soloists</td>\n",
       "      <td>J.S. Bach Solo Cantatas</td>\n",
       "      <td>http://www.magnatune.com/artists/albums/abs-so...</td>\n",
       "      <td>291</td>\n",
       "      <td>320</td>\n",
       "      <td>http://he3.magnatune.com/all/01--BWV54%20-%20I...</td>\n",
       "    </tr>\n",
       "    <tr>\n",
       "      <th>4</th>\n",
       "      <td>12</td>\n",
       "      <td>D:/Research/Data/MIR/MagnaTagATune/mp3_full/f/...</td>\n",
       "      <td>1</td>\n",
       "      <td>BWV54 - I Aria</td>\n",
       "      <td>American Bach Soloists</td>\n",
       "      <td>J.S. Bach Solo Cantatas</td>\n",
       "      <td>http://www.magnatune.com/artists/albums/abs-so...</td>\n",
       "      <td>320</td>\n",
       "      <td>349</td>\n",
       "      <td>http://he3.magnatune.com/all/01--BWV54%20-%20I...</td>\n",
       "    </tr>\n",
       "  </tbody>\n",
       "</table>\n",
       "</div>"
      ],
      "text/plain": [
       "   clip_id                                           mp3_path  track_number  \\\n",
       "0        2  D:/Research/Data/MIR/MagnaTagATune/mp3_full/f/...             1   \n",
       "1        6  D:/Research/Data/MIR/MagnaTagATune/mp3_full/f/...             1   \n",
       "2       10  D:/Research/Data/MIR/MagnaTagATune/mp3_full/f/...             1   \n",
       "3       11  D:/Research/Data/MIR/MagnaTagATune/mp3_full/f/...             1   \n",
       "4       12  D:/Research/Data/MIR/MagnaTagATune/mp3_full/f/...             1   \n",
       "\n",
       "            title                  artist                    album  \\\n",
       "0  BWV54 - I Aria  American Bach Soloists  J.S. Bach Solo Cantatas   \n",
       "1  BWV54 - I Aria  American Bach Soloists  J.S. Bach Solo Cantatas   \n",
       "2  BWV54 - I Aria  American Bach Soloists  J.S. Bach Solo Cantatas   \n",
       "3  BWV54 - I Aria  American Bach Soloists  J.S. Bach Solo Cantatas   \n",
       "4  BWV54 - I Aria  American Bach Soloists  J.S. Bach Solo Cantatas   \n",
       "\n",
       "                                                 url  segmentStart  \\\n",
       "0  http://www.magnatune.com/artists/albums/abs-so...            30   \n",
       "1  http://www.magnatune.com/artists/albums/abs-so...           146   \n",
       "2  http://www.magnatune.com/artists/albums/abs-so...           262   \n",
       "3  http://www.magnatune.com/artists/albums/abs-so...           291   \n",
       "4  http://www.magnatune.com/artists/albums/abs-so...           320   \n",
       "\n",
       "   segmentEnd                                       original_url  \n",
       "0          59  http://he3.magnatune.com/all/01--BWV54%20-%20I...  \n",
       "1         175  http://he3.magnatune.com/all/01--BWV54%20-%20I...  \n",
       "2         291  http://he3.magnatune.com/all/01--BWV54%20-%20I...  \n",
       "3         320  http://he3.magnatune.com/all/01--BWV54%20-%20I...  \n",
       "4         349  http://he3.magnatune.com/all/01--BWV54%20-%20I...  "
      ]
     },
     "execution_count": 162,
     "metadata": {},
     "output_type": "execute_result"
    }
   ],
   "source": [
    "metadata = metadata.merge(clip_info, left_on=\"clip_id\", right_on=\"clip_id\", how=\"inner\")\n",
    "metadata.head()"
   ]
  },
  {
   "cell_type": "markdown",
   "metadata": {},
   "source": [
    "# Inspect Metadata"
   ]
  },
  {
   "cell_type": "markdown",
   "metadata": {},
   "source": [
    "**Plot Most frequent Tags**"
   ]
  },
  {
   "cell_type": "code",
   "execution_count": 163,
   "metadata": {},
   "outputs": [
    {
     "data": {
      "image/png": "[encoded data removed]",
      "text/plain": [
       "<Figure size 1152x432 with 1 Axes>"
      ]
     },
     "metadata": {
      "needs_background": "light"
     },
     "output_type": "display_data"
    }
   ],
   "source": [
    "ground_truth_annotations.sum(axis=0).sort_values(ascending=False)[:50].plot(kind='bar', figsize=(16,6));"
   ]
  },
  {
   "cell_type": "markdown",
   "metadata": {},
   "source": [
    "**Plot Co-occurrences**\n",
    "\n",
    "* Sorted by most frequent labels\n",
    "* Shows most frequent labels and how they co-occurr\n",
    "* Visualization to get an overview of Tag frequencies"
   ]
  },
  {
   "cell_type": "code",
   "execution_count": 164,
   "metadata": {
    "scrolled": false
   },
   "outputs": [
    {
     "data": {
      "image/png": "[encoded data removed]",
      "text/plain": [
       "<Figure size 1152x1152 with 2 Axes>"
      ]
     },
     "metadata": {
      "needs_background": "light"
     },
     "output_type": "display_data"
    }
   ],
   "source": [
    "# calculate co-occurencies\n",
    "coorc = ground_truth_annotations.T.dot(ground_truth_annotations)\n",
    "\n",
    "# sort co-occurrence matrix\n",
    "coorc = coorc.loc[coorc.max().sort_values(ascending=False).index]\n",
    "coorc = coorc[coorc.max().sort_values(ascending=False).index]\n",
    "\n",
    "# scale heat-map color encoding logarithmically\n",
    "from matplotlib.colors import LogNorm\n",
    "\n",
    "# shift by one to avoid log-domain error\n",
    "coorc += 1\n",
    "\n",
    "vmin = coorc.min().min()\n",
    "vmax = coorc.max().max()\n",
    "\n",
    "log_norm   = LogNorm(vmin=vmin, vmax=vmax)\n",
    "cbar_ticks = [np.power(10, i) for i in np.arange(np.floor(np.log10(vmin)), 1+np.ceil(np.log10(vmax)))]\n",
    "\n",
    "# plot\n",
    "fig = plt.figure(figsize=(16,16))\n",
    "ax = sns.heatmap(coorc, annot=False, cmap=\"YlGnBu\", fmt='g', norm=log_norm, cbar_kws={\"ticks\": cbar_ticks});\n",
    "ax.invert_yaxis()"
   ]
  },
  {
   "cell_type": "markdown",
   "metadata": {},
   "source": [
    "## Post-Process Ground-Truth Labels"
   ]
  },
  {
   "cell_type": "code",
   "execution_count": 165,
   "metadata": {},
   "outputs": [],
   "source": [
    "synonyms = [['beat', 'beats'],\n",
    "            ['chant', 'chanting'],\n",
    "            ['choir', 'choral'],\n",
    "            ['classical', 'clasical', 'classic'],\n",
    "            ['drum', 'drums'],\n",
    "            ['electro', 'electronic', 'electronica', 'electric'],\n",
    "            ['fast', 'fast beat', 'quick'],\n",
    "            ['female', 'female singer', 'female singing', 'female vocals', 'female voice', 'woman', 'woman singing', 'women'],\n",
    "            ['flute', 'flutes'],\n",
    "            ['guitar', 'guitars'],\n",
    "            ['hard', 'hard rock'],\n",
    "            ['harpsichord', 'harpsicord'],\n",
    "            ['heavy', 'heavy metal', 'metal'],\n",
    "            ['horn', 'horns'],\n",
    "            ['india', 'indian'],\n",
    "            ['jazz', 'jazzy'],\n",
    "            ['male', 'male singer', 'male vocal', 'male vocals', 'male voice', 'man', 'man singing', 'men'],\n",
    "            ['no beat', 'no drums'],\n",
    "            ['no singer', 'no singing', 'no vocal','no vocals', 'no voice', 'no voices', 'instrumental'],\n",
    "            ['opera', 'operatic'],\n",
    "            ['orchestra', 'orchestral'],\n",
    "            ['quiet', 'silence'],\n",
    "            ['singer', 'singing'],\n",
    "            ['space', 'spacey'],\n",
    "            ['string', 'strings'],\n",
    "            ['synth', 'synthesizer'],\n",
    "            ['violin', 'violins'],\n",
    "            ['vocal', 'vocals', 'voice', 'voices'],\n",
    "            ['strange', 'weird']]"
   ]
  },
  {
   "cell_type": "markdown",
   "metadata": {},
   "source": [
    "**Merge synonym tags**"
   ]
  },
  {
   "cell_type": "code",
   "execution_count": 166,
   "metadata": {},
   "outputs": [],
   "source": [
    "for synonym in synonyms:\n",
    "    merged_values = ground_truth_annotations[synonym].sum(axis=1).clip(upper=1)\n",
    "    ground_truth_annotations.drop(synonym, axis=1, inplace=True)\n",
    "    ground_truth_annotations[synonym[0]] = merged_values.values"
   ]
  },
  {
   "cell_type": "code",
   "execution_count": 167,
   "metadata": {},
   "outputs": [
    {
     "data": {
      "text/plain": [
       "(25863, 135)"
      ]
     },
     "execution_count": 167,
     "metadata": {},
     "output_type": "execute_result"
    }
   ],
   "source": [
    "ground_truth_annotations.shape"
   ]
  },
  {
   "cell_type": "markdown",
   "metadata": {},
   "source": [
    "# Prepare Partitions for Tutorial Examples"
   ]
  },
  {
   "cell_type": "markdown",
   "metadata": {},
   "source": [
    "## Instrument Partition"
   ]
  },
  {
   "cell_type": "code",
   "execution_count": 168,
   "metadata": {},
   "outputs": [
    {
     "data": {
      "text/plain": [
       "guitar              4861\n",
       "string              2842\n",
       "drum                2698\n",
       "male                2169\n",
       "piano               2056\n",
       "female              1996\n",
       "violin              1907\n",
       "synth               1734\n",
       "harpsichord         1123\n",
       "flute               1035\n",
       "sitar                926\n",
       "harp                 623\n",
       "cello                575\n",
       "bass                 337\n",
       "classical guitar     225\n",
       "electric guitar      203\n",
       "banjo                194\n",
       "organ                182\n",
       "percussion           171\n",
       "lute                 123\n",
       "horn                 114\n",
       "oboe                 107\n",
       "sax                  101\n",
       "fiddle                86\n",
       "chimes                77\n",
       "trumpet               75\n",
       "keyboard              62\n",
       "acoustic guitar       58\n",
       "bongos                52\n",
       "clarinet              49\n",
       "woodwind              38\n",
       "viola                 34\n",
       "dtype: int64"
      ]
     },
     "execution_count": 168,
     "metadata": {},
     "output_type": "execute_result"
    }
   ],
   "source": [
    "genre = ['acoustic guitar', 'banjo', 'bass', 'bongos','cello','chimes','clarinet','classical guitar',\n",
    "         'drum', 'electric guitar', 'male', 'female', 'fiddle', 'flute', 'guitar','harp','harpsichord',\n",
    "         'horn','keyboard', 'lute','oboe','organ','percussion','piano','sax','sitar','string','synth',\n",
    "         'trumpet','viola','violin','woodwind']\n",
    "\n",
    "gt_example_instruments = ground_truth_annotations[genre]\n",
    "gt_example_instruments.sum().sort_values(ascending=False)"
   ]
  },
  {
   "cell_type": "markdown",
   "metadata": {},
   "source": [
    "Filter tracks with positive label"
   ]
  },
  {
   "cell_type": "code",
   "execution_count": 169,
   "metadata": {},
   "outputs": [],
   "source": [
    "gt_example_instruments = gt_example_instruments[gt_example_instruments.sum(axis=1) > 0]"
   ]
  },
  {
   "cell_type": "markdown",
   "metadata": {},
   "source": [
    "**Shrink Dataset**\n",
    "\n",
    "Because in a tutorial time is always short, the number of tracks are reduced to reduce processing times.\n",
    "\n",
    "* remove small classes"
   ]
  },
  {
   "cell_type": "markdown",
   "metadata": {},
   "source": [
    "Original Size:"
   ]
  },
  {
   "cell_type": "code",
   "execution_count": 170,
   "metadata": {},
   "outputs": [
    {
     "data": {
      "text/plain": [
       "(16327, 32)"
      ]
     },
     "execution_count": 170,
     "metadata": {},
     "output_type": "execute_result"
    }
   ],
   "source": [
    "gt_example_instruments.shape"
   ]
  },
  {
   "cell_type": "markdown",
   "metadata": {},
   "source": [
    "Remove small classes"
   ]
  },
  {
   "cell_type": "code",
   "execution_count": 171,
   "metadata": {},
   "outputs": [],
   "source": [
    "gt_example_instruments = gt_example_instruments[gt_example_instruments.columns[gt_example_instruments.sum() > 100]]\n",
    "gt_example_instruments = gt_example_instruments[gt_example_instruments.sum(axis=1) > 0]"
   ]
  },
  {
   "cell_type": "code",
   "execution_count": 172,
   "metadata": {},
   "outputs": [
    {
     "data": {
      "text/plain": [
       "(16253, 23)"
      ]
     },
     "execution_count": 172,
     "metadata": {},
     "output_type": "execute_result"
    }
   ],
   "source": [
    "gt_example_instruments.shape"
   ]
  },
  {
   "cell_type": "code",
   "execution_count": 173,
   "metadata": {},
   "outputs": [
    {
     "data": {
      "text/plain": [
       "guitar              4861\n",
       "string              2842\n",
       "drum                2698\n",
       "male                2169\n",
       "piano               2056\n",
       "female              1996\n",
       "violin              1907\n",
       "synth               1734\n",
       "harpsichord         1123\n",
       "flute               1035\n",
       "sitar                926\n",
       "harp                 623\n",
       "cello                575\n",
       "bass                 337\n",
       "classical guitar     225\n",
       "electric guitar      203\n",
       "banjo                194\n",
       "organ                182\n",
       "percussion           171\n",
       "lute                 123\n",
       "horn                 114\n",
       "oboe                 107\n",
       "sax                  101\n",
       "dtype: int64"
      ]
     },
     "execution_count": 173,
     "metadata": {},
     "output_type": "execute_result"
    }
   ],
   "source": [
    "gt_example_instruments.sum().sort_values(ascending=False)"
   ]
  },
  {
   "cell_type": "markdown",
   "metadata": {},
   "source": [
    "Resample classes"
   ]
  },
  {
   "cell_type": "code",
   "execution_count": 174,
   "metadata": {},
   "outputs": [],
   "source": [
    "resampled_gt = []\n",
    "\n",
    "for column in gt_example_instruments.T.sum(axis=1).sort_values(ascending=True).index.values:\n",
    "    \n",
    "    subset = gt_example_instruments[gt_example_instruments[column] == 1]\n",
    "    resampled_gt.append(subset.sample(np.min([subset.shape[0], 100]), random_state=1))\n",
    "    \n",
    "gt_example_instruments = pd.concat(resampled_gt, axis=0)"
   ]
  },
  {
   "cell_type": "markdown",
   "metadata": {},
   "source": [
    "Final Set size"
   ]
  },
  {
   "cell_type": "code",
   "execution_count": 175,
   "metadata": {},
   "outputs": [
    {
     "data": {
      "text/plain": [
       "(2300, 23)"
      ]
     },
     "execution_count": 175,
     "metadata": {},
     "output_type": "execute_result"
    }
   ],
   "source": [
    "gt_example_instruments.shape"
   ]
  },
  {
   "cell_type": "code",
   "execution_count": 176,
   "metadata": {},
   "outputs": [
    {
     "data": {
      "text/plain": [
       "guitar              804\n",
       "string              657\n",
       "drum                397\n",
       "violin              382\n",
       "piano               321\n",
       "harpsichord         262\n",
       "flute               255\n",
       "synth               214\n",
       "harp                211\n",
       "male                198\n",
       "cello               175\n",
       "female              170\n",
       "sitar               162\n",
       "classical guitar    158\n",
       "horn                146\n",
       "oboe                137\n",
       "bass                135\n",
       "lute                130\n",
       "sax                 123\n",
       "percussion          117\n",
       "banjo               116\n",
       "electric guitar     111\n",
       "organ               109\n",
       "dtype: int64"
      ]
     },
     "execution_count": 176,
     "metadata": {},
     "output_type": "execute_result"
    }
   ],
   "source": [
    "gt_example_instruments.sum().sort_values(ascending=False)"
   ]
  },
  {
   "cell_type": "markdown",
   "metadata": {},
   "source": [
    "### Store Data"
   ]
  },
  {
   "cell_type": "code",
   "execution_count": 177,
   "metadata": {},
   "outputs": [],
   "source": [
    "# Filter and store Metadata\n",
    "metadata.loc[gt_example_instruments.index].to_csv(\"%s/ismir2018_tut_part_2_instruments_metadata.csv\" % METADATA_PATH)\n",
    "# store labels\n",
    "gt_example_instruments.to_csv(\"%s/ismir2018_tut_part_2_instruments_labels.csv\" % METADATA_PATH)"
   ]
  },
  {
   "cell_type": "markdown",
   "metadata": {},
   "source": [
    "## Genre Partition"
   ]
  },
  {
   "cell_type": "markdown",
   "metadata": {},
   "source": [
    "### Define Genre Labels"
   ]
  },
  {
   "cell_type": "code",
   "execution_count": 178,
   "metadata": {},
   "outputs": [
    {
     "data": {
      "text/plain": [
       "classical    4358\n",
       "techno       2954\n",
       "rock         2371\n",
       "pop           995\n",
       "jazz          555\n",
       "country       541\n",
       "blues         181\n",
       "dtype: int64"
      ]
     },
     "execution_count": 178,
     "metadata": {},
     "output_type": "execute_result"
    }
   ],
   "source": [
    "genre = [\"blues\", \"classical\", \"country\", \"jazz\", \"pop\", \"rock\", \"techno\"]\n",
    "\n",
    "gt_example_genres = ground_truth_annotations[genre]\n",
    "gt_example_genres.sum().sort_values(ascending=False)"
   ]
  },
  {
   "cell_type": "markdown",
   "metadata": {},
   "source": [
    "Filter tracks with positive label"
   ]
  },
  {
   "cell_type": "code",
   "execution_count": 179,
   "metadata": {},
   "outputs": [
    {
     "data": {
      "text/plain": [
       "11955"
      ]
     },
     "execution_count": 179,
     "metadata": {},
     "output_type": "execute_result"
    }
   ],
   "source": [
    "gt_example_genres = gt_example_genres[gt_example_genres.sum(axis=1) > 0]\n",
    "gt_example_genres.sum().sum()"
   ]
  },
  {
   "cell_type": "markdown",
   "metadata": {},
   "source": [
    "Remove Multi-lables instances => convert to single label/multi-class ground-truth"
   ]
  },
  {
   "cell_type": "code",
   "execution_count": 180,
   "metadata": {},
   "outputs": [
    {
     "data": {
      "text/plain": [
       "9777"
      ]
     },
     "execution_count": 180,
     "metadata": {},
     "output_type": "execute_result"
    }
   ],
   "source": [
    "gt_example_genres = gt_example_genres[gt_example_genres[genre].sum(axis=1) == 1]\n",
    "gt_example_genres.sum().sum()"
   ]
  },
  {
   "cell_type": "code",
   "execution_count": 181,
   "metadata": {},
   "outputs": [
    {
     "data": {
      "text/plain": [
       "classical    4303\n",
       "techno       2599\n",
       "rock         1758\n",
       "pop           449\n",
       "jazz          373\n",
       "country       265\n",
       "blues          30\n",
       "dtype: int64"
      ]
     },
     "execution_count": 181,
     "metadata": {},
     "output_type": "execute_result"
    }
   ],
   "source": [
    "gt_example_genres.sum().sort_values(ascending=False)"
   ]
  },
  {
   "cell_type": "markdown",
   "metadata": {},
   "source": [
    "### Balance Dataset"
   ]
  },
  {
   "cell_type": "markdown",
   "metadata": {},
   "source": [
    "Convert One-Hot encoded labels to String Labels"
   ]
  },
  {
   "cell_type": "code",
   "execution_count": 182,
   "metadata": {},
   "outputs": [
    {
     "data": {
      "text/html": [
       "<div>\n",
       "<style scoped>\n",
       "    .dataframe tbody tr th:only-of-type {\n",
       "        vertical-align: middle;\n",
       "    }\n",
       "\n",
       "    .dataframe tbody tr th {\n",
       "        vertical-align: top;\n",
       "    }\n",
       "\n",
       "    .dataframe thead th {\n",
       "        text-align: right;\n",
       "    }\n",
       "</style>\n",
       "<table border=\"1\" class=\"dataframe\">\n",
       "  <thead>\n",
       "    <tr style=\"text-align: right;\">\n",
       "      <th></th>\n",
       "      <th>genre</th>\n",
       "    </tr>\n",
       "  </thead>\n",
       "  <tbody>\n",
       "    <tr>\n",
       "      <th>0</th>\n",
       "      <td>classical</td>\n",
       "    </tr>\n",
       "    <tr>\n",
       "      <th>1</th>\n",
       "      <td>classical</td>\n",
       "    </tr>\n",
       "    <tr>\n",
       "      <th>2</th>\n",
       "      <td>classical</td>\n",
       "    </tr>\n",
       "    <tr>\n",
       "      <th>4</th>\n",
       "      <td>classical</td>\n",
       "    </tr>\n",
       "    <tr>\n",
       "      <th>5</th>\n",
       "      <td>techno</td>\n",
       "    </tr>\n",
       "  </tbody>\n",
       "</table>\n",
       "</div>"
      ],
      "text/plain": [
       "       genre\n",
       "0  classical\n",
       "1  classical\n",
       "2  classical\n",
       "4  classical\n",
       "5     techno"
      ]
     },
     "execution_count": 182,
     "metadata": {},
     "output_type": "execute_result"
    }
   ],
   "source": [
    "gt_labels = gt_example_genres.apply(lambda row: gt_example_genres.columns[np.argmax(row.values)], axis=1).to_frame(\"genre\")\n",
    "gt_labels.head()"
   ]
  },
  {
   "cell_type": "markdown",
   "metadata": {},
   "source": [
    "Size of original set:"
   ]
  },
  {
   "cell_type": "code",
   "execution_count": 183,
   "metadata": {},
   "outputs": [
    {
     "data": {
      "text/plain": [
       "(9777, 1)"
      ]
     },
     "execution_count": 183,
     "metadata": {},
     "output_type": "execute_result"
    }
   ],
   "source": [
    "gt_labels.shape"
   ]
  },
  {
   "cell_type": "markdown",
   "metadata": {},
   "source": [
    "Group by labels and reduce genres to max. 500 tracks"
   ]
  },
  {
   "cell_type": "code",
   "execution_count": 184,
   "metadata": {},
   "outputs": [],
   "source": [
    "gt_labels = gt_labels.groupby(\"genre\").apply(lambda x: x.sample(np.min([x.shape[0], 500]), random_state=2))\n",
    "gt_labels = gt_labels.reset_index(0, drop=True)"
   ]
  },
  {
   "cell_type": "markdown",
   "metadata": {},
   "source": [
    "Size of reduced set:"
   ]
  },
  {
   "cell_type": "code",
   "execution_count": 185,
   "metadata": {},
   "outputs": [
    {
     "data": {
      "text/plain": [
       "(2617, 1)"
      ]
     },
     "execution_count": 185,
     "metadata": {},
     "output_type": "execute_result"
    }
   ],
   "source": [
    "gt_labels.shape"
   ]
  },
  {
   "cell_type": "markdown",
   "metadata": {},
   "source": [
    "Re-encode using One-Hot encoding"
   ]
  },
  {
   "cell_type": "code",
   "execution_count": 186,
   "metadata": {
    "scrolled": true
   },
   "outputs": [
    {
     "data": {
      "text/plain": [
       "techno       500\n",
       "rock         500\n",
       "classical    500\n",
       "pop          449\n",
       "jazz         373\n",
       "country      265\n",
       "blues         30\n",
       "dtype: int64"
      ]
     },
     "execution_count": 186,
     "metadata": {},
     "output_type": "execute_result"
    }
   ],
   "source": [
    "gt_example_genres = pd.get_dummies(gt_labels, prefix=\"\", prefix_sep=\"\")\n",
    "\n",
    "gt_example_genres.sum().sort_values(ascending=False)"
   ]
  },
  {
   "cell_type": "markdown",
   "metadata": {},
   "source": [
    "### Store Data"
   ]
  },
  {
   "cell_type": "code",
   "execution_count": 187,
   "metadata": {},
   "outputs": [],
   "source": [
    "# Filter and store Metadata\n",
    "metadata.loc[gt_example_genres.index].to_csv(\"%s/ismir2018_tut_part_2_genre_metadata.csv\" % METADATA_PATH)\n",
    "# store labels\n",
    "gt_example_genres.to_csv(\"%s/ismir2018_tut_part_2_genre_labels.csv\" % METADATA_PATH)"
   ]
  },
  {
   "cell_type": "markdown",
   "metadata": {},
   "source": [
    "## Mood Partition"
   ]
  },
  {
   "cell_type": "code",
   "execution_count": 188,
   "metadata": {},
   "outputs": [
    {
     "data": {
      "text/plain": [
       "soft       985\n",
       "strange    640\n",
       "dark       193\n",
       "calm       131\n",
       "sad         72\n",
       "airy        66\n",
       "eerie       65\n",
       "light       62\n",
       "scary       49\n",
       "happy       37\n",
       "dtype: int64"
      ]
     },
     "execution_count": 188,
     "metadata": {},
     "output_type": "execute_result"
    }
   ],
   "source": [
    "moods = ['airy','calm','dark','eerie','happy','light','sad','scary','soft','strange']\n",
    "\n",
    "gt_example_moods = ground_truth_annotations[moods]\n",
    "gt_example_moods.sum().sort_values(ascending=False)"
   ]
  },
  {
   "cell_type": "markdown",
   "metadata": {},
   "source": [
    "Filter tracks with positive label"
   ]
  },
  {
   "cell_type": "code",
   "execution_count": 189,
   "metadata": {},
   "outputs": [],
   "source": [
    "gt_example_moods = gt_example_moods[gt_example_moods.sum(axis=1) > 0]"
   ]
  },
  {
   "cell_type": "code",
   "execution_count": 190,
   "metadata": {},
   "outputs": [
    {
     "data": {
      "text/plain": [
       "(2047, 10)"
      ]
     },
     "execution_count": 190,
     "metadata": {},
     "output_type": "execute_result"
    }
   ],
   "source": [
    "gt_example_moods.shape"
   ]
  },
  {
   "cell_type": "markdown",
   "metadata": {},
   "source": [
    "### Store Data"
   ]
  },
  {
   "cell_type": "code",
   "execution_count": 191,
   "metadata": {},
   "outputs": [],
   "source": [
    "# Filter and store Metadata\n",
    "metadata.loc[gt_example_moods.index].to_csv(\"%s/ismir2018_tut_part_2_moods_metadata.csv\" % METADATA_PATH)\n",
    "# store labels\n",
    "gt_example_moods.to_csv(\"%s/ismir2018_tut_part_2_moods_labels.csv\" % METADATA_PATH)"
   ]
  },
  {
   "cell_type": "markdown",
   "metadata": {},
   "source": [
    "## Similarity Retrieval"
   ]
  },
  {
   "cell_type": "code",
   "execution_count": 192,
   "metadata": {},
   "outputs": [],
   "source": [
    "gt_all = pd.concat([gt_example_instruments,\n",
    "                    gt_example_genres,\n",
    "                    gt_example_moods], sort=False)"
   ]
  },
  {
   "cell_type": "code",
   "execution_count": 193,
   "metadata": {},
   "outputs": [
    {
     "data": {
      "text/plain": [
       "(6964, 40)"
      ]
     },
     "execution_count": 193,
     "metadata": {},
     "output_type": "execute_result"
    }
   ],
   "source": [
    "gt_all.shape"
   ]
  },
  {
   "cell_type": "markdown",
   "metadata": {},
   "source": [
    "Drop Duplicates and keep only indexes"
   ]
  },
  {
   "cell_type": "code",
   "execution_count": 194,
   "metadata": {},
   "outputs": [
    {
     "data": {
      "text/plain": [
       "(6067,)"
      ]
     },
     "execution_count": 194,
     "metadata": {},
     "output_type": "execute_result"
    }
   ],
   "source": [
    "gt_all_idx = gt_all.index.drop_duplicates(keep='first')\n",
    "gt_all_idx.shape"
   ]
  },
  {
   "cell_type": "code",
   "execution_count": 195,
   "metadata": {},
   "outputs": [],
   "source": [
    "gt_example_similarity = ground_truth_annotations.loc[gt_all_idx]"
   ]
  },
  {
   "cell_type": "code",
   "execution_count": 196,
   "metadata": {},
   "outputs": [],
   "source": [
    "resampled_gt = []\n",
    "\n",
    "for column in gt_example_similarity.T.sum(axis=1).sort_values(ascending=True).index.values:\n",
    "    \n",
    "    subset = gt_example_similarity[gt_example_similarity[column] == 1]\n",
    "    resampled_gt.append(subset.sample(np.min([subset.shape[0], 30]), random_state=1))\n",
    "    \n",
    "gt_similartiy_retrieval = pd.concat(resampled_gt, axis=0)\n",
    "gt_similartiy_retrieval = gt_similartiy_retrieval[gt_similartiy_retrieval.sum(axis=1) > 0]"
   ]
  },
  {
   "cell_type": "markdown",
   "metadata": {},
   "source": [
    "Size of dataset"
   ]
  },
  {
   "cell_type": "code",
   "execution_count": 197,
   "metadata": {},
   "outputs": [
    {
     "data": {
      "text/plain": [
       "(3662, 135)"
      ]
     },
     "execution_count": 197,
     "metadata": {},
     "output_type": "execute_result"
    }
   ],
   "source": [
    "gt_similartiy_retrieval.shape"
   ]
  },
  {
   "cell_type": "code",
   "execution_count": 198,
   "metadata": {},
   "outputs": [],
   "source": [
    "gt_all_idx = gt_similartiy_retrieval.index.drop_duplicates(keep='first')\n",
    "\n",
    "gt_similartiy_retrieval = ground_truth_annotations.loc[gt_all_idx].sort_index()"
   ]
  },
  {
   "cell_type": "code",
   "execution_count": 199,
   "metadata": {},
   "outputs": [
    {
     "data": {
      "text/plain": [
       "(2561, 135)"
      ]
     },
     "execution_count": 199,
     "metadata": {},
     "output_type": "execute_result"
    }
   ],
   "source": [
    "gt_similartiy_retrieval.shape"
   ]
  },
  {
   "cell_type": "markdown",
   "metadata": {},
   "source": [
    "Frequency distribution of Tags"
   ]
  },
  {
   "cell_type": "code",
   "execution_count": 200,
   "metadata": {},
   "outputs": [
    {
     "data": {
      "image/png": "[encoded data removed]",
      "text/plain": [
       "<Figure size 1152x432 with 1 Axes>"
      ]
     },
     "metadata": {
      "needs_background": "light"
     },
     "output_type": "display_data"
    }
   ],
   "source": [
    "gt_similartiy_retrieval.sum(axis=0).sort_values(ascending=False)[:50].plot(kind='bar', figsize=(16,6));"
   ]
  },
  {
   "cell_type": "markdown",
   "metadata": {},
   "source": [
    "### Store Data"
   ]
  },
  {
   "cell_type": "code",
   "execution_count": 201,
   "metadata": {},
   "outputs": [],
   "source": [
    "# Filter and store Metadata\n",
    "metadata.loc[gt_similartiy_retrieval.index].to_csv(\"%s/ismir2018_tut_part_3_similartiy_metadata.csv\" % METADATA_PATH)\n",
    "# store labels\n",
    "gt_similartiy_retrieval.to_csv(\"%s/ismir2018_tut_part_3_similarity_labels.csv\" % METADATA_PATH)"
   ]
  },
  {
   "cell_type": "markdown",
   "metadata": {},
   "source": [
    "# Prepare Data / Extract Features"
   ]
  },
  {
   "cell_type": "markdown",
   "metadata": {},
   "source": [
    "## Prepare Spectrogram Inputs for Deep Neural Networks"
   ]
  },
  {
   "cell_type": "markdown",
   "metadata": {},
   "source": [
    "Final dataset size:"
   ]
  },
  {
   "cell_type": "code",
   "execution_count": 202,
   "metadata": {},
   "outputs": [
    {
     "data": {
      "text/plain": [
       "(2561,)"
      ]
     },
     "execution_count": 202,
     "metadata": {},
     "output_type": "execute_result"
    }
   ],
   "source": [
    "gt_all_idx.shape"
   ]
  },
  {
   "cell_type": "code",
   "execution_count": 203,
   "metadata": {},
   "outputs": [],
   "source": [
    "metadata_to_extract = metadata.loc[gt_all_idx]"
   ]
  },
  {
   "cell_type": "markdown",
   "metadata": {},
   "source": [
    "### Audio Metadata Analysis\n",
    "\n",
    "Get Length of audio files (in seconds)"
   ]
  },
  {
   "cell_type": "code",
   "execution_count": 204,
   "metadata": {},
   "outputs": [
    {
     "name": "stderr",
     "output_type": "stream",
     "text": [
      "100% (2561 of 2561) |####################| Elapsed Time: 0:03:35 Time:  0:03:35\n"
     ]
    }
   ],
   "source": [
    "pbar = progressbar.ProgressBar(max_value=metadata_to_extract.shape[0])\n",
    "\n",
    "audio_metadata = []\n",
    "\n",
    "for idx, row in pbar(metadata_to_extract.iterrows()):\n",
    "    \n",
    "    try:\n",
    "        # load audio data\n",
    "        wave_data, sample_rate = librosa.core.load(row.mp3_path, \n",
    "                                                   sr    = None, \n",
    "                                                   mono  = False)\n",
    "\n",
    "        audio_metadata.append([wave_data.shape[0], sample_rate])\n",
    "        \n",
    "    except Exception as e:\n",
    "        print(e)"
   ]
  },
  {
   "cell_type": "code",
   "execution_count": 205,
   "metadata": {},
   "outputs": [],
   "source": [
    "audio_metadata = pd.DataFrame(audio_metadata, columns=[\"length\", \"samplerate\"], index=metadata_to_extract.index)"
   ]
  },
  {
   "cell_type": "code",
   "execution_count": 206,
   "metadata": {},
   "outputs": [
    {
     "data": {
      "text/html": [
       "<div>\n",
       "<style scoped>\n",
       "    .dataframe tbody tr th:only-of-type {\n",
       "        vertical-align: middle;\n",
       "    }\n",
       "\n",
       "    .dataframe tbody tr th {\n",
       "        vertical-align: top;\n",
       "    }\n",
       "\n",
       "    .dataframe thead th {\n",
       "        text-align: right;\n",
       "    }\n",
       "</style>\n",
       "<table border=\"1\" class=\"dataframe\">\n",
       "  <thead>\n",
       "    <tr style=\"text-align: right;\">\n",
       "      <th></th>\n",
       "      <th>length</th>\n",
       "      <th>samplerate</th>\n",
       "    </tr>\n",
       "  </thead>\n",
       "  <tbody>\n",
       "    <tr>\n",
       "      <th>count</th>\n",
       "      <td>2561.0</td>\n",
       "      <td>2561.0</td>\n",
       "    </tr>\n",
       "    <tr>\n",
       "      <th>mean</th>\n",
       "      <td>465984.0</td>\n",
       "      <td>16000.0</td>\n",
       "    </tr>\n",
       "    <tr>\n",
       "      <th>std</th>\n",
       "      <td>0.0</td>\n",
       "      <td>0.0</td>\n",
       "    </tr>\n",
       "    <tr>\n",
       "      <th>min</th>\n",
       "      <td>465984.0</td>\n",
       "      <td>16000.0</td>\n",
       "    </tr>\n",
       "    <tr>\n",
       "      <th>25%</th>\n",
       "      <td>465984.0</td>\n",
       "      <td>16000.0</td>\n",
       "    </tr>\n",
       "    <tr>\n",
       "      <th>50%</th>\n",
       "      <td>465984.0</td>\n",
       "      <td>16000.0</td>\n",
       "    </tr>\n",
       "    <tr>\n",
       "      <th>75%</th>\n",
       "      <td>465984.0</td>\n",
       "      <td>16000.0</td>\n",
       "    </tr>\n",
       "    <tr>\n",
       "      <th>max</th>\n",
       "      <td>465984.0</td>\n",
       "      <td>16000.0</td>\n",
       "    </tr>\n",
       "  </tbody>\n",
       "</table>\n",
       "</div>"
      ],
      "text/plain": [
       "         length  samplerate\n",
       "count    2561.0      2561.0\n",
       "mean   465984.0     16000.0\n",
       "std         0.0         0.0\n",
       "min    465984.0     16000.0\n",
       "25%    465984.0     16000.0\n",
       "50%    465984.0     16000.0\n",
       "75%    465984.0     16000.0\n",
       "max    465984.0     16000.0"
      ]
     },
     "execution_count": 206,
     "metadata": {},
     "output_type": "execute_result"
    }
   ],
   "source": [
    "audio_metadata.describe()"
   ]
  },
  {
   "cell_type": "markdown",
   "metadata": {},
   "source": [
    "**Conclusions: Audio metadata anaylsis**\n",
    "\n",
    "* all audio files have same samplerate: 16000Hz\n",
    "* all audio files have same number of samples: 465984\n",
    "* ==> all tracks are 29.124s long\n",
    "* tracks are already single channel (mono)"
   ]
  },
  {
   "cell_type": "code",
   "execution_count": 207,
   "metadata": {},
   "outputs": [
    {
     "name": "stderr",
     "output_type": "stream",
     "text": [
      "100% (2561 of 2561) |####################| Elapsed Time: 0:02:55 Time:  0:02:55\n"
     ]
    }
   ],
   "source": [
    "features = []\n",
    "\n",
    "# length = fft_hop_length * num windows (simplified calculation)\n",
    "length = 1024 * 81\n",
    "\n",
    "# take the segment from the center of the audio file\n",
    "offset = int(465984 - (length / 2))\n",
    "\n",
    "pbar = progressbar.ProgressBar(max_value=metadata_to_extract.shape[0])\n",
    "\n",
    "for idx, row in pbar(metadata_to_extract.iterrows()):\n",
    "    \n",
    "    # load audio data\n",
    "    wave_data, sample_rate = librosa.core.load(row.mp3_path, \n",
    "                                               sr    = None, \n",
    "                                               mono  = True, \n",
    "                                               dtype = np.float32)\n",
    "    \n",
    "    # normalize input amplitude\n",
    "    wave_data = librosa.util.normalize(wave_data)\n",
    "    \n",
    "    # time-frequency transformation with Mel-scaling\n",
    "    spectrogram = librosa.feature.melspectrogram(wave_data[offset:offset+length],\n",
    "                                                 sr=sample_rate,\n",
    "                                                 n_fft      = 2048,\n",
    "                                                 hop_length = 1024,\n",
    "                                                 n_mels     = 80,\n",
    "                                                 power      = 2.0,\n",
    "                                                 norm       = 1)\n",
    "    \n",
    "    # transform to Decibel scale\n",
    "    spectrogram = librosa.power_to_db(spectrogram)\n",
    "\n",
    "    # re-shape to final segment size\n",
    "    spectrogram = spectrogram.astype(np.float32)\n",
    "    spectrogram = spectrogram[:,:80]\n",
    "    \n",
    "    features.append(spectrogram)"
   ]
  },
  {
   "cell_type": "code",
   "execution_count": 208,
   "metadata": {},
   "outputs": [],
   "source": [
    "features = np.asarray(features)"
   ]
  },
  {
   "cell_type": "markdown",
   "metadata": {},
   "source": [
    "### Store Data"
   ]
  },
  {
   "cell_type": "code",
   "execution_count": 209,
   "metadata": {},
   "outputs": [],
   "source": [
    "np.savez(\"%s/ISMIR2018_tut_Magnagtagatune_spectrograms.npz\" % DATASET_PATH, features=features, index=metadata_to_extract.index.values)"
   ]
  },
  {
   "cell_type": "markdown",
   "metadata": {},
   "source": [
    "## Extract Features\n",
    "\n",
    "**Rhythm Patterns Feature-set**\n",
    "\n",
    "RP_extract is a Python library to extract semantic features (so called audio descriptors) from audio files (WAV, MP3, ...).\n",
    "\n",
    "Github: https://github.com/tuwien-musicir/rp_extract"
   ]
  },
  {
   "cell_type": "code",
   "execution_count": 210,
   "metadata": {},
   "outputs": [],
   "source": [
    "import rp_extract as rp"
   ]
  },
  {
   "cell_type": "code",
   "execution_count": null,
   "metadata": {},
   "outputs": [
    {
     "name": "stderr",
     "output_type": "stream",
     "text": [
      "N/A% (0 of 2561) |                       | Elapsed Time: 0:00:00 ETA:  --:--:--C:\\anaconda\\lib\\site-packages\\scipy\\fftpack\\basic.py:160: FutureWarning: Using a non-tuple sequence for multidimensional indexing is deprecated; use `arr[tuple(seq)]` instead of `arr[seq]`. In the future this will be interpreted as an array index, `arr[np.array(seq)]`, which will result either in an error or a different result.\n",
      "  z[index] = x\n",
      " 59% (1530 of 2561) |###########         | Elapsed Time: 0:25:17 ETA:   0:17:20"
     ]
    }
   ],
   "source": [
    "features = []\n",
    "\n",
    "pbar = progressbar.ProgressBar(max_value=metadata_to_extract.shape[0])\n",
    "\n",
    "for idx, row in pbar(metadata_to_extract.iterrows()):\n",
    "    \n",
    "    # load audio data\n",
    "    wave_data, sample_rate = librosa.core.load(row.mp3_path, \n",
    "                                               sr    = 44100, \n",
    "                                               mono  = True, \n",
    "                                               dtype = np.float32)\n",
    "    \n",
    "    # normalize input amplitude\n",
    "    wave_data = librosa.util.normalize(wave_data)\n",
    "    \n",
    "    # extract features\n",
    "    feat = rp.rp_extract(wave_data,\n",
    "                         sample_rate,\n",
    "                         extract_rp          = True,\n",
    "                         extract_ssd         = True,\n",
    "                         extract_rh          = False,\n",
    "                         extract_mvd         = False,\n",
    "                         extract_tssd        = False,\n",
    "                         extract_trh         = False,\n",
    "                         n_bark_bands        = 24,\n",
    "                         spectral_masking    = True,\n",
    "                         transform_db        = True,\n",
    "                         transform_phon      = True,\n",
    "                         transform_sone      = True,\n",
    "                         fluctuation_strength_weighting = True,\n",
    "                         skip_leadin_fadeout = 0,\n",
    "                         step_width          = 1,\n",
    "                         mod_ampl_limit      = 60,\n",
    "                         verbose             = False)\n",
    "    \n",
    "    \n",
    "    features.append(feat)"
   ]
  },
  {
   "cell_type": "code",
   "execution_count": null,
   "metadata": {},
   "outputs": [],
   "source": [
    "featureset_rp  = np.asarray([feat[\"rp\"]  for feat in features])\n",
    "featureset_ssd = np.asarray([feat[\"ssd\"] for feat in features])"
   ]
  },
  {
   "cell_type": "code",
   "execution_count": null,
   "metadata": {},
   "outputs": [],
   "source": [
    "np.savez(\"%s/ISMIR2018_tut_Magnagtagatune_rp_features.npz\" % DATASET_PATH, \n",
    "         rp    = featureset_rp, \n",
    "         ssd   = featureset_ssd, \n",
    "         index = metadata_to_extract.index.values)"
   ]
  }
 ],
 "metadata": {
  "kernelspec": {
   "display_name": "Python 3",
   "language": "python",
   "name": "python3"
  },
  "language_info": {
   "codemirror_mode": {
    "name": "ipython",
    "version": 3
   },
   "file_extension": ".py",
   "mimetype": "text/x-python",
   "name": "python",
   "nbconvert_exporter": "python",
   "pygments_lexer": "ipython3",
   "version": "3.6.6"
  }
 },
 "nbformat": 4,
 "nbformat_minor": 2
}
